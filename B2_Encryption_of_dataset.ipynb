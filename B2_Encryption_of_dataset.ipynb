{
  "cells": [
    {
      "cell_type": "markdown",
      "metadata": {
        "id": "EaCN3DdK_Ug3"
      },
      "source": [
        "<h1> Performing Encryption on the Original Dataset using RSA, Printing and Storing the Encrypted Dataset in a CSV File</h1>"
      ]
    },
    {
      "cell_type": "code",
      "source": [
        "from google.colab import drive\n",
        "drive.mount('/content/drive')"
      ],
      "metadata": {
        "colab": {
          "base_uri": "https://localhost:8080/"
        },
        "id": "0WVJNTUaB6ks",
        "outputId": "435966b1-0d8e-4593-9f88-ef8a34093f78"
      },
      "execution_count": null,
      "outputs": [
        {
          "output_type": "stream",
          "name": "stdout",
          "text": [
            "Drive already mounted at /content/drive; to attempt to forcibly remount, call drive.mount(\"/content/drive\", force_remount=True).\n"
          ]
        }
      ]
    },
    {
      "cell_type": "code",
      "execution_count": null,
      "metadata": {
        "colab": {
          "base_uri": "https://localhost:8080/"
        },
        "id": "MKojG84e_UhB",
        "outputId": "8123887b-dc21-4f5c-c8b4-177c24717bfd"
      },
      "outputs": [
        {
          "output_type": "stream",
          "name": "stdout",
          "text": [
            "P= 179 Q= 149\n",
            "e = 3\n",
            "d= 17563\n"
          ]
        }
      ],
      "source": [
        "import random\n",
        "import csv\n",
        "\n",
        "def primesInRange(x, y):\n",
        "    prime_list = []\n",
        "    for i in range(x, y):\n",
        "        isPrime = True\n",
        "\n",
        "        for num in range(2, i):\n",
        "            if i % num == 0:\n",
        "                isPrime = False\n",
        "        if isPrime:\n",
        "            prime_list.append(i)\n",
        "    return prime_list\n",
        "\n",
        "\n",
        "def gcd(m, n):\n",
        "    if n == 0:\n",
        "        return m\n",
        "    \n",
        "    else:\n",
        "        return gcd(n, m % n)\n",
        "        \n",
        "\n",
        "def decryption(message):\n",
        "    d1 = []\n",
        "    for i in message:\n",
        "        d1.append((i ** d) % n)\n",
        "    return d1\n",
        "\n",
        "prime_list = primesInRange(100, 250)\n",
        "P = random.choice(prime_list)\n",
        "Q = random.choice(prime_list)\n",
        "\n",
        "print('P=',P,'Q=',Q)\n",
        "\n",
        "n = P * Q\n",
        "phi = (P - 1) * (Q - 1)\n",
        "for e in range(2, phi):\n",
        "    if gcd(e, phi) == 1:\n",
        "        break\n",
        "\n",
        "print('e =', e)\n",
        "for i in range(1, 10):\n",
        "    x = 1 + i * phi\n",
        "    if x % e == 0:\n",
        "        d = int(x / e)\n",
        "        break\n",
        "print('d=',d)\n",
        "files_l=['_r.csv','_a.csv','_f.csv','_fn.csv','_g.csv']\n",
        "cn_text=['clean_text_r','clean_text_a','clean_text_f','clean_text_fn','clean_text_g']\n",
        "cn_sent=['Liked','airline_sentiment','setiment','Sentiment','labels']\n",
        "\n",
        "for i in range(len(files_l)):\n",
        "  file = open('/content/drive/MyDrive/Phase 2 changes/clean_data'+files_l[i])\n",
        "  csvreader = csv.reader(file)\n",
        "  next(csvreader)\n",
        "\n",
        "  fields = [cn_sent[i],cn_text[i]]\n",
        "  f = open('/content/drive/MyDrive/Phase 2 changes/encFile'+files_l[i],'w',newline='')\n",
        "  writer = csv.writer(f)\n",
        "  writer.writerow(fields)\n",
        "\n",
        "  for line in csvreader:\n",
        "      s= line[0]\n",
        "      # print(s)\n",
        "      l=s.split()\n",
        "      enc_row = []\n",
        "      sent=int(line[1])\n",
        "      enc_sent = \"\"\n",
        "      for word in l:\n",
        "        enc_word=\"\"\n",
        "        # if word=='0' or word=='1':                          \n",
        "        #   sent=word\n",
        "        # else:\n",
        "        for letter in word:\n",
        "          res = (ord(letter) ** e) % n\n",
        "          enc_word+=str(res)\n",
        "          # enc_word = enc_word+\" \"\n",
        "        enc_sent = enc_sent + enc_word + \" \"\n",
        "      enc_row.append(sent)\n",
        "      enc_row.append(enc_sent)\n",
        "          # result1.append(\" \")\n",
        "      # print('Rows ',line)\n",
        "      # print('Encrypted result',result)\n",
        "      writer.writerow(enc_row)\n",
        "    \n",
        "  file = open('/content/drive/MyDrive/Phase 2 changes/encFile'+files_l[i])\n",
        "  csvreader = csv.reader(file)\n",
        "  next(csvreader)"
      ]
    },
    {
      "cell_type": "code",
      "source": [],
      "metadata": {
        "id": "Ip0xMRzE5r7f"
      },
      "execution_count": null,
      "outputs": []
    }
  ],
  "metadata": {
    "kernelspec": {
      "display_name": "Python 3",
      "language": "python",
      "name": "python3"
    },
    "language_info": {
      "codemirror_mode": {
        "name": "ipython",
        "version": 3
      },
      "file_extension": ".py",
      "mimetype": "text/x-python",
      "name": "python",
      "nbconvert_exporter": "python",
      "pygments_lexer": "ipython3",
      "version": "3.8.8"
    },
    "colab": {
      "provenance": []
    }
  },
  "nbformat": 4,
  "nbformat_minor": 0
}