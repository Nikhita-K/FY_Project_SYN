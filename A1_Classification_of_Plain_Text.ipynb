{
  "nbformat": 4,
  "nbformat_minor": 0,
  "metadata": {
    "colab": {
      "provenance": [],
      "collapsed_sections": [
        "_yoqOG7DPrk8",
        "_v-x_w4DQLEO",
        "_uEIEbvKQzEq",
        "Sv64nCCEHV55"
      ]
    },
    "kernelspec": {
      "name": "python3",
      "display_name": "Python 3"
    },
    "language_info": {
      "name": "python"
    }
  },
  "cells": [
    {
      "cell_type": "markdown",
      "source": [
        "#Importing Libraries"
      ],
      "metadata": {
        "id": "fJgkHoUCvCjO"
      }
    },
    {
      "cell_type": "code",
      "source": [
        "from google.colab import drive\n",
        "drive.mount('/content/drive')"
      ],
      "metadata": {
        "colab": {
          "base_uri": "https://localhost:8080/"
        },
        "id": "ufwZ9FOdIcmo",
        "outputId": "01488fba-a6db-445b-8ef1-185991fe552a"
      },
      "execution_count": null,
      "outputs": [
        {
          "output_type": "stream",
          "name": "stdout",
          "text": [
            "Mounted at /content/drive\n"
          ]
        }
      ]
    },
    {
      "cell_type": "code",
      "execution_count": null,
      "metadata": {
        "id": "kJp1xWJBvik5"
      },
      "outputs": [],
      "source": [
        "import pandas as pd\n",
        "import numpy as np\n",
        "#for text pre-processing\n",
        "import seaborn as sns\n",
        "import re, string\n",
        "import nltk\n",
        "import time"
      ]
    },
    {
      "cell_type": "code",
      "source": [
        "from nltk.tokenize import word_tokenize\n",
        "from nltk.corpus import stopwords\n",
        "from nltk.tokenize import word_tokenize\n",
        "from nltk.stem import SnowballStemmer\n",
        "from nltk.corpus import wordnet\n",
        "from nltk.stem import WordNetLemmatizer\n",
        "nltk.download('punkt')\n",
        "nltk.download('averaged_perceptron_tagger')\n",
        "nltk.download('wordnet')\n",
        "nltk.download('stopwords')\n",
        "nltk.download('omw-1.4')"
      ],
      "metadata": {
        "colab": {
          "base_uri": "https://localhost:8080/"
        },
        "id": "liZ-quw3v18n",
        "outputId": "8cf02664-e48f-464c-d432-ef415248093a"
      },
      "execution_count": null,
      "outputs": [
        {
          "output_type": "stream",
          "name": "stderr",
          "text": [
            "[nltk_data] Downloading package punkt to /root/nltk_data...\n",
            "[nltk_data]   Unzipping tokenizers/punkt.zip.\n",
            "[nltk_data] Downloading package averaged_perceptron_tagger to\n",
            "[nltk_data]     /root/nltk_data...\n",
            "[nltk_data]   Unzipping taggers/averaged_perceptron_tagger.zip.\n",
            "[nltk_data] Downloading package wordnet to /root/nltk_data...\n",
            "[nltk_data] Downloading package stopwords to /root/nltk_data...\n",
            "[nltk_data]   Unzipping corpora/stopwords.zip.\n",
            "[nltk_data] Downloading package omw-1.4 to /root/nltk_data...\n"
          ]
        },
        {
          "output_type": "execute_result",
          "data": {
            "text/plain": [
              "True"
            ]
          },
          "metadata": {},
          "execution_count": 3
        }
      ]
    },
    {
      "cell_type": "code",
      "source": [
        "#for model-building\n",
        "from sklearn.model_selection import train_test_split\n",
        "from sklearn.linear_model import LogisticRegression\n",
        "from sklearn.naive_bayes import MultinomialNB\n",
        "from sklearn.metrics import classification_report, f1_score, accuracy_score, confusion_matrix\n",
        "from sklearn.metrics import roc_curve, auc, roc_auc_score\n",
        "# bag of words\n",
        "from sklearn.feature_extraction.text import TfidfVectorizer\n",
        "from sklearn.feature_extraction.text import CountVectorizer\n",
        "#for word embedding\n",
        "import gensim\n",
        "from gensim.models import Word2Vec"
      ],
      "metadata": {
        "id": "g9xL7Fv1v5LB"
      },
      "execution_count": null,
      "outputs": []
    },
    {
      "cell_type": "markdown",
      "source": [
        "# EDA - The Movie Review Dataset"
      ],
      "metadata": {
        "id": "kCC_SVqKvR9a"
      }
    },
    {
      "cell_type": "code",
      "source": [
        "df=pd.read_csv(\"/content/drive/MyDrive/FY_Project_Phase 1/review.csv\")"
      ],
      "metadata": {
        "id": "4RyLIUU6v7UI"
      },
      "execution_count": null,
      "outputs": []
    },
    {
      "cell_type": "code",
      "source": [
        "df.head()"
      ],
      "metadata": {
        "colab": {
          "base_uri": "https://localhost:8080/",
          "height": 206
        },
        "id": "VhKKJIofwyfx",
        "outputId": "f9a05030-5e35-4691-914c-7e7fe21c3a94"
      },
      "execution_count": null,
      "outputs": [
        {
          "output_type": "execute_result",
          "data": {
            "text/plain": [
              "                                              review  sentiment\n",
              "0  One of the other reviewers has mentioned that ...          1\n",
              "1  A wonderful little production. <br /><br />The...          1\n",
              "2  I thought this was a wonderful way to spend ti...          1\n",
              "3  Basically there's a family where a little boy ...          0\n",
              "4  Petter Mattei's \"Love in the Time of Money\" is...          1"
            ],
            "text/html": [
              "\n",
              "  <div id=\"df-c295e666-3fb5-403e-9a13-8c64dcb46724\">\n",
              "    <div class=\"colab-df-container\">\n",
              "      <div>\n",
              "<style scoped>\n",
              "    .dataframe tbody tr th:only-of-type {\n",
              "        vertical-align: middle;\n",
              "    }\n",
              "\n",
              "    .dataframe tbody tr th {\n",
              "        vertical-align: top;\n",
              "    }\n",
              "\n",
              "    .dataframe thead th {\n",
              "        text-align: right;\n",
              "    }\n",
              "</style>\n",
              "<table border=\"1\" class=\"dataframe\">\n",
              "  <thead>\n",
              "    <tr style=\"text-align: right;\">\n",
              "      <th></th>\n",
              "      <th>review</th>\n",
              "      <th>sentiment</th>\n",
              "    </tr>\n",
              "  </thead>\n",
              "  <tbody>\n",
              "    <tr>\n",
              "      <th>0</th>\n",
              "      <td>One of the other reviewers has mentioned that ...</td>\n",
              "      <td>1</td>\n",
              "    </tr>\n",
              "    <tr>\n",
              "      <th>1</th>\n",
              "      <td>A wonderful little production. &lt;br /&gt;&lt;br /&gt;The...</td>\n",
              "      <td>1</td>\n",
              "    </tr>\n",
              "    <tr>\n",
              "      <th>2</th>\n",
              "      <td>I thought this was a wonderful way to spend ti...</td>\n",
              "      <td>1</td>\n",
              "    </tr>\n",
              "    <tr>\n",
              "      <th>3</th>\n",
              "      <td>Basically there's a family where a little boy ...</td>\n",
              "      <td>0</td>\n",
              "    </tr>\n",
              "    <tr>\n",
              "      <th>4</th>\n",
              "      <td>Petter Mattei's \"Love in the Time of Money\" is...</td>\n",
              "      <td>1</td>\n",
              "    </tr>\n",
              "  </tbody>\n",
              "</table>\n",
              "</div>\n",
              "      <button class=\"colab-df-convert\" onclick=\"convertToInteractive('df-c295e666-3fb5-403e-9a13-8c64dcb46724')\"\n",
              "              title=\"Convert this dataframe to an interactive table.\"\n",
              "              style=\"display:none;\">\n",
              "        \n",
              "  <svg xmlns=\"http://www.w3.org/2000/svg\" height=\"24px\"viewBox=\"0 0 24 24\"\n",
              "       width=\"24px\">\n",
              "    <path d=\"M0 0h24v24H0V0z\" fill=\"none\"/>\n",
              "    <path d=\"M18.56 5.44l.94 2.06.94-2.06 2.06-.94-2.06-.94-.94-2.06-.94 2.06-2.06.94zm-11 1L8.5 8.5l.94-2.06 2.06-.94-2.06-.94L8.5 2.5l-.94 2.06-2.06.94zm10 10l.94 2.06.94-2.06 2.06-.94-2.06-.94-.94-2.06-.94 2.06-2.06.94z\"/><path d=\"M17.41 7.96l-1.37-1.37c-.4-.4-.92-.59-1.43-.59-.52 0-1.04.2-1.43.59L10.3 9.45l-7.72 7.72c-.78.78-.78 2.05 0 2.83L4 21.41c.39.39.9.59 1.41.59.51 0 1.02-.2 1.41-.59l7.78-7.78 2.81-2.81c.8-.78.8-2.07 0-2.86zM5.41 20L4 18.59l7.72-7.72 1.47 1.35L5.41 20z\"/>\n",
              "  </svg>\n",
              "      </button>\n",
              "      \n",
              "  <style>\n",
              "    .colab-df-container {\n",
              "      display:flex;\n",
              "      flex-wrap:wrap;\n",
              "      gap: 12px;\n",
              "    }\n",
              "\n",
              "    .colab-df-convert {\n",
              "      background-color: #E8F0FE;\n",
              "      border: none;\n",
              "      border-radius: 50%;\n",
              "      cursor: pointer;\n",
              "      display: none;\n",
              "      fill: #1967D2;\n",
              "      height: 32px;\n",
              "      padding: 0 0 0 0;\n",
              "      width: 32px;\n",
              "    }\n",
              "\n",
              "    .colab-df-convert:hover {\n",
              "      background-color: #E2EBFA;\n",
              "      box-shadow: 0px 1px 2px rgba(60, 64, 67, 0.3), 0px 1px 3px 1px rgba(60, 64, 67, 0.15);\n",
              "      fill: #174EA6;\n",
              "    }\n",
              "\n",
              "    [theme=dark] .colab-df-convert {\n",
              "      background-color: #3B4455;\n",
              "      fill: #D2E3FC;\n",
              "    }\n",
              "\n",
              "    [theme=dark] .colab-df-convert:hover {\n",
              "      background-color: #434B5C;\n",
              "      box-shadow: 0px 1px 3px 1px rgba(0, 0, 0, 0.15);\n",
              "      filter: drop-shadow(0px 1px 2px rgba(0, 0, 0, 0.3));\n",
              "      fill: #FFFFFF;\n",
              "    }\n",
              "  </style>\n",
              "\n",
              "      <script>\n",
              "        const buttonEl =\n",
              "          document.querySelector('#df-c295e666-3fb5-403e-9a13-8c64dcb46724 button.colab-df-convert');\n",
              "        buttonEl.style.display =\n",
              "          google.colab.kernel.accessAllowed ? 'block' : 'none';\n",
              "\n",
              "        async function convertToInteractive(key) {\n",
              "          const element = document.querySelector('#df-c295e666-3fb5-403e-9a13-8c64dcb46724');\n",
              "          const dataTable =\n",
              "            await google.colab.kernel.invokeFunction('convertToInteractive',\n",
              "                                                     [key], {});\n",
              "          if (!dataTable) return;\n",
              "\n",
              "          const docLinkHtml = 'Like what you see? Visit the ' +\n",
              "            '<a target=\"_blank\" href=https://colab.research.google.com/notebooks/data_table.ipynb>data table notebook</a>'\n",
              "            + ' to learn more about interactive tables.';\n",
              "          element.innerHTML = '';\n",
              "          dataTable['output_type'] = 'display_data';\n",
              "          await google.colab.output.renderOutput(dataTable, element);\n",
              "          const docLink = document.createElement('div');\n",
              "          docLink.innerHTML = docLinkHtml;\n",
              "          element.appendChild(docLink);\n",
              "        }\n",
              "      </script>\n",
              "    </div>\n",
              "  </div>\n",
              "  "
            ]
          },
          "metadata": {},
          "execution_count": 6
        }
      ]
    },
    {
      "cell_type": "code",
      "source": [
        "df_train=df[:335]\n",
        "df_test=df[335:501]"
      ],
      "metadata": {
        "id": "uJ-WYPCzywMc"
      },
      "execution_count": null,
      "outputs": []
    },
    {
      "cell_type": "code",
      "source": [
        "df_train.shape"
      ],
      "metadata": {
        "colab": {
          "base_uri": "https://localhost:8080/"
        },
        "id": "ZY_IyZkbzD8V",
        "outputId": "b5ea9dbc-4a49-4194-d861-f3029e700469"
      },
      "execution_count": null,
      "outputs": [
        {
          "output_type": "execute_result",
          "data": {
            "text/plain": [
              "(335, 2)"
            ]
          },
          "metadata": {},
          "execution_count": 8
        }
      ]
    },
    {
      "cell_type": "code",
      "source": [
        "df_test.shape"
      ],
      "metadata": {
        "colab": {
          "base_uri": "https://localhost:8080/"
        },
        "id": "0kvqQqsJzJAM",
        "outputId": "1011f8d7-d4de-47f6-fd7c-e82765909e87"
      },
      "execution_count": null,
      "outputs": [
        {
          "output_type": "execute_result",
          "data": {
            "text/plain": [
              "(166, 2)"
            ]
          },
          "metadata": {},
          "execution_count": 9
        }
      ]
    },
    {
      "cell_type": "code",
      "source": [
        "x=df_train['sentiment'].value_counts()\n",
        "print(x)\n",
        "sns.barplot(x.index,x)"
      ],
      "metadata": {
        "colab": {
          "base_uri": "https://localhost:8080/",
          "height": 391
        },
        "id": "DmVjpaEHyICG",
        "outputId": "26c6654a-642f-45b6-bf63-13edbf36e01c"
      },
      "execution_count": null,
      "outputs": [
        {
          "output_type": "stream",
          "name": "stdout",
          "text": [
            "0    176\n",
            "1    159\n",
            "Name: sentiment, dtype: int64\n"
          ]
        },
        {
          "output_type": "stream",
          "name": "stderr",
          "text": [
            "/usr/local/lib/python3.8/dist-packages/seaborn/_decorators.py:36: FutureWarning: Pass the following variables as keyword args: x, y. From version 0.12, the only valid positional argument will be `data`, and passing other arguments without an explicit keyword will result in an error or misinterpretation.\n",
            "  warnings.warn(\n"
          ]
        },
        {
          "output_type": "execute_result",
          "data": {
            "text/plain": [
              "<AxesSubplot:ylabel='sentiment'>"
            ]
          },
          "metadata": {},
          "execution_count": 10
        },
        {
          "output_type": "display_data",
          "data": {
            "text/plain": [
              "<Figure size 432x288 with 1 Axes>"
            ],
            "image/png": "[encoded data removed]"
          },
          "metadata": {
            "needs_background": "light"
          }
        }
      ]
    },
    {
      "cell_type": "markdown",
      "source": [
        "# Processing the dataset using NLP techniques\n",
        "##### Like removal of stopwords, Lemmatization, Tokenization"
      ],
      "metadata": {
        "id": "x5F6ial7ve-a"
      }
    },
    {
      "cell_type": "code",
      "source": [
        "#convert to lowercase, strip and remove punctuations\n",
        "def preprocess(text):\n",
        "    text = text.lower() \n",
        "    text=text.strip()  \n",
        "    text=re.compile('<.*?>').sub('', text) \n",
        "    text = re.compile('[%s]' % re.escape(string.punctuation)).sub(' ', text)  \n",
        "    text = re.sub('\\s+', ' ', text)  \n",
        "    text = re.sub(r'\\[[0-9]*\\]',' ',text) \n",
        "    text=re.sub(r'[^\\w\\s]', '', str(text).lower().strip())\n",
        "    text = re.sub(r'\\d',' ',text) \n",
        "    text = re.sub(r'\\s+',' ',text) \n",
        "    return text\n",
        "\n",
        " \n",
        "# STOPWORD REMOVAL\n",
        "def stopword(string):\n",
        "    a= [i for i in string.split() if i not in stopwords.words('english')]\n",
        "    return ' '.join(a)\n",
        "#LEMMATIZATION\n",
        "# Initialize the lemmatizer\n",
        "wl = WordNetLemmatizer()\n",
        " \n",
        "# This is a helper function to map NTLK position tags\n",
        "def get_wordnet_pos(tag):\n",
        "    if tag.startswith('J'):\n",
        "        return wordnet.ADJ\n",
        "    elif tag.startswith('V'):\n",
        "        return wordnet.VERB\n",
        "    elif tag.startswith('N'):\n",
        "        return wordnet.NOUN\n",
        "    elif tag.startswith('R'):\n",
        "        return wordnet.ADV\n",
        "    else:\n",
        "        return wordnet.NOUN\n",
        "# Tokenize the sentence\n",
        "def lemmatizer(string):\n",
        "    word_pos_tags = nltk.pos_tag(word_tokenize(string)) # Get position tags\n",
        "    a=[wl.lemmatize(tag[0], get_wordnet_pos(tag[1])) for idx, tag in enumerate(word_pos_tags)] # Map the position tag and lemmatize the word/token\n",
        "    return \" \".join(a)"
      ],
      "metadata": {
        "id": "UK6D-nLozMxj"
      },
      "execution_count": null,
      "outputs": []
    },
    {
      "cell_type": "code",
      "source": [
        "def finalpreprocess(string):\n",
        "    return lemmatizer(stopword(preprocess(string)))\n",
        "df_train['clean_text'] = df_train['review'].apply(lambda x: finalpreprocess(x))\n",
        "df_train.head()\n",
        "df_train.to_csv('/content/drive/MyDrive/FY_Project_Phase 1/clean_data.csv')"
      ],
      "metadata": {
        "colab": {
          "base_uri": "https://localhost:8080/"
        },
        "id": "lb21ePli1Mvr",
        "outputId": "5e58b39e-2975-4fe1-9d53-035552f8b70b"
      },
      "execution_count": null,
      "outputs": [
        {
          "output_type": "stream",
          "name": "stderr",
          "text": [
            "<ipython-input-12-d50919eacd2a>:3: SettingWithCopyWarning: \n",
            "A value is trying to be set on a copy of a slice from a DataFrame.\n",
            "Try using .loc[row_indexer,col_indexer] = value instead\n",
            "\n",
            "See the caveats in the documentation: https://pandas.pydata.org/pandas-docs/stable/user_guide/indexing.html#returning-a-view-versus-a-copy\n",
            "  df_train['clean_text'] = df_train['review'].apply(lambda x: finalpreprocess(x))\n"
          ]
        }
      ]
    },
    {
      "cell_type": "markdown",
      "source": [
        "Splitting Dataset into Train-Test Data"
      ],
      "metadata": {
        "id": "mS87y-mqv8Ax"
      }
    },
    {
      "cell_type": "code",
      "source": [
        "X_train, X_test, y_train, y_test = train_test_split(df_train[\"clean_text\"],df_train[\"sentiment\"],test_size=0.2,shuffle=True)"
      ],
      "metadata": {
        "id": "MpQk33Jl1VcL"
      },
      "execution_count": null,
      "outputs": []
    },
    {
      "cell_type": "markdown",
      "source": [
        "Converting text data to vectors to perform Classification"
      ],
      "metadata": {
        "id": "UuYUZQo3wSEU"
      }
    },
    {
      "cell_type": "code",
      "source": [
        "tfidf_vectorizer = TfidfVectorizer(use_idf=True)\n",
        "X_train_vectors_tfidf = tfidf_vectorizer.fit_transform(X_train) \n",
        "X_test_vectors_tfidf = tfidf_vectorizer.transform(X_test)"
      ],
      "metadata": {
        "id": "sVPp1Eq17lOf"
      },
      "execution_count": null,
      "outputs": []
    },
    {
      "cell_type": "markdown",
      "source": [
        "Glimpse of the Vector data"
      ],
      "metadata": {
        "id": "j4mmboMhxMQy"
      }
    },
    {
      "cell_type": "code",
      "source": [
        "print(X_train_vectors_tfidf)"
      ],
      "metadata": {
        "colab": {
          "base_uri": "https://localhost:8080/"
        },
        "id": "miKup2r9MJm0",
        "outputId": "2a27ce98-2b41-4ff5-9bc9-924364bd40a2"
      },
      "execution_count": null,
      "outputs": [
        {
          "output_type": "stream",
          "name": "stdout",
          "text": [
            "  (0, 1304)\t0.23861647539670275\n",
            "  (0, 1951)\t0.16617071103896244\n",
            "  (0, 6522)\t0.23861647539670275\n",
            "  (0, 4340)\t0.1879638223088306\n",
            "  (0, 3729)\t0.06830856931815547\n",
            "  (0, 1389)\t0.23861647539670275\n",
            "  (0, 2712)\t0.19419655835300637\n",
            "  (0, 4136)\t0.21059062808265883\n",
            "  (0, 2695)\t0.07770699827720028\n",
            "  (0, 2332)\t0.23861647539670275\n",
            "  (0, 5991)\t0.11011901641087461\n",
            "  (0, 4080)\t0.12779677335204434\n",
            "  (0, 1018)\t0.13490851686125674\n",
            "  (0, 1371)\t0.09977092603800039\n",
            "  (0, 4691)\t0.09786036191379857\n",
            "  (0, 1816)\t0.23861647539670275\n",
            "  (0, 4619)\t0.21059062808265883\n",
            "  (0, 6470)\t0.21059062808265883\n",
            "  (0, 1298)\t0.22222240566705032\n",
            "  (0, 6481)\t0.08561127843131015\n",
            "  (0, 6224)\t0.17354247313520063\n",
            "  (0, 2763)\t0.20156832044924455\n",
            "  (0, 2245)\t0.14354390526513422\n",
            "  (0, 6759)\t0.23861647539670275\n",
            "  (0, 6423)\t0.12526890332974558\n",
            "  :\t:\n",
            "  (267, 6402)\t0.11632882538934855\n",
            "  (267, 6594)\t0.13418667225804987\n",
            "  (267, 4352)\t0.08405335795385016\n",
            "  (267, 5281)\t0.08499031310391549\n",
            "  (267, 2159)\t0.0891212892831033\n",
            "  (267, 457)\t0.07070936886359765\n",
            "  (267, 2469)\t0.2326576507786971\n",
            "  (267, 4794)\t0.11632882538934855\n",
            "  (267, 5068)\t0.08227586513760489\n",
            "  (267, 3888)\t0.06761403964176073\n",
            "  (267, 1340)\t0.11329433073442786\n",
            "  (267, 2392)\t0.061193386757494375\n",
            "  (267, 1543)\t0.07618568008233238\n",
            "  (267, 1212)\t0.061193386757494375\n",
            "  (267, 5802)\t0.13331945907690015\n",
            "  (267, 4480)\t0.04204248006366005\n",
            "  (267, 5180)\t0.05637017583717752\n",
            "  (267, 3874)\t0.04240535123308528\n",
            "  (267, 1248)\t0.08802480775883617\n",
            "  (267, 3537)\t0.25497093931174647\n",
            "  (267, 3053)\t0.10191120482255152\n",
            "  (267, 3694)\t0.09404352695103374\n",
            "  (267, 4328)\t0.06357324005837717\n",
            "  (267, 7023)\t0.156126399338698\n",
            "  (267, 6481)\t0.054550825290980015\n"
          ]
        }
      ]
    },
    {
      "cell_type": "markdown",
      "source": [
        "# CLASSIFICATION BEGINS"
      ],
      "metadata": {
        "id": "jZWBoiu3j1sN"
      }
    },
    {
      "cell_type": "markdown",
      "source": [
        "## Naive Bayes"
      ],
      "metadata": {
        "id": "_yoqOG7DPrk8"
      }
    },
    {
      "cell_type": "code",
      "source": [
        "nb_tfidf = MultinomialNB()\n",
        "start = time.time()\n",
        "nb_tfidf.fit(X_train_vectors_tfidf, y_train)  \n",
        "end = time.time()\n",
        "#Predict y value for test dataset\n",
        "y_predict = nb_tfidf.predict(X_test_vectors_tfidf)\n",
        "y_prob = nb_tfidf.predict_proba(X_test_vectors_tfidf)[:,1]\n",
        "score_nb = round(accuracy_score(y_predict,y_test)*100,2)\n",
        "print(\"The accuracy score is: \" + str(score_nb)) \n",
        "print(classification_report(y_test,y_predict))\n",
        "print('Confusion Matrix:',confusion_matrix(y_test, y_predict))\n",
        "\n",
        "from sklearn.metrics import f1_score\n",
        "print(\"f1 score\",f1_score(y_test, y_predict))\n",
        "\n",
        "from sklearn.metrics import precision_score\n",
        "print(\"precision \",precision_score(y_test, y_predict, average='macro'))\n",
        "\n",
        "from sklearn.metrics import recall_score\n",
        "print(\"recall  \",recall_score(y_test, y_predict, average='macro'))\n",
        "\n",
        "fpr, tpr, thresholds = roc_curve(y_test, y_prob)\n",
        "roc_auc = auc(fpr, tpr)\n",
        "print('AUC:', roc_auc)\n",
        "print(\"The time of execution of above program is :\",\n",
        "      (end-start) * 10**3, \"ms\")"
      ],
      "metadata": {
        "colab": {
          "base_uri": "https://localhost:8080/"
        },
        "id": "RXFE0GXpOcHQ",
        "outputId": "b992528d-feed-4f24-b6e8-86493f87adf8"
      },
      "execution_count": null,
      "outputs": [
        {
          "output_type": "stream",
          "name": "stdout",
          "text": [
            "The accuracy score is: 61.19\n",
            "              precision    recall  f1-score   support\n",
            "\n",
            "           0       0.57      1.00      0.72        34\n",
            "           1       1.00      0.21      0.35        33\n",
            "\n",
            "    accuracy                           0.61        67\n",
            "   macro avg       0.78      0.61      0.54        67\n",
            "weighted avg       0.78      0.61      0.54        67\n",
            "\n",
            "Confusion Matrix: [[34  0]\n",
            " [26  7]]\n",
            "f1 score 0.35\n",
            "precision  0.7833333333333333\n",
            "recall   0.6060606060606061\n",
            "AUC: 0.8431372549019609\n",
            "The time of execution of above program is : 20.612716674804688 ms\n"
          ]
        }
      ]
    },
    {
      "cell_type": "markdown",
      "source": [
        "## Random Forest"
      ],
      "metadata": {
        "id": "2dI0hZlaPuQI"
      }
    },
    {
      "cell_type": "code",
      "source": [
        "from sklearn.ensemble import RandomForestClassifier\n",
        "max_accuracy = 0\n",
        "for x in range(200):\n",
        "  rf = RandomForestClassifier(random_state=x) \n",
        "  start = time.time()\n",
        "  rf.fit(X_train_vectors_tfidf,y_train)\n",
        "  end = time.time()\n",
        "  Y_pred_rf = rf.predict(X_test_vectors_tfidf)\n",
        "  current_accuracy = round(accuracy_score(Y_pred_rf,y_test)*100,2)\n",
        "  if(current_accuracy>max_accuracy): \n",
        "    max_accuracy = current_accuracy \n",
        "    best_x = x"
      ],
      "metadata": {
        "id": "j5Cn1bihOSNP"
      },
      "execution_count": null,
      "outputs": []
    },
    {
      "cell_type": "code",
      "source": [
        "rf = RandomForestClassifier(random_state=best_x)\n",
        "rf.fit(X_train_vectors_tfidf,y_train)\n",
        "Y_pred_rf = rf.predict(X_test_vectors_tfidf)\n",
        "y_prob = rf.predict_proba(X_test_vectors_tfidf)[:,1]"
      ],
      "metadata": {
        "id": "jNkTzIXJOSKA"
      },
      "execution_count": null,
      "outputs": []
    },
    {
      "cell_type": "code",
      "source": [
        "print (Y_pred_rf.shape)"
      ],
      "metadata": {
        "colab": {
          "base_uri": "https://localhost:8080/"
        },
        "id": "VF7ISNghOSHH",
        "outputId": "a57e96ea-3ddd-43c7-fa3f-4669b4890086"
      },
      "execution_count": null,
      "outputs": [
        {
          "output_type": "stream",
          "name": "stdout",
          "text": [
            "(67,)\n"
          ]
        }
      ]
    },
    {
      "cell_type": "code",
      "source": [
        "score_rf = round(accuracy_score (Y_pred_rf,y_test)*100,2)\n",
        "print(\"The accuracy score achieved using Decision Tree is: \"+str(score_rf)+\" %\")\n",
        "print(classification_report(y_test,Y_pred_rf))\n",
        "print('Confusion Matrix:',confusion_matrix(y_test, Y_pred_rf))\n",
        "\n",
        "from sklearn.metrics import f1_score\n",
        "print(\"f1 score\",f1_score(y_test, Y_pred_rf))\n",
        "\n",
        "from sklearn.metrics import precision_score\n",
        "print(\"precision \",precision_score(y_test, Y_pred_rf, average='macro'))\n",
        "\n",
        "from sklearn.metrics import recall_score\n",
        "print(\"recall  \",recall_score(y_test, Y_pred_rf, average='macro'))\n",
        "\n",
        "fpr, tpr, thresholds = roc_curve(y_test, y_prob)\n",
        "roc_auc = auc(fpr, tpr)\n",
        "print('AUC:', roc_auc)\n",
        "print(\"The time of execution of above program is :\",\n",
        "      (end-start) * 10**3, \"ms\")"
      ],
      "metadata": {
        "colab": {
          "base_uri": "https://localhost:8080/"
        },
        "id": "exH1wFrlOSEJ",
        "outputId": "a37e5c6b-80aa-44f6-8930-c161b819598d"
      },
      "execution_count": null,
      "outputs": [
        {
          "output_type": "stream",
          "name": "stdout",
          "text": [
            "The accuracy score achieved using Decision Tree is: 79.1 %\n",
            "              precision    recall  f1-score   support\n",
            "\n",
            "           0       0.75      0.88      0.81        34\n",
            "           1       0.85      0.70      0.77        33\n",
            "\n",
            "    accuracy                           0.79        67\n",
            "   macro avg       0.80      0.79      0.79        67\n",
            "weighted avg       0.80      0.79      0.79        67\n",
            "\n",
            "Confusion Matrix: [[30  4]\n",
            " [10 23]]\n",
            "f1 score 0.7666666666666667\n",
            "precision  0.8009259259259259\n",
            "recall   0.7896613190730838\n",
            "AUC: 0.8413547237076648\n",
            "The time of execution of above program is : 198.4243392944336 ms\n"
          ]
        }
      ]
    },
    {
      "cell_type": "markdown",
      "source": [
        "## Logistic Regression"
      ],
      "metadata": {
        "id": "BGFLKQsFPyKf"
      }
    },
    {
      "cell_type": "code",
      "source": [
        "from sklearn.linear_model import LogisticRegression\n",
        "lr = LogisticRegression()\n",
        "start = time.time()\n",
        "lr.fit(X_train_vectors_tfidf,y_train)\n",
        "end = time.time()\n",
        "Y_pred_lr = lr.predict(X_test_vectors_tfidf)\n",
        "y_prob = lr.predict_proba(X_test_vectors_tfidf)[:,1]"
      ],
      "metadata": {
        "id": "g91izXuqOSBo"
      },
      "execution_count": null,
      "outputs": []
    },
    {
      "cell_type": "code",
      "source": [
        "Y_pred_lr.shape"
      ],
      "metadata": {
        "colab": {
          "base_uri": "https://localhost:8080/"
        },
        "id": "9Ejt7xHLOR-2",
        "outputId": "cdc26259-ea27-4ea8-9a01-02007f319b17"
      },
      "execution_count": null,
      "outputs": [
        {
          "output_type": "execute_result",
          "data": {
            "text/plain": [
              "(67,)"
            ]
          },
          "metadata": {},
          "execution_count": 24
        }
      ]
    },
    {
      "cell_type": "code",
      "source": [
        "score_lr = round(accuracy_score(Y_pred_lr,y_test)*100,2)\n",
        "print(\"The accuracy score is: \" + str(score_lr))\n",
        "print(classification_report(y_test,Y_pred_lr))\n",
        "print('Confusion Matrix:',confusion_matrix(y_test, Y_pred_lr))\n",
        "\n",
        "from sklearn.metrics import f1_score\n",
        "print(\"f1 score\",f1_score(y_test, Y_pred_lr))\n",
        "\n",
        "from sklearn.metrics import precision_score\n",
        "print(\"precision \",precision_score(y_test,  Y_pred_lr, average='macro'))\n",
        "\n",
        "from sklearn.metrics import recall_score\n",
        "print(\"recall  \",recall_score(y_test,  Y_pred_lr, average='macro'))\n",
        "\n",
        "fpr, tpr, thresholds = roc_curve(y_test, y_prob)\n",
        "roc_auc = auc(fpr, tpr)\n",
        "print('AUC:', roc_auc)\n",
        "print(\"The time of execution of above program is :\",\n",
        "      (end-start) * 10**3, \"ms\")\n"
      ],
      "metadata": {
        "colab": {
          "base_uri": "https://localhost:8080/"
        },
        "id": "oOMt6b9LOR7n",
        "outputId": "fb17b05c-6ae1-4f73-f41a-c5aafc4eadfd"
      },
      "execution_count": null,
      "outputs": [
        {
          "output_type": "stream",
          "name": "stdout",
          "text": [
            "The accuracy score is: 79.1\n",
            "              precision    recall  f1-score   support\n",
            "\n",
            "           0       0.73      0.94      0.82        34\n",
            "           1       0.91      0.64      0.75        33\n",
            "\n",
            "    accuracy                           0.79        67\n",
            "   macro avg       0.82      0.79      0.79        67\n",
            "weighted avg       0.82      0.79      0.79        67\n",
            "\n",
            "Confusion Matrix: [[32  2]\n",
            " [12 21]]\n",
            "f1 score 0.75\n",
            "precision  0.8201581027667983\n",
            "recall   0.7887700534759359\n",
            "AUC: 0.8110516934046346\n",
            "The time of execution of above program is : 41.65387153625488 ms\n"
          ]
        }
      ]
    },
    {
      "cell_type": "markdown",
      "source": [
        "## Decision Tree"
      ],
      "metadata": {
        "id": "_v-x_w4DQLEO"
      }
    },
    {
      "cell_type": "code",
      "source": [
        "from sklearn.tree import DecisionTreeClassifier\n",
        "max_accuracy = 0\n",
        "for x in range(200):\n",
        "  dt = DecisionTreeClassifier(random_state=x) \n",
        "  start = time.time()\n",
        "\n",
        "  dt.fit(X_train_vectors_tfidf,y_train)\n",
        "  end = time.time()\n",
        "  Y_pred_dt = dt.predict(X_test_vectors_tfidf)\n",
        "  current_accuracy = round(accuracy_score (Y_pred_dt,y_test)*100,2)\n",
        "  if(current_accuracy>max_accuracy): \n",
        "    max_accuracy = current_accuracy \n",
        "    best_x = x"
      ],
      "metadata": {
        "id": "SgK1X7z0PqEx"
      },
      "execution_count": null,
      "outputs": []
    },
    {
      "cell_type": "code",
      "source": [
        "dt = DecisionTreeClassifier(random_state=best_x)\n",
        "dt.fit(X_train_vectors_tfidf,y_train)\n",
        "Y_pred_dt = dt.predict(X_test_vectors_tfidf)\n",
        "y_prob = dt.predict_proba(X_test_vectors_tfidf)[:,1]"
      ],
      "metadata": {
        "id": "eh4oZ_hcPqCH"
      },
      "execution_count": null,
      "outputs": []
    },
    {
      "cell_type": "code",
      "source": [
        "print (Y_pred_dt.shape)"
      ],
      "metadata": {
        "colab": {
          "base_uri": "https://localhost:8080/"
        },
        "id": "weclQQInPp_V",
        "outputId": "0f0f62af-4a48-44cb-c37d-987aa8bb0b42"
      },
      "execution_count": null,
      "outputs": [
        {
          "output_type": "stream",
          "name": "stdout",
          "text": [
            "(67,)\n"
          ]
        }
      ]
    },
    {
      "cell_type": "code",
      "source": [
        "score_dt = round(accuracy_score (Y_pred_dt,y_test)*100,2)\n",
        "print(\"The accuracy score achieved using Decision Tree is: \"+str(score_dt)+\" %\")\n",
        "print(classification_report(y_test,Y_pred_dt))\n",
        "print('Confusion Matrix:',confusion_matrix(y_test, Y_pred_dt))\n",
        "\n",
        "from sklearn.metrics import f1_score\n",
        "print(\"f1 score\",f1_score(y_test, Y_pred_dt))\n",
        "\n",
        "from sklearn.metrics import precision_score\n",
        "print(\"precision \",precision_score(y_test, Y_pred_dt, average='macro'))\n",
        "\n",
        "from sklearn.metrics import recall_score\n",
        "print(\"recall  \",recall_score(y_test, Y_pred_dt, average='macro'))\n",
        "\n",
        "fpr, tpr, thresholds = roc_curve(y_test, y_prob)\n",
        "roc_auc = auc(fpr, tpr)\n",
        "print('AUC:', roc_auc)\n",
        "print(\"The time of execution of above program is :\",\n",
        "      (end-start) * 10**3, \"ms\")"
      ],
      "metadata": {
        "colab": {
          "base_uri": "https://localhost:8080/"
        },
        "id": "_8w_6PL2RLg1",
        "outputId": "d3e60fd4-5e56-4fae-ef2f-796e3294566a"
      },
      "execution_count": null,
      "outputs": [
        {
          "output_type": "stream",
          "name": "stdout",
          "text": [
            "The accuracy score achieved using Decision Tree is: 73.13 %\n",
            "              precision    recall  f1-score   support\n",
            "\n",
            "           0       0.72      0.76      0.74        34\n",
            "           1       0.74      0.70      0.72        33\n",
            "\n",
            "    accuracy                           0.73        67\n",
            "   macro avg       0.73      0.73      0.73        67\n",
            "weighted avg       0.73      0.73      0.73        67\n",
            "\n",
            "Confusion Matrix: [[26  8]\n",
            " [10 23]]\n",
            "f1 score 0.71875\n",
            "precision  0.7320788530465949\n",
            "recall   0.7308377896613191\n",
            "AUC: 0.7308377896613191\n",
            "The time of execution of above program is : 32.16743469238281 ms\n"
          ]
        }
      ]
    },
    {
      "cell_type": "markdown",
      "source": [
        "## SVM"
      ],
      "metadata": {
        "id": "_uEIEbvKQzEq"
      }
    },
    {
      "cell_type": "code",
      "source": [
        "from sklearn import svm\n",
        "sv=svm.SVC(kernel='linear',probability=True)\n",
        "start = time.time()\n",
        "sv.fit(X_train_vectors_tfidf,y_train)\n",
        "end = time.time()\n",
        "Y_pred_svm = sv.predict(X_test_vectors_tfidf) \n",
        "y_prob = sv.predict_proba(X_test_vectors_tfidf)[:,1]"
      ],
      "metadata": {
        "id": "O8-4YxV1QwiO"
      },
      "execution_count": null,
      "outputs": []
    },
    {
      "cell_type": "code",
      "source": [
        "Y_pred_svm.shape"
      ],
      "metadata": {
        "colab": {
          "base_uri": "https://localhost:8080/"
        },
        "id": "nXLT50LpQwfK",
        "outputId": "d140b648-c993-48fd-d4ee-00ba6d1cf7e2"
      },
      "execution_count": null,
      "outputs": [
        {
          "output_type": "execute_result",
          "data": {
            "text/plain": [
              "(67,)"
            ]
          },
          "metadata": {},
          "execution_count": 36
        }
      ]
    },
    {
      "cell_type": "code",
      "source": [
        "score_svm = round(accuracy_score(Y_pred_svm,y_test)*100,2)\n",
        "print(\"The accuracy score is: \" + str(score_svm))\n",
        "print(classification_report(y_test,Y_pred_svm))\n",
        "print('Confusion Matrix:',confusion_matrix(y_test, Y_pred_svm))\n",
        "\n",
        "\n",
        "from sklearn.metrics import f1_score\n",
        "print(\"f1 score\",f1_score(y_test, Y_pred_svm))\n",
        "\n",
        "\n",
        "from sklearn.metrics import precision_score\n",
        "print(\"precision \",precision_score(y_test, Y_pred_svm, average='macro'))\n",
        "\n",
        "from sklearn.metrics import recall_score\n",
        "print(\"recall  \",recall_score(y_test, Y_pred_svm, average='macro'))\n",
        "\n",
        "fpr, tpr, thresholds = roc_curve(y_test, y_prob)\n",
        "roc_auc = auc(fpr, tpr)\n",
        "print('AUC:', roc_auc)\n",
        "print(\"The time of execution of above program is :\",\n",
        "      (end-start) * 10**3, \"ms\")"
      ],
      "metadata": {
        "colab": {
          "base_uri": "https://localhost:8080/"
        },
        "id": "ZxxkQtYbQwcF",
        "outputId": "6c80774b-852a-4e69-b1cd-ff073b9a118e"
      },
      "execution_count": null,
      "outputs": [
        {
          "output_type": "stream",
          "name": "stdout",
          "text": [
            "The accuracy score is: 76.12\n",
            "              precision    recall  f1-score   support\n",
            "\n",
            "           0       0.74      0.82      0.78        34\n",
            "           1       0.79      0.70      0.74        33\n",
            "\n",
            "    accuracy                           0.76        67\n",
            "   macro avg       0.76      0.76      0.76        67\n",
            "weighted avg       0.76      0.76      0.76        67\n",
            "\n",
            "Confusion Matrix: [[28  6]\n",
            " [10 23]]\n",
            "f1 score 0.7419354838709677\n",
            "precision  0.76497277676951\n",
            "recall   0.7602495543672014\n",
            "AUC: 0.8404634581105169\n",
            "The time of execution of above program is : 337.8260135650635 ms\n"
          ]
        }
      ]
    },
    {
      "cell_type": "markdown",
      "source": [
        "## KNN"
      ],
      "metadata": {
        "id": "Sv64nCCEHV55"
      }
    },
    {
      "cell_type": "code",
      "source": [
        "from sklearn.neighbors import KNeighborsClassifier\n",
        "knn = KNeighborsClassifier(n_neighbors=7)\n",
        "start = time.time()\n",
        "knn.fit(X_train_vectors_tfidf,y_train)\n",
        "end = time.time()\n",
        "\n",
        "Y_pred_knn=knn.predict(X_test_vectors_tfidf)\n",
        "Y_pred_knn.shape\n",
        "score_knn = round(accuracy_score (Y_pred_knn,y_test)*100,2)\n",
        "\n",
        "y_prob = knn.predict_proba(X_test_vectors_tfidf)[:,1]\n",
        "print(\"The accuracy score achieved using KNN is: \"+str(score_knn)+\" %\")\n",
        "print(classification_report(y_test,Y_pred_knn))\n",
        "print('Confusion Matrix:',confusion_matrix(y_test, Y_pred_knn))\n",
        "\n",
        "from sklearn.metrics import f1_score\n",
        "print(\"f1 score\",f1_score(y_test, Y_pred_knn))\n",
        "\n",
        "from sklearn.metrics import precision_score\n",
        "print(\"precision \",precision_score(y_test, Y_pred_knn, average='macro'))\n",
        "\n",
        "from sklearn.metrics import recall_score\n",
        "print(\"recall  \",recall_score(y_test, Y_pred_knn, average='macro'))\n",
        "\n",
        "fpr, tpr, thresholds = roc_curve(y_test, y_prob)\n",
        "roc_auc = auc(fpr, tpr)\n",
        "print('AUC:', roc_auc)\n",
        "print(\"The time of execution of above program is :\",\n",
        "      (end-start) * 10**3, \"ms\")"
      ],
      "metadata": {
        "id": "lzGB4k5FDqXC",
        "colab": {
          "base_uri": "https://localhost:8080/"
        },
        "outputId": "4e63f927-1f68-4727-d898-a748c254affd"
      },
      "execution_count": null,
      "outputs": [
        {
          "output_type": "stream",
          "name": "stdout",
          "text": [
            "The accuracy score achieved using KNN is: 61.19 %\n",
            "              precision    recall  f1-score   support\n",
            "\n",
            "           0       0.57      0.91      0.70        34\n",
            "           1       0.77      0.30      0.43        33\n",
            "\n",
            "    accuracy                           0.61        67\n",
            "   macro avg       0.67      0.61      0.57        67\n",
            "weighted avg       0.67      0.61      0.57        67\n",
            "\n",
            "Confusion Matrix: [[31  3]\n",
            " [23 10]]\n",
            "f1 score 0.43478260869565216\n",
            "precision  0.6716524216524217\n",
            "recall   0.607397504456328\n",
            "AUC: 0.6769162210338682\n",
            "The time of execution of above program is : 6.8454742431640625 ms\n"
          ]
        }
      ]
    },
    {
      "cell_type": "markdown",
      "source": [
        "# Get the data to csv"
      ],
      "metadata": {
        "id": "l84XERpdzAlT"
      }
    },
    {
      "cell_type": "code",
      "source": [
        "final=df_test[['clean_text','sentiment']].reset_index(drop=True)"
      ],
      "metadata": {
        "id": "OI6I2Lct792f"
      },
      "execution_count": null,
      "outputs": []
    },
    {
      "cell_type": "code",
      "source": [
        "final"
      ],
      "metadata": {
        "colab": {
          "base_uri": "https://localhost:8080/",
          "height": 423
        },
        "id": "9G1rVfVP8Vho",
        "outputId": "e20f28c0-4b51-4758-d3ad-baf7002dec21"
      },
      "execution_count": null,
      "outputs": [
        {
          "output_type": "execute_result",
          "data": {
            "text/plain": [
              "                                            clean_text  sentiment\n",
              "0    anyone else notice fact first bunch episode in...          0\n",
              "1    elvira mistress dark one fav movie every thing...          1\n",
              "2    saw movie hallmark channel think wonderful esp...          1\n",
              "3    despite absolutely horrid script later film st...          1\n",
              "4    find critique many imdb user little harsh many...          0\n",
              "..                                                 ...        ...\n",
              "161  first say love book animal farm read th grade ...          0\n",
              "162  movie extremely boring laugh time decide rent ...          0\n",
              "163  disgust movie graphic sex scene ruin image art...          1\n",
              "164  joyous world create u pixar bug life immerse u...          0\n",
              "165  empty lack lustre rendition classic novel wish...          0\n",
              "\n",
              "[166 rows x 2 columns]"
            ],
            "text/html": [
              "\n",
              "  <div id=\"df-47fcccff-8c3a-4994-ac0f-68535fc21f83\">\n",
              "    <div class=\"colab-df-container\">\n",
              "      <div>\n",
              "<style scoped>\n",
              "    .dataframe tbody tr th:only-of-type {\n",
              "        vertical-align: middle;\n",
              "    }\n",
              "\n",
              "    .dataframe tbody tr th {\n",
              "        vertical-align: top;\n",
              "    }\n",
              "\n",
              "    .dataframe thead th {\n",
              "        text-align: right;\n",
              "    }\n",
              "</style>\n",
              "<table border=\"1\" class=\"dataframe\">\n",
              "  <thead>\n",
              "    <tr style=\"text-align: right;\">\n",
              "      <th></th>\n",
              "      <th>clean_text</th>\n",
              "      <th>sentiment</th>\n",
              "    </tr>\n",
              "  </thead>\n",
              "  <tbody>\n",
              "    <tr>\n",
              "      <th>0</th>\n",
              "      <td>anyone else notice fact first bunch episode in...</td>\n",
              "      <td>0</td>\n",
              "    </tr>\n",
              "    <tr>\n",
              "      <th>1</th>\n",
              "      <td>elvira mistress dark one fav movie every thing...</td>\n",
              "      <td>1</td>\n",
              "    </tr>\n",
              "    <tr>\n",
              "      <th>2</th>\n",
              "      <td>saw movie hallmark channel think wonderful esp...</td>\n",
              "      <td>1</td>\n",
              "    </tr>\n",
              "    <tr>\n",
              "      <th>3</th>\n",
              "      <td>despite absolutely horrid script later film st...</td>\n",
              "      <td>1</td>\n",
              "    </tr>\n",
              "    <tr>\n",
              "      <th>4</th>\n",
              "      <td>find critique many imdb user little harsh many...</td>\n",
              "      <td>0</td>\n",
              "    </tr>\n",
              "    <tr>\n",
              "      <th>...</th>\n",
              "      <td>...</td>\n",
              "      <td>...</td>\n",
              "    </tr>\n",
              "    <tr>\n",
              "      <th>161</th>\n",
              "      <td>first say love book animal farm read th grade ...</td>\n",
              "      <td>0</td>\n",
              "    </tr>\n",
              "    <tr>\n",
              "      <th>162</th>\n",
              "      <td>movie extremely boring laugh time decide rent ...</td>\n",
              "      <td>0</td>\n",
              "    </tr>\n",
              "    <tr>\n",
              "      <th>163</th>\n",
              "      <td>disgust movie graphic sex scene ruin image art...</td>\n",
              "      <td>1</td>\n",
              "    </tr>\n",
              "    <tr>\n",
              "      <th>164</th>\n",
              "      <td>joyous world create u pixar bug life immerse u...</td>\n",
              "      <td>0</td>\n",
              "    </tr>\n",
              "    <tr>\n",
              "      <th>165</th>\n",
              "      <td>empty lack lustre rendition classic novel wish...</td>\n",
              "      <td>0</td>\n",
              "    </tr>\n",
              "  </tbody>\n",
              "</table>\n",
              "<p>166 rows × 2 columns</p>\n",
              "</div>\n",
              "      <button class=\"colab-df-convert\" onclick=\"convertToInteractive('df-47fcccff-8c3a-4994-ac0f-68535fc21f83')\"\n",
              "              title=\"Convert this dataframe to an interactive table.\"\n",
              "              style=\"display:none;\">\n",
              "        \n",
              "  <svg xmlns=\"http://www.w3.org/2000/svg\" height=\"24px\"viewBox=\"0 0 24 24\"\n",
              "       width=\"24px\">\n",
              "    <path d=\"M0 0h24v24H0V0z\" fill=\"none\"/>\n",
              "    <path d=\"M18.56 5.44l.94 2.06.94-2.06 2.06-.94-2.06-.94-.94-2.06-.94 2.06-2.06.94zm-11 1L8.5 8.5l.94-2.06 2.06-.94-2.06-.94L8.5 2.5l-.94 2.06-2.06.94zm10 10l.94 2.06.94-2.06 2.06-.94-2.06-.94-.94-2.06-.94 2.06-2.06.94z\"/><path d=\"M17.41 7.96l-1.37-1.37c-.4-.4-.92-.59-1.43-.59-.52 0-1.04.2-1.43.59L10.3 9.45l-7.72 7.72c-.78.78-.78 2.05 0 2.83L4 21.41c.39.39.9.59 1.41.59.51 0 1.02-.2 1.41-.59l7.78-7.78 2.81-2.81c.8-.78.8-2.07 0-2.86zM5.41 20L4 18.59l7.72-7.72 1.47 1.35L5.41 20z\"/>\n",
              "  </svg>\n",
              "      </button>\n",
              "      \n",
              "  <style>\n",
              "    .colab-df-container {\n",
              "      display:flex;\n",
              "      flex-wrap:wrap;\n",
              "      gap: 12px;\n",
              "    }\n",
              "\n",
              "    .colab-df-convert {\n",
              "      background-color: #E8F0FE;\n",
              "      border: none;\n",
              "      border-radius: 50%;\n",
              "      cursor: pointer;\n",
              "      display: none;\n",
              "      fill: #1967D2;\n",
              "      height: 32px;\n",
              "      padding: 0 0 0 0;\n",
              "      width: 32px;\n",
              "    }\n",
              "\n",
              "    .colab-df-convert:hover {\n",
              "      background-color: #E2EBFA;\n",
              "      box-shadow: 0px 1px 2px rgba(60, 64, 67, 0.3), 0px 1px 3px 1px rgba(60, 64, 67, 0.15);\n",
              "      fill: #174EA6;\n",
              "    }\n",
              "\n",
              "    [theme=dark] .colab-df-convert {\n",
              "      background-color: #3B4455;\n",
              "      fill: #D2E3FC;\n",
              "    }\n",
              "\n",
              "    [theme=dark] .colab-df-convert:hover {\n",
              "      background-color: #434B5C;\n",
              "      box-shadow: 0px 1px 3px 1px rgba(0, 0, 0, 0.15);\n",
              "      filter: drop-shadow(0px 1px 2px rgba(0, 0, 0, 0.3));\n",
              "      fill: #FFFFFF;\n",
              "    }\n",
              "  </style>\n",
              "\n",
              "      <script>\n",
              "        const buttonEl =\n",
              "          document.querySelector('#df-47fcccff-8c3a-4994-ac0f-68535fc21f83 button.colab-df-convert');\n",
              "        buttonEl.style.display =\n",
              "          google.colab.kernel.accessAllowed ? 'block' : 'none';\n",
              "\n",
              "        async function convertToInteractive(key) {\n",
              "          const element = document.querySelector('#df-47fcccff-8c3a-4994-ac0f-68535fc21f83');\n",
              "          const dataTable =\n",
              "            await google.colab.kernel.invokeFunction('convertToInteractive',\n",
              "                                                     [key], {});\n",
              "          if (!dataTable) return;\n",
              "\n",
              "          const docLinkHtml = 'Like what you see? Visit the ' +\n",
              "            '<a target=\"_blank\" href=https://colab.research.google.com/notebooks/data_table.ipynb>data table notebook</a>'\n",
              "            + ' to learn more about interactive tables.';\n",
              "          element.innerHTML = '';\n",
              "          dataTable['output_type'] = 'display_data';\n",
              "          await google.colab.output.renderOutput(dataTable, element);\n",
              "          const docLink = document.createElement('div');\n",
              "          docLink.innerHTML = docLinkHtml;\n",
              "          element.appendChild(docLink);\n",
              "        }\n",
              "      </script>\n",
              "    </div>\n",
              "  </div>\n",
              "  "
            ]
          },
          "metadata": {},
          "execution_count": 34
        }
      ]
    },
    {
      "cell_type": "code",
      "source": [
        "final.to_csv('/content/drive/MyDrive/Phase 2 changes/clean_data2.csv')"
      ],
      "metadata": {
        "id": "FOmTyxGA0BFt"
      },
      "execution_count": null,
      "outputs": []
    }
  ]
}