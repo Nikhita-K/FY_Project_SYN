{
  "nbformat": 4,
  "nbformat_minor": 0,
  "metadata": {
    "colab": {
      "provenance": [],
      "collapsed_sections": [
        "0GK8K9SF5D3b",
        "r5B8wn1O5LOK",
        "VTUpFR5A5c8S",
        "dMjknS4l5iVC",
        "rAhJjSDB_-9c",
        "MK-clrqbAe03",
        "_yoqOG7DPrk8",
        "2dI0hZlaPuQI",
        "BGFLKQsFPyKf",
        "_v-x_w4DQLEO",
        "_uEIEbvKQzEq",
        "Sv64nCCEHV55",
        "4K45KgFgDyjx"
      ]
    },
    "kernelspec": {
      "name": "python3",
      "display_name": "Python 3"
    },
    "language_info": {
      "name": "python"
    }
  },
  "cells": [
    {
      "cell_type": "markdown",
      "source": [
        "# Importing Libraries"
      ],
      "metadata": {
        "id": "0GK8K9SF5D3b"
      }
    },
    {
      "cell_type": "code",
      "source": [
        "from google.colab import drive\n",
        "drive.mount('/content/drive')"
      ],
      "metadata": {
        "colab": {
          "base_uri": "https://localhost:8080/"
        },
        "id": "ufwZ9FOdIcmo",
        "outputId": "2cd19be6-d8e1-414f-865a-7bd19a430bff"
      },
      "execution_count": null,
      "outputs": [
        {
          "output_type": "stream",
          "name": "stdout",
          "text": [
            "Mounted at /content/drive\n"
          ]
        }
      ]
    },
    {
      "cell_type": "code",
      "execution_count": null,
      "metadata": {
        "id": "kJp1xWJBvik5"
      },
      "outputs": [],
      "source": [
        "import pandas as pd\n",
        "import numpy as np\n",
        "#for text pre-processing\n",
        "import seaborn as sns\n",
        "import re, string\n",
        "import nltk\n",
        "import time"
      ]
    },
    {
      "cell_type": "code",
      "source": [
        "from nltk.tokenize import word_tokenize\n",
        "from nltk.corpus import stopwords\n",
        "from nltk.tokenize import word_tokenize\n",
        "from nltk.stem import SnowballStemmer\n",
        "from nltk.corpus import wordnet\n",
        "from nltk.stem import WordNetLemmatizer\n",
        "nltk.download('punkt')\n",
        "nltk.download('averaged_perceptron_tagger')\n",
        "nltk.download('wordnet')\n",
        "nltk.download('stopwords')\n",
        "nltk.download('omw-1.4')"
      ],
      "metadata": {
        "colab": {
          "base_uri": "https://localhost:8080/"
        },
        "id": "liZ-quw3v18n",
        "outputId": "cd7a7387-c1d6-4211-a8c3-81468efa4d0c"
      },
      "execution_count": null,
      "outputs": [
        {
          "output_type": "stream",
          "name": "stderr",
          "text": [
            "[nltk_data] Downloading package punkt to /root/nltk_data...\n",
            "[nltk_data]   Unzipping tokenizers/punkt.zip.\n",
            "[nltk_data] Downloading package averaged_perceptron_tagger to\n",
            "[nltk_data]     /root/nltk_data...\n",
            "[nltk_data]   Unzipping taggers/averaged_perceptron_tagger.zip.\n",
            "[nltk_data] Downloading package wordnet to /root/nltk_data...\n",
            "[nltk_data] Downloading package stopwords to /root/nltk_data...\n",
            "[nltk_data]   Unzipping corpora/stopwords.zip.\n",
            "[nltk_data] Downloading package omw-1.4 to /root/nltk_data...\n"
          ]
        },
        {
          "output_type": "execute_result",
          "data": {
            "text/plain": [
              "True"
            ]
          },
          "metadata": {},
          "execution_count": 7
        }
      ]
    },
    {
      "cell_type": "code",
      "source": [
        "#for model-building\n",
        "from sklearn.model_selection import train_test_split\n",
        "from sklearn.linear_model import LogisticRegression\n",
        "from sklearn.naive_bayes import MultinomialNB\n",
        "from sklearn.metrics import classification_report, f1_score, accuracy_score, confusion_matrix\n",
        "from sklearn.metrics import roc_curve, auc, roc_auc_score\n",
        "# bag of words\n",
        "from sklearn.feature_extraction.text import TfidfVectorizer\n",
        "from sklearn.feature_extraction.text import CountVectorizer\n",
        "#for word embedding\n",
        "import gensim\n",
        "from gensim.models import Word2Vec"
      ],
      "metadata": {
        "id": "g9xL7Fv1v5LB"
      },
      "execution_count": null,
      "outputs": []
    },
    {
      "cell_type": "markdown",
      "source": [
        "# Importing all the 5 datasets"
      ],
      "metadata": {
        "id": "r5B8wn1O5LOK"
      }
    },
    {
      "cell_type": "code",
      "source": [
        "df_rest=pd.read_csv(\"/content/drive/MyDrive/Phase 2 changes/Restaurant_Reviews.csv\")"
      ],
      "metadata": {
        "id": "4RyLIUU6v7UI"
      },
      "execution_count": null,
      "outputs": []
    },
    {
      "cell_type": "code",
      "source": [
        "df_airl=pd.read_csv(\"/content/drive/MyDrive/Phase 2 changes/Tweets.csv\")"
      ],
      "metadata": {
        "id": "w912_d-0b1wG"
      },
      "execution_count": null,
      "outputs": []
    },
    {
      "cell_type": "code",
      "source": [
        "df_fin=pd.read_csv(\"/content/drive/MyDrive/Phase 2 changes/financial.csv\",encoding = \"ISO-8859-1\")"
      ],
      "metadata": {
        "id": "C6oykeXib1nQ"
      },
      "execution_count": null,
      "outputs": []
    },
    {
      "cell_type": "code",
      "source": [
        "df_fin_news=pd.read_csv(\"/content/drive/MyDrive/Phase 2 changes/sentiment_analysis_finnews.csv\")"
      ],
      "metadata": {
        "id": "CB-ZZO-qb1jM"
      },
      "execution_count": null,
      "outputs": []
    },
    {
      "cell_type": "code",
      "source": [
        "df_gpt=pd.read_csv(\"/content/drive/MyDrive/Phase 2 changes/GPT.csv\")"
      ],
      "metadata": {
        "id": "rfALm_-QcSw8"
      },
      "execution_count": null,
      "outputs": []
    },
    {
      "cell_type": "markdown",
      "source": [
        "# EDA"
      ],
      "metadata": {
        "id": "VTUpFR5A5c8S"
      }
    },
    {
      "cell_type": "code",
      "source": [
        "df_rest.head()"
      ],
      "metadata": {
        "colab": {
          "base_uri": "https://localhost:8080/",
          "height": 206
        },
        "id": "VhKKJIofwyfx",
        "outputId": "38372eb0-6c4f-4cfd-e20a-30f68e413eca"
      },
      "execution_count": null,
      "outputs": [
        {
          "output_type": "execute_result",
          "data": {
            "text/plain": [
              "                                              Review  Liked\n",
              "0                           Wow... Loved this place.      1\n",
              "1                                 Crust is not good.      0\n",
              "2          Not tasty and the texture was just nasty.      0\n",
              "3  Stopped by during the late May bank holiday of...      1\n",
              "4  The selection on the menu was great and so wer...      1"
            ],
            "text/html": [
              "\n",
              "  <div id=\"df-4312b4b8-6e0f-4737-ba3e-46a989134ade\">\n",
              "    <div class=\"colab-df-container\">\n",
              "      <div>\n",
              "<style scoped>\n",
              "    .dataframe tbody tr th:only-of-type {\n",
              "        vertical-align: middle;\n",
              "    }\n",
              "\n",
              "    .dataframe tbody tr th {\n",
              "        vertical-align: top;\n",
              "    }\n",
              "\n",
              "    .dataframe thead th {\n",
              "        text-align: right;\n",
              "    }\n",
              "</style>\n",
              "<table border=\"1\" class=\"dataframe\">\n",
              "  <thead>\n",
              "    <tr style=\"text-align: right;\">\n",
              "      <th></th>\n",
              "      <th>Review</th>\n",
              "      <th>Liked</th>\n",
              "    </tr>\n",
              "  </thead>\n",
              "  <tbody>\n",
              "    <tr>\n",
              "      <th>0</th>\n",
              "      <td>Wow... Loved this place.</td>\n",
              "      <td>1</td>\n",
              "    </tr>\n",
              "    <tr>\n",
              "      <th>1</th>\n",
              "      <td>Crust is not good.</td>\n",
              "      <td>0</td>\n",
              "    </tr>\n",
              "    <tr>\n",
              "      <th>2</th>\n",
              "      <td>Not tasty and the texture was just nasty.</td>\n",
              "      <td>0</td>\n",
              "    </tr>\n",
              "    <tr>\n",
              "      <th>3</th>\n",
              "      <td>Stopped by during the late May bank holiday of...</td>\n",
              "      <td>1</td>\n",
              "    </tr>\n",
              "    <tr>\n",
              "      <th>4</th>\n",
              "      <td>The selection on the menu was great and so wer...</td>\n",
              "      <td>1</td>\n",
              "    </tr>\n",
              "  </tbody>\n",
              "</table>\n",
              "</div>\n",
              "      <button class=\"colab-df-convert\" onclick=\"convertToInteractive('df-4312b4b8-6e0f-4737-ba3e-46a989134ade')\"\n",
              "              title=\"Convert this dataframe to an interactive table.\"\n",
              "              style=\"display:none;\">\n",
              "        \n",
              "  <svg xmlns=\"http://www.w3.org/2000/svg\" height=\"24px\"viewBox=\"0 0 24 24\"\n",
              "       width=\"24px\">\n",
              "    <path d=\"M0 0h24v24H0V0z\" fill=\"none\"/>\n",
              "    <path d=\"M18.56 5.44l.94 2.06.94-2.06 2.06-.94-2.06-.94-.94-2.06-.94 2.06-2.06.94zm-11 1L8.5 8.5l.94-2.06 2.06-.94-2.06-.94L8.5 2.5l-.94 2.06-2.06.94zm10 10l.94 2.06.94-2.06 2.06-.94-2.06-.94-.94-2.06-.94 2.06-2.06.94z\"/><path d=\"M17.41 7.96l-1.37-1.37c-.4-.4-.92-.59-1.43-.59-.52 0-1.04.2-1.43.59L10.3 9.45l-7.72 7.72c-.78.78-.78 2.05 0 2.83L4 21.41c.39.39.9.59 1.41.59.51 0 1.02-.2 1.41-.59l7.78-7.78 2.81-2.81c.8-.78.8-2.07 0-2.86zM5.41 20L4 18.59l7.72-7.72 1.47 1.35L5.41 20z\"/>\n",
              "  </svg>\n",
              "      </button>\n",
              "      \n",
              "  <style>\n",
              "    .colab-df-container {\n",
              "      display:flex;\n",
              "      flex-wrap:wrap;\n",
              "      gap: 12px;\n",
              "    }\n",
              "\n",
              "    .colab-df-convert {\n",
              "      background-color: #E8F0FE;\n",
              "      border: none;\n",
              "      border-radius: 50%;\n",
              "      cursor: pointer;\n",
              "      display: none;\n",
              "      fill: #1967D2;\n",
              "      height: 32px;\n",
              "      padding: 0 0 0 0;\n",
              "      width: 32px;\n",
              "    }\n",
              "\n",
              "    .colab-df-convert:hover {\n",
              "      background-color: #E2EBFA;\n",
              "      box-shadow: 0px 1px 2px rgba(60, 64, 67, 0.3), 0px 1px 3px 1px rgba(60, 64, 67, 0.15);\n",
              "      fill: #174EA6;\n",
              "    }\n",
              "\n",
              "    [theme=dark] .colab-df-convert {\n",
              "      background-color: #3B4455;\n",
              "      fill: #D2E3FC;\n",
              "    }\n",
              "\n",
              "    [theme=dark] .colab-df-convert:hover {\n",
              "      background-color: #434B5C;\n",
              "      box-shadow: 0px 1px 3px 1px rgba(0, 0, 0, 0.15);\n",
              "      filter: drop-shadow(0px 1px 2px rgba(0, 0, 0, 0.3));\n",
              "      fill: #FFFFFF;\n",
              "    }\n",
              "  </style>\n",
              "\n",
              "      <script>\n",
              "        const buttonEl =\n",
              "          document.querySelector('#df-4312b4b8-6e0f-4737-ba3e-46a989134ade button.colab-df-convert');\n",
              "        buttonEl.style.display =\n",
              "          google.colab.kernel.accessAllowed ? 'block' : 'none';\n",
              "\n",
              "        async function convertToInteractive(key) {\n",
              "          const element = document.querySelector('#df-4312b4b8-6e0f-4737-ba3e-46a989134ade');\n",
              "          const dataTable =\n",
              "            await google.colab.kernel.invokeFunction('convertToInteractive',\n",
              "                                                     [key], {});\n",
              "          if (!dataTable) return;\n",
              "\n",
              "          const docLinkHtml = 'Like what you see? Visit the ' +\n",
              "            '<a target=\"_blank\" href=https://colab.research.google.com/notebooks/data_table.ipynb>data table notebook</a>'\n",
              "            + ' to learn more about interactive tables.';\n",
              "          element.innerHTML = '';\n",
              "          dataTable['output_type'] = 'display_data';\n",
              "          await google.colab.output.renderOutput(dataTable, element);\n",
              "          const docLink = document.createElement('div');\n",
              "          docLink.innerHTML = docLinkHtml;\n",
              "          element.appendChild(docLink);\n",
              "        }\n",
              "      </script>\n",
              "    </div>\n",
              "  </div>\n",
              "  "
            ]
          },
          "metadata": {},
          "execution_count": 10
        }
      ]
    },
    {
      "cell_type": "code",
      "source": [
        "df_airl.head()"
      ],
      "metadata": {
        "colab": {
          "base_uri": "https://localhost:8080/",
          "height": 206
        },
        "id": "vO3_OSZEdWlB",
        "outputId": "772fe5e6-88a6-45b5-a9d0-fe3de6b90954"
      },
      "execution_count": null,
      "outputs": [
        {
          "output_type": "execute_result",
          "data": {
            "text/plain": [
              "   airline_sentiment                                               text\n",
              "0                  1                @VirginAmerica What @dhepburn said.\n",
              "1                  2  @VirginAmerica plus you've added commercials t...\n",
              "2                  1  @VirginAmerica I didn't today... Must mean I n...\n",
              "3                  0  @VirginAmerica it's really aggressive to blast...\n",
              "4                  0  @VirginAmerica and it's a really big bad thing..."
            ],
            "text/html": [
              "\n",
              "  <div id=\"df-63d01504-4645-4362-b42d-75bc3b5101c3\">\n",
              "    <div class=\"colab-df-container\">\n",
              "      <div>\n",
              "<style scoped>\n",
              "    .dataframe tbody tr th:only-of-type {\n",
              "        vertical-align: middle;\n",
              "    }\n",
              "\n",
              "    .dataframe tbody tr th {\n",
              "        vertical-align: top;\n",
              "    }\n",
              "\n",
              "    .dataframe thead th {\n",
              "        text-align: right;\n",
              "    }\n",
              "</style>\n",
              "<table border=\"1\" class=\"dataframe\">\n",
              "  <thead>\n",
              "    <tr style=\"text-align: right;\">\n",
              "      <th></th>\n",
              "      <th>airline_sentiment</th>\n",
              "      <th>text</th>\n",
              "    </tr>\n",
              "  </thead>\n",
              "  <tbody>\n",
              "    <tr>\n",
              "      <th>0</th>\n",
              "      <td>1</td>\n",
              "      <td>@VirginAmerica What @dhepburn said.</td>\n",
              "    </tr>\n",
              "    <tr>\n",
              "      <th>1</th>\n",
              "      <td>2</td>\n",
              "      <td>@VirginAmerica plus you've added commercials t...</td>\n",
              "    </tr>\n",
              "    <tr>\n",
              "      <th>2</th>\n",
              "      <td>1</td>\n",
              "      <td>@VirginAmerica I didn't today... Must mean I n...</td>\n",
              "    </tr>\n",
              "    <tr>\n",
              "      <th>3</th>\n",
              "      <td>0</td>\n",
              "      <td>@VirginAmerica it's really aggressive to blast...</td>\n",
              "    </tr>\n",
              "    <tr>\n",
              "      <th>4</th>\n",
              "      <td>0</td>\n",
              "      <td>@VirginAmerica and it's a really big bad thing...</td>\n",
              "    </tr>\n",
              "  </tbody>\n",
              "</table>\n",
              "</div>\n",
              "      <button class=\"colab-df-convert\" onclick=\"convertToInteractive('df-63d01504-4645-4362-b42d-75bc3b5101c3')\"\n",
              "              title=\"Convert this dataframe to an interactive table.\"\n",
              "              style=\"display:none;\">\n",
              "        \n",
              "  <svg xmlns=\"http://www.w3.org/2000/svg\" height=\"24px\"viewBox=\"0 0 24 24\"\n",
              "       width=\"24px\">\n",
              "    <path d=\"M0 0h24v24H0V0z\" fill=\"none\"/>\n",
              "    <path d=\"M18.56 5.44l.94 2.06.94-2.06 2.06-.94-2.06-.94-.94-2.06-.94 2.06-2.06.94zm-11 1L8.5 8.5l.94-2.06 2.06-.94-2.06-.94L8.5 2.5l-.94 2.06-2.06.94zm10 10l.94 2.06.94-2.06 2.06-.94-2.06-.94-.94-2.06-.94 2.06-2.06.94z\"/><path d=\"M17.41 7.96l-1.37-1.37c-.4-.4-.92-.59-1.43-.59-.52 0-1.04.2-1.43.59L10.3 9.45l-7.72 7.72c-.78.78-.78 2.05 0 2.83L4 21.41c.39.39.9.59 1.41.59.51 0 1.02-.2 1.41-.59l7.78-7.78 2.81-2.81c.8-.78.8-2.07 0-2.86zM5.41 20L4 18.59l7.72-7.72 1.47 1.35L5.41 20z\"/>\n",
              "  </svg>\n",
              "      </button>\n",
              "      \n",
              "  <style>\n",
              "    .colab-df-container {\n",
              "      display:flex;\n",
              "      flex-wrap:wrap;\n",
              "      gap: 12px;\n",
              "    }\n",
              "\n",
              "    .colab-df-convert {\n",
              "      background-color: #E8F0FE;\n",
              "      border: none;\n",
              "      border-radius: 50%;\n",
              "      cursor: pointer;\n",
              "      display: none;\n",
              "      fill: #1967D2;\n",
              "      height: 32px;\n",
              "      padding: 0 0 0 0;\n",
              "      width: 32px;\n",
              "    }\n",
              "\n",
              "    .colab-df-convert:hover {\n",
              "      background-color: #E2EBFA;\n",
              "      box-shadow: 0px 1px 2px rgba(60, 64, 67, 0.3), 0px 1px 3px 1px rgba(60, 64, 67, 0.15);\n",
              "      fill: #174EA6;\n",
              "    }\n",
              "\n",
              "    [theme=dark] .colab-df-convert {\n",
              "      background-color: #3B4455;\n",
              "      fill: #D2E3FC;\n",
              "    }\n",
              "\n",
              "    [theme=dark] .colab-df-convert:hover {\n",
              "      background-color: #434B5C;\n",
              "      box-shadow: 0px 1px 3px 1px rgba(0, 0, 0, 0.15);\n",
              "      filter: drop-shadow(0px 1px 2px rgba(0, 0, 0, 0.3));\n",
              "      fill: #FFFFFF;\n",
              "    }\n",
              "  </style>\n",
              "\n",
              "      <script>\n",
              "        const buttonEl =\n",
              "          document.querySelector('#df-63d01504-4645-4362-b42d-75bc3b5101c3 button.colab-df-convert');\n",
              "        buttonEl.style.display =\n",
              "          google.colab.kernel.accessAllowed ? 'block' : 'none';\n",
              "\n",
              "        async function convertToInteractive(key) {\n",
              "          const element = document.querySelector('#df-63d01504-4645-4362-b42d-75bc3b5101c3');\n",
              "          const dataTable =\n",
              "            await google.colab.kernel.invokeFunction('convertToInteractive',\n",
              "                                                     [key], {});\n",
              "          if (!dataTable) return;\n",
              "\n",
              "          const docLinkHtml = 'Like what you see? Visit the ' +\n",
              "            '<a target=\"_blank\" href=https://colab.research.google.com/notebooks/data_table.ipynb>data table notebook</a>'\n",
              "            + ' to learn more about interactive tables.';\n",
              "          element.innerHTML = '';\n",
              "          dataTable['output_type'] = 'display_data';\n",
              "          await google.colab.output.renderOutput(dataTable, element);\n",
              "          const docLink = document.createElement('div');\n",
              "          docLink.innerHTML = docLinkHtml;\n",
              "          element.appendChild(docLink);\n",
              "        }\n",
              "      </script>\n",
              "    </div>\n",
              "  </div>\n",
              "  "
            ]
          },
          "metadata": {},
          "execution_count": 11
        }
      ]
    },
    {
      "cell_type": "code",
      "source": [
        "df_fin.head()"
      ],
      "metadata": {
        "colab": {
          "base_uri": "https://localhost:8080/",
          "height": 206
        },
        "id": "jjoseE9fdXmE",
        "outputId": "8306472f-c4fc-417c-bca8-b0a65cb8a1f8"
      },
      "execution_count": null,
      "outputs": [
        {
          "output_type": "execute_result",
          "data": {
            "text/plain": [
              "   setiment                                               text\n",
              "0         1  According to Gran , the company has no plans t...\n",
              "1         1  Technopolis plans to develop in stages an area...\n",
              "2         0  The international electronic industry company ...\n",
              "3         2  With the new production plant the company woul...\n",
              "4         2  According to the company 's updated strategy f..."
            ],
            "text/html": [
              "\n",
              "  <div id=\"df-b5198d8b-cda7-4219-a95f-ad914ee08423\">\n",
              "    <div class=\"colab-df-container\">\n",
              "      <div>\n",
              "<style scoped>\n",
              "    .dataframe tbody tr th:only-of-type {\n",
              "        vertical-align: middle;\n",
              "    }\n",
              "\n",
              "    .dataframe tbody tr th {\n",
              "        vertical-align: top;\n",
              "    }\n",
              "\n",
              "    .dataframe thead th {\n",
              "        text-align: right;\n",
              "    }\n",
              "</style>\n",
              "<table border=\"1\" class=\"dataframe\">\n",
              "  <thead>\n",
              "    <tr style=\"text-align: right;\">\n",
              "      <th></th>\n",
              "      <th>setiment</th>\n",
              "      <th>text</th>\n",
              "    </tr>\n",
              "  </thead>\n",
              "  <tbody>\n",
              "    <tr>\n",
              "      <th>0</th>\n",
              "      <td>1</td>\n",
              "      <td>According to Gran , the company has no plans t...</td>\n",
              "    </tr>\n",
              "    <tr>\n",
              "      <th>1</th>\n",
              "      <td>1</td>\n",
              "      <td>Technopolis plans to develop in stages an area...</td>\n",
              "    </tr>\n",
              "    <tr>\n",
              "      <th>2</th>\n",
              "      <td>0</td>\n",
              "      <td>The international electronic industry company ...</td>\n",
              "    </tr>\n",
              "    <tr>\n",
              "      <th>3</th>\n",
              "      <td>2</td>\n",
              "      <td>With the new production plant the company woul...</td>\n",
              "    </tr>\n",
              "    <tr>\n",
              "      <th>4</th>\n",
              "      <td>2</td>\n",
              "      <td>According to the company 's updated strategy f...</td>\n",
              "    </tr>\n",
              "  </tbody>\n",
              "</table>\n",
              "</div>\n",
              "      <button class=\"colab-df-convert\" onclick=\"convertToInteractive('df-b5198d8b-cda7-4219-a95f-ad914ee08423')\"\n",
              "              title=\"Convert this dataframe to an interactive table.\"\n",
              "              style=\"display:none;\">\n",
              "        \n",
              "  <svg xmlns=\"http://www.w3.org/2000/svg\" height=\"24px\"viewBox=\"0 0 24 24\"\n",
              "       width=\"24px\">\n",
              "    <path d=\"M0 0h24v24H0V0z\" fill=\"none\"/>\n",
              "    <path d=\"M18.56 5.44l.94 2.06.94-2.06 2.06-.94-2.06-.94-.94-2.06-.94 2.06-2.06.94zm-11 1L8.5 8.5l.94-2.06 2.06-.94-2.06-.94L8.5 2.5l-.94 2.06-2.06.94zm10 10l.94 2.06.94-2.06 2.06-.94-2.06-.94-.94-2.06-.94 2.06-2.06.94z\"/><path d=\"M17.41 7.96l-1.37-1.37c-.4-.4-.92-.59-1.43-.59-.52 0-1.04.2-1.43.59L10.3 9.45l-7.72 7.72c-.78.78-.78 2.05 0 2.83L4 21.41c.39.39.9.59 1.41.59.51 0 1.02-.2 1.41-.59l7.78-7.78 2.81-2.81c.8-.78.8-2.07 0-2.86zM5.41 20L4 18.59l7.72-7.72 1.47 1.35L5.41 20z\"/>\n",
              "  </svg>\n",
              "      </button>\n",
              "      \n",
              "  <style>\n",
              "    .colab-df-container {\n",
              "      display:flex;\n",
              "      flex-wrap:wrap;\n",
              "      gap: 12px;\n",
              "    }\n",
              "\n",
              "    .colab-df-convert {\n",
              "      background-color: #E8F0FE;\n",
              "      border: none;\n",
              "      border-radius: 50%;\n",
              "      cursor: pointer;\n",
              "      display: none;\n",
              "      fill: #1967D2;\n",
              "      height: 32px;\n",
              "      padding: 0 0 0 0;\n",
              "      width: 32px;\n",
              "    }\n",
              "\n",
              "    .colab-df-convert:hover {\n",
              "      background-color: #E2EBFA;\n",
              "      box-shadow: 0px 1px 2px rgba(60, 64, 67, 0.3), 0px 1px 3px 1px rgba(60, 64, 67, 0.15);\n",
              "      fill: #174EA6;\n",
              "    }\n",
              "\n",
              "    [theme=dark] .colab-df-convert {\n",
              "      background-color: #3B4455;\n",
              "      fill: #D2E3FC;\n",
              "    }\n",
              "\n",
              "    [theme=dark] .colab-df-convert:hover {\n",
              "      background-color: #434B5C;\n",
              "      box-shadow: 0px 1px 3px 1px rgba(0, 0, 0, 0.15);\n",
              "      filter: drop-shadow(0px 1px 2px rgba(0, 0, 0, 0.3));\n",
              "      fill: #FFFFFF;\n",
              "    }\n",
              "  </style>\n",
              "\n",
              "      <script>\n",
              "        const buttonEl =\n",
              "          document.querySelector('#df-b5198d8b-cda7-4219-a95f-ad914ee08423 button.colab-df-convert');\n",
              "        buttonEl.style.display =\n",
              "          google.colab.kernel.accessAllowed ? 'block' : 'none';\n",
              "\n",
              "        async function convertToInteractive(key) {\n",
              "          const element = document.querySelector('#df-b5198d8b-cda7-4219-a95f-ad914ee08423');\n",
              "          const dataTable =\n",
              "            await google.colab.kernel.invokeFunction('convertToInteractive',\n",
              "                                                     [key], {});\n",
              "          if (!dataTable) return;\n",
              "\n",
              "          const docLinkHtml = 'Like what you see? Visit the ' +\n",
              "            '<a target=\"_blank\" href=https://colab.research.google.com/notebooks/data_table.ipynb>data table notebook</a>'\n",
              "            + ' to learn more about interactive tables.';\n",
              "          element.innerHTML = '';\n",
              "          dataTable['output_type'] = 'display_data';\n",
              "          await google.colab.output.renderOutput(dataTable, element);\n",
              "          const docLink = document.createElement('div');\n",
              "          docLink.innerHTML = docLinkHtml;\n",
              "          element.appendChild(docLink);\n",
              "        }\n",
              "      </script>\n",
              "    </div>\n",
              "  </div>\n",
              "  "
            ]
          },
          "metadata": {},
          "execution_count": 12
        }
      ]
    },
    {
      "cell_type": "code",
      "source": [
        "df_fin_news.head()"
      ],
      "metadata": {
        "colab": {
          "base_uri": "https://localhost:8080/",
          "height": 206
        },
        "id": "Chq1ACWEdXeV",
        "outputId": "37c74f81-866b-4050-d309-6d7e6917b60f"
      },
      "execution_count": null,
      "outputs": [
        {
          "output_type": "execute_result",
          "data": {
            "text/plain": [
              "                                            Sentence  Sentiment\n",
              "0  The GeoSolutions technology will leverage Bene...          2\n",
              "1  $ESI on lows, down $1.50 to $2.50 BK a real po...          0\n",
              "2  For the last quarter of 2010 , Componenta 's n...          2\n",
              "3  According to the Finnish-Russian Chamber of Co...          1\n",
              "4  The Swedish buyout firm has sold its remaining...          1"
            ],
            "text/html": [
              "\n",
              "  <div id=\"df-52de9c56-1efb-4d20-9c9e-51ac3723215a\">\n",
              "    <div class=\"colab-df-container\">\n",
              "      <div>\n",
              "<style scoped>\n",
              "    .dataframe tbody tr th:only-of-type {\n",
              "        vertical-align: middle;\n",
              "    }\n",
              "\n",
              "    .dataframe tbody tr th {\n",
              "        vertical-align: top;\n",
              "    }\n",
              "\n",
              "    .dataframe thead th {\n",
              "        text-align: right;\n",
              "    }\n",
              "</style>\n",
              "<table border=\"1\" class=\"dataframe\">\n",
              "  <thead>\n",
              "    <tr style=\"text-align: right;\">\n",
              "      <th></th>\n",
              "      <th>Sentence</th>\n",
              "      <th>Sentiment</th>\n",
              "    </tr>\n",
              "  </thead>\n",
              "  <tbody>\n",
              "    <tr>\n",
              "      <th>0</th>\n",
              "      <td>The GeoSolutions technology will leverage Bene...</td>\n",
              "      <td>2</td>\n",
              "    </tr>\n",
              "    <tr>\n",
              "      <th>1</th>\n",
              "      <td>$ESI on lows, down $1.50 to $2.50 BK a real po...</td>\n",
              "      <td>0</td>\n",
              "    </tr>\n",
              "    <tr>\n",
              "      <th>2</th>\n",
              "      <td>For the last quarter of 2010 , Componenta 's n...</td>\n",
              "      <td>2</td>\n",
              "    </tr>\n",
              "    <tr>\n",
              "      <th>3</th>\n",
              "      <td>According to the Finnish-Russian Chamber of Co...</td>\n",
              "      <td>1</td>\n",
              "    </tr>\n",
              "    <tr>\n",
              "      <th>4</th>\n",
              "      <td>The Swedish buyout firm has sold its remaining...</td>\n",
              "      <td>1</td>\n",
              "    </tr>\n",
              "  </tbody>\n",
              "</table>\n",
              "</div>\n",
              "      <button class=\"colab-df-convert\" onclick=\"convertToInteractive('df-52de9c56-1efb-4d20-9c9e-51ac3723215a')\"\n",
              "              title=\"Convert this dataframe to an interactive table.\"\n",
              "              style=\"display:none;\">\n",
              "        \n",
              "  <svg xmlns=\"http://www.w3.org/2000/svg\" height=\"24px\"viewBox=\"0 0 24 24\"\n",
              "       width=\"24px\">\n",
              "    <path d=\"M0 0h24v24H0V0z\" fill=\"none\"/>\n",
              "    <path d=\"M18.56 5.44l.94 2.06.94-2.06 2.06-.94-2.06-.94-.94-2.06-.94 2.06-2.06.94zm-11 1L8.5 8.5l.94-2.06 2.06-.94-2.06-.94L8.5 2.5l-.94 2.06-2.06.94zm10 10l.94 2.06.94-2.06 2.06-.94-2.06-.94-.94-2.06-.94 2.06-2.06.94z\"/><path d=\"M17.41 7.96l-1.37-1.37c-.4-.4-.92-.59-1.43-.59-.52 0-1.04.2-1.43.59L10.3 9.45l-7.72 7.72c-.78.78-.78 2.05 0 2.83L4 21.41c.39.39.9.59 1.41.59.51 0 1.02-.2 1.41-.59l7.78-7.78 2.81-2.81c.8-.78.8-2.07 0-2.86zM5.41 20L4 18.59l7.72-7.72 1.47 1.35L5.41 20z\"/>\n",
              "  </svg>\n",
              "      </button>\n",
              "      \n",
              "  <style>\n",
              "    .colab-df-container {\n",
              "      display:flex;\n",
              "      flex-wrap:wrap;\n",
              "      gap: 12px;\n",
              "    }\n",
              "\n",
              "    .colab-df-convert {\n",
              "      background-color: #E8F0FE;\n",
              "      border: none;\n",
              "      border-radius: 50%;\n",
              "      cursor: pointer;\n",
              "      display: none;\n",
              "      fill: #1967D2;\n",
              "      height: 32px;\n",
              "      padding: 0 0 0 0;\n",
              "      width: 32px;\n",
              "    }\n",
              "\n",
              "    .colab-df-convert:hover {\n",
              "      background-color: #E2EBFA;\n",
              "      box-shadow: 0px 1px 2px rgba(60, 64, 67, 0.3), 0px 1px 3px 1px rgba(60, 64, 67, 0.15);\n",
              "      fill: #174EA6;\n",
              "    }\n",
              "\n",
              "    [theme=dark] .colab-df-convert {\n",
              "      background-color: #3B4455;\n",
              "      fill: #D2E3FC;\n",
              "    }\n",
              "\n",
              "    [theme=dark] .colab-df-convert:hover {\n",
              "      background-color: #434B5C;\n",
              "      box-shadow: 0px 1px 3px 1px rgba(0, 0, 0, 0.15);\n",
              "      filter: drop-shadow(0px 1px 2px rgba(0, 0, 0, 0.3));\n",
              "      fill: #FFFFFF;\n",
              "    }\n",
              "  </style>\n",
              "\n",
              "      <script>\n",
              "        const buttonEl =\n",
              "          document.querySelector('#df-52de9c56-1efb-4d20-9c9e-51ac3723215a button.colab-df-convert');\n",
              "        buttonEl.style.display =\n",
              "          google.colab.kernel.accessAllowed ? 'block' : 'none';\n",
              "\n",
              "        async function convertToInteractive(key) {\n",
              "          const element = document.querySelector('#df-52de9c56-1efb-4d20-9c9e-51ac3723215a');\n",
              "          const dataTable =\n",
              "            await google.colab.kernel.invokeFunction('convertToInteractive',\n",
              "                                                     [key], {});\n",
              "          if (!dataTable) return;\n",
              "\n",
              "          const docLinkHtml = 'Like what you see? Visit the ' +\n",
              "            '<a target=\"_blank\" href=https://colab.research.google.com/notebooks/data_table.ipynb>data table notebook</a>'\n",
              "            + ' to learn more about interactive tables.';\n",
              "          element.innerHTML = '';\n",
              "          dataTable['output_type'] = 'display_data';\n",
              "          await google.colab.output.renderOutput(dataTable, element);\n",
              "          const docLink = document.createElement('div');\n",
              "          docLink.innerHTML = docLinkHtml;\n",
              "          element.appendChild(docLink);\n",
              "        }\n",
              "      </script>\n",
              "    </div>\n",
              "  </div>\n",
              "  "
            ]
          },
          "metadata": {},
          "execution_count": 14
        }
      ]
    },
    {
      "cell_type": "code",
      "source": [
        "df_gpt.head()"
      ],
      "metadata": {
        "colab": {
          "base_uri": "https://localhost:8080/",
          "height": 206
        },
        "id": "xEITaTPIdXWG",
        "outputId": "2e245e12-5534-486c-e798-0e887da6f58c"
      },
      "execution_count": null,
      "outputs": [
        {
          "output_type": "execute_result",
          "data": {
            "text/plain": [
              "                                              tweets  labels\n",
              "0  ChatGPT: Optimizing Language Models for Dialog...       1\n",
              "1  Try talking with ChatGPT, our new AI system wh...       2\n",
              "2  ChatGPT: Optimizing Language Models for Dialog...       1\n",
              "3  THRILLED to share that ChatGPT, our new model ...       2\n",
              "4  As of 2 minutes ago, @OpenAI released their ne...       0"
            ],
            "text/html": [
              "\n",
              "  <div id=\"df-6071209d-4892-4223-b3ec-7e21f8102ce9\">\n",
              "    <div class=\"colab-df-container\">\n",
              "      <div>\n",
              "<style scoped>\n",
              "    .dataframe tbody tr th:only-of-type {\n",
              "        vertical-align: middle;\n",
              "    }\n",
              "\n",
              "    .dataframe tbody tr th {\n",
              "        vertical-align: top;\n",
              "    }\n",
              "\n",
              "    .dataframe thead th {\n",
              "        text-align: right;\n",
              "    }\n",
              "</style>\n",
              "<table border=\"1\" class=\"dataframe\">\n",
              "  <thead>\n",
              "    <tr style=\"text-align: right;\">\n",
              "      <th></th>\n",
              "      <th>tweets</th>\n",
              "      <th>labels</th>\n",
              "    </tr>\n",
              "  </thead>\n",
              "  <tbody>\n",
              "    <tr>\n",
              "      <th>0</th>\n",
              "      <td>ChatGPT: Optimizing Language Models for Dialog...</td>\n",
              "      <td>1</td>\n",
              "    </tr>\n",
              "    <tr>\n",
              "      <th>1</th>\n",
              "      <td>Try talking with ChatGPT, our new AI system wh...</td>\n",
              "      <td>2</td>\n",
              "    </tr>\n",
              "    <tr>\n",
              "      <th>2</th>\n",
              "      <td>ChatGPT: Optimizing Language Models for Dialog...</td>\n",
              "      <td>1</td>\n",
              "    </tr>\n",
              "    <tr>\n",
              "      <th>3</th>\n",
              "      <td>THRILLED to share that ChatGPT, our new model ...</td>\n",
              "      <td>2</td>\n",
              "    </tr>\n",
              "    <tr>\n",
              "      <th>4</th>\n",
              "      <td>As of 2 minutes ago, @OpenAI released their ne...</td>\n",
              "      <td>0</td>\n",
              "    </tr>\n",
              "  </tbody>\n",
              "</table>\n",
              "</div>\n",
              "      <button class=\"colab-df-convert\" onclick=\"convertToInteractive('df-6071209d-4892-4223-b3ec-7e21f8102ce9')\"\n",
              "              title=\"Convert this dataframe to an interactive table.\"\n",
              "              style=\"display:none;\">\n",
              "        \n",
              "  <svg xmlns=\"http://www.w3.org/2000/svg\" height=\"24px\"viewBox=\"0 0 24 24\"\n",
              "       width=\"24px\">\n",
              "    <path d=\"M0 0h24v24H0V0z\" fill=\"none\"/>\n",
              "    <path d=\"M18.56 5.44l.94 2.06.94-2.06 2.06-.94-2.06-.94-.94-2.06-.94 2.06-2.06.94zm-11 1L8.5 8.5l.94-2.06 2.06-.94-2.06-.94L8.5 2.5l-.94 2.06-2.06.94zm10 10l.94 2.06.94-2.06 2.06-.94-2.06-.94-.94-2.06-.94 2.06-2.06.94z\"/><path d=\"M17.41 7.96l-1.37-1.37c-.4-.4-.92-.59-1.43-.59-.52 0-1.04.2-1.43.59L10.3 9.45l-7.72 7.72c-.78.78-.78 2.05 0 2.83L4 21.41c.39.39.9.59 1.41.59.51 0 1.02-.2 1.41-.59l7.78-7.78 2.81-2.81c.8-.78.8-2.07 0-2.86zM5.41 20L4 18.59l7.72-7.72 1.47 1.35L5.41 20z\"/>\n",
              "  </svg>\n",
              "      </button>\n",
              "      \n",
              "  <style>\n",
              "    .colab-df-container {\n",
              "      display:flex;\n",
              "      flex-wrap:wrap;\n",
              "      gap: 12px;\n",
              "    }\n",
              "\n",
              "    .colab-df-convert {\n",
              "      background-color: #E8F0FE;\n",
              "      border: none;\n",
              "      border-radius: 50%;\n",
              "      cursor: pointer;\n",
              "      display: none;\n",
              "      fill: #1967D2;\n",
              "      height: 32px;\n",
              "      padding: 0 0 0 0;\n",
              "      width: 32px;\n",
              "    }\n",
              "\n",
              "    .colab-df-convert:hover {\n",
              "      background-color: #E2EBFA;\n",
              "      box-shadow: 0px 1px 2px rgba(60, 64, 67, 0.3), 0px 1px 3px 1px rgba(60, 64, 67, 0.15);\n",
              "      fill: #174EA6;\n",
              "    }\n",
              "\n",
              "    [theme=dark] .colab-df-convert {\n",
              "      background-color: #3B4455;\n",
              "      fill: #D2E3FC;\n",
              "    }\n",
              "\n",
              "    [theme=dark] .colab-df-convert:hover {\n",
              "      background-color: #434B5C;\n",
              "      box-shadow: 0px 1px 3px 1px rgba(0, 0, 0, 0.15);\n",
              "      filter: drop-shadow(0px 1px 2px rgba(0, 0, 0, 0.3));\n",
              "      fill: #FFFFFF;\n",
              "    }\n",
              "  </style>\n",
              "\n",
              "      <script>\n",
              "        const buttonEl =\n",
              "          document.querySelector('#df-6071209d-4892-4223-b3ec-7e21f8102ce9 button.colab-df-convert');\n",
              "        buttonEl.style.display =\n",
              "          google.colab.kernel.accessAllowed ? 'block' : 'none';\n",
              "\n",
              "        async function convertToInteractive(key) {\n",
              "          const element = document.querySelector('#df-6071209d-4892-4223-b3ec-7e21f8102ce9');\n",
              "          const dataTable =\n",
              "            await google.colab.kernel.invokeFunction('convertToInteractive',\n",
              "                                                     [key], {});\n",
              "          if (!dataTable) return;\n",
              "\n",
              "          const docLinkHtml = 'Like what you see? Visit the ' +\n",
              "            '<a target=\"_blank\" href=https://colab.research.google.com/notebooks/data_table.ipynb>data table notebook</a>'\n",
              "            + ' to learn more about interactive tables.';\n",
              "          element.innerHTML = '';\n",
              "          dataTable['output_type'] = 'display_data';\n",
              "          await google.colab.output.renderOutput(dataTable, element);\n",
              "          const docLink = document.createElement('div');\n",
              "          docLink.innerHTML = docLinkHtml;\n",
              "          element.appendChild(docLink);\n",
              "        }\n",
              "      </script>\n",
              "    </div>\n",
              "  </div>\n",
              "  "
            ]
          },
          "metadata": {},
          "execution_count": 15
        }
      ]
    },
    {
      "cell_type": "code",
      "source": [
        "df_rest_t=df_rest[:1000]"
      ],
      "metadata": {
        "id": "LplBoWcZeG-B"
      },
      "execution_count": null,
      "outputs": []
    },
    {
      "cell_type": "code",
      "source": [
        "df_rest_t.head()"
      ],
      "metadata": {
        "colab": {
          "base_uri": "https://localhost:8080/",
          "height": 206
        },
        "id": "Xx3IeShVfhik",
        "outputId": "d82a39ca-40cc-4b9b-abfc-ee0fa997415e"
      },
      "execution_count": null,
      "outputs": [
        {
          "output_type": "execute_result",
          "data": {
            "text/plain": [
              "                                              Review  Liked\n",
              "0                           Wow... Loved this place.      1\n",
              "1                                 Crust is not good.      0\n",
              "2          Not tasty and the texture was just nasty.      0\n",
              "3  Stopped by during the late May bank holiday of...      1\n",
              "4  The selection on the menu was great and so wer...      1"
            ],
            "text/html": [
              "\n",
              "  <div id=\"df-9e8c9e41-4d23-4641-a68e-840b0d719b2a\">\n",
              "    <div class=\"colab-df-container\">\n",
              "      <div>\n",
              "<style scoped>\n",
              "    .dataframe tbody tr th:only-of-type {\n",
              "        vertical-align: middle;\n",
              "    }\n",
              "\n",
              "    .dataframe tbody tr th {\n",
              "        vertical-align: top;\n",
              "    }\n",
              "\n",
              "    .dataframe thead th {\n",
              "        text-align: right;\n",
              "    }\n",
              "</style>\n",
              "<table border=\"1\" class=\"dataframe\">\n",
              "  <thead>\n",
              "    <tr style=\"text-align: right;\">\n",
              "      <th></th>\n",
              "      <th>Review</th>\n",
              "      <th>Liked</th>\n",
              "    </tr>\n",
              "  </thead>\n",
              "  <tbody>\n",
              "    <tr>\n",
              "      <th>0</th>\n",
              "      <td>Wow... Loved this place.</td>\n",
              "      <td>1</td>\n",
              "    </tr>\n",
              "    <tr>\n",
              "      <th>1</th>\n",
              "      <td>Crust is not good.</td>\n",
              "      <td>0</td>\n",
              "    </tr>\n",
              "    <tr>\n",
              "      <th>2</th>\n",
              "      <td>Not tasty and the texture was just nasty.</td>\n",
              "      <td>0</td>\n",
              "    </tr>\n",
              "    <tr>\n",
              "      <th>3</th>\n",
              "      <td>Stopped by during the late May bank holiday of...</td>\n",
              "      <td>1</td>\n",
              "    </tr>\n",
              "    <tr>\n",
              "      <th>4</th>\n",
              "      <td>The selection on the menu was great and so wer...</td>\n",
              "      <td>1</td>\n",
              "    </tr>\n",
              "  </tbody>\n",
              "</table>\n",
              "</div>\n",
              "      <button class=\"colab-df-convert\" onclick=\"convertToInteractive('df-9e8c9e41-4d23-4641-a68e-840b0d719b2a')\"\n",
              "              title=\"Convert this dataframe to an interactive table.\"\n",
              "              style=\"display:none;\">\n",
              "        \n",
              "  <svg xmlns=\"http://www.w3.org/2000/svg\" height=\"24px\"viewBox=\"0 0 24 24\"\n",
              "       width=\"24px\">\n",
              "    <path d=\"M0 0h24v24H0V0z\" fill=\"none\"/>\n",
              "    <path d=\"M18.56 5.44l.94 2.06.94-2.06 2.06-.94-2.06-.94-.94-2.06-.94 2.06-2.06.94zm-11 1L8.5 8.5l.94-2.06 2.06-.94-2.06-.94L8.5 2.5l-.94 2.06-2.06.94zm10 10l.94 2.06.94-2.06 2.06-.94-2.06-.94-.94-2.06-.94 2.06-2.06.94z\"/><path d=\"M17.41 7.96l-1.37-1.37c-.4-.4-.92-.59-1.43-.59-.52 0-1.04.2-1.43.59L10.3 9.45l-7.72 7.72c-.78.78-.78 2.05 0 2.83L4 21.41c.39.39.9.59 1.41.59.51 0 1.02-.2 1.41-.59l7.78-7.78 2.81-2.81c.8-.78.8-2.07 0-2.86zM5.41 20L4 18.59l7.72-7.72 1.47 1.35L5.41 20z\"/>\n",
              "  </svg>\n",
              "      </button>\n",
              "      \n",
              "  <style>\n",
              "    .colab-df-container {\n",
              "      display:flex;\n",
              "      flex-wrap:wrap;\n",
              "      gap: 12px;\n",
              "    }\n",
              "\n",
              "    .colab-df-convert {\n",
              "      background-color: #E8F0FE;\n",
              "      border: none;\n",
              "      border-radius: 50%;\n",
              "      cursor: pointer;\n",
              "      display: none;\n",
              "      fill: #1967D2;\n",
              "      height: 32px;\n",
              "      padding: 0 0 0 0;\n",
              "      width: 32px;\n",
              "    }\n",
              "\n",
              "    .colab-df-convert:hover {\n",
              "      background-color: #E2EBFA;\n",
              "      box-shadow: 0px 1px 2px rgba(60, 64, 67, 0.3), 0px 1px 3px 1px rgba(60, 64, 67, 0.15);\n",
              "      fill: #174EA6;\n",
              "    }\n",
              "\n",
              "    [theme=dark] .colab-df-convert {\n",
              "      background-color: #3B4455;\n",
              "      fill: #D2E3FC;\n",
              "    }\n",
              "\n",
              "    [theme=dark] .colab-df-convert:hover {\n",
              "      background-color: #434B5C;\n",
              "      box-shadow: 0px 1px 3px 1px rgba(0, 0, 0, 0.15);\n",
              "      filter: drop-shadow(0px 1px 2px rgba(0, 0, 0, 0.3));\n",
              "      fill: #FFFFFF;\n",
              "    }\n",
              "  </style>\n",
              "\n",
              "      <script>\n",
              "        const buttonEl =\n",
              "          document.querySelector('#df-9e8c9e41-4d23-4641-a68e-840b0d719b2a button.colab-df-convert');\n",
              "        buttonEl.style.display =\n",
              "          google.colab.kernel.accessAllowed ? 'block' : 'none';\n",
              "\n",
              "        async function convertToInteractive(key) {\n",
              "          const element = document.querySelector('#df-9e8c9e41-4d23-4641-a68e-840b0d719b2a');\n",
              "          const dataTable =\n",
              "            await google.colab.kernel.invokeFunction('convertToInteractive',\n",
              "                                                     [key], {});\n",
              "          if (!dataTable) return;\n",
              "\n",
              "          const docLinkHtml = 'Like what you see? Visit the ' +\n",
              "            '<a target=\"_blank\" href=https://colab.research.google.com/notebooks/data_table.ipynb>data table notebook</a>'\n",
              "            + ' to learn more about interactive tables.';\n",
              "          element.innerHTML = '';\n",
              "          dataTable['output_type'] = 'display_data';\n",
              "          await google.colab.output.renderOutput(dataTable, element);\n",
              "          const docLink = document.createElement('div');\n",
              "          docLink.innerHTML = docLinkHtml;\n",
              "          element.appendChild(docLink);\n",
              "        }\n",
              "      </script>\n",
              "    </div>\n",
              "  </div>\n",
              "  "
            ]
          },
          "metadata": {},
          "execution_count": 16
        }
      ]
    },
    {
      "cell_type": "code",
      "source": [
        "df_airl_t=df_airl[:500]\n",
        "df_fin_t=df_fin[:500]\n",
        "df_fin_news_t=df_fin_news[:500]\n",
        "df_gpt_t=df_gpt[:500]"
      ],
      "metadata": {
        "id": "Mh1asx8geGoW"
      },
      "execution_count": null,
      "outputs": []
    },
    {
      "cell_type": "code",
      "source": [
        "x1=df_rest_t['Liked'].value_counts()\n",
        "print(x1)"
      ],
      "metadata": {
        "colab": {
          "base_uri": "https://localhost:8080/"
        },
        "id": "DmVjpaEHyICG",
        "outputId": "19a624e8-3565-4bd5-f086-19d6970d4b3f"
      },
      "execution_count": null,
      "outputs": [
        {
          "output_type": "stream",
          "name": "stdout",
          "text": [
            "1    500\n",
            "0    500\n",
            "Name: Liked, dtype: int64\n"
          ]
        }
      ]
    },
    {
      "cell_type": "code",
      "source": [
        "x2=df_airl_t['airline_sentiment'].value_counts()\n",
        "print(x2)"
      ],
      "metadata": {
        "colab": {
          "base_uri": "https://localhost:8080/"
        },
        "id": "LMIn3C5NgdCZ",
        "outputId": "46f887c2-72b6-4514-a499-e805ff0bd855"
      },
      "execution_count": null,
      "outputs": [
        {
          "output_type": "stream",
          "name": "stdout",
          "text": [
            "0    181\n",
            "1    168\n",
            "2    151\n",
            "Name: airline_sentiment, dtype: int64\n"
          ]
        }
      ]
    },
    {
      "cell_type": "markdown",
      "source": [
        "# Processing the dataset using NLP techniques\n",
        "##### Like removal of stopwords, Lemmatization, Tokenization"
      ],
      "metadata": {
        "id": "dMjknS4l5iVC"
      }
    },
    {
      "cell_type": "code",
      "source": [
        "#convert to lowercase, strip and remove punctuations\n",
        "def preprocess(text):\n",
        "    text = text.lower() \n",
        "    text=text.strip()  \n",
        "    text=re.compile('<.*?>').sub('', text) \n",
        "    text = re.compile('[%s]' % re.escape(string.punctuation)).sub(' ', text)  \n",
        "    text = re.sub('\\s+', ' ', text)  \n",
        "    text = re.sub(r'\\[[0-9]*\\]',' ',text) \n",
        "    text=re.sub(r'[^\\w\\s]', '', str(text).lower().strip())\n",
        "    text = re.sub(r'\\d',' ',text) \n",
        "    text = re.sub(r'\\s+',' ',text) \n",
        "    return text\n",
        "\n",
        " \n",
        "# STOPWORD REMOVAL\n",
        "def stopword(string):\n",
        "    a= [i for i in string.split() if i not in stopwords.words('english')]\n",
        "    return ' '.join(a)\n",
        "#LEMMATIZATION\n",
        "# Initialize the lemmatizer\n",
        "wl = WordNetLemmatizer()\n",
        " \n",
        "# This is a helper function to map NTLK position tags\n",
        "def get_wordnet_pos(tag):\n",
        "    if tag.startswith('J'):\n",
        "        return wordnet.ADJ\n",
        "    elif tag.startswith('V'):\n",
        "        return wordnet.VERB\n",
        "    elif tag.startswith('N'):\n",
        "        return wordnet.NOUN\n",
        "    elif tag.startswith('R'):\n",
        "        return wordnet.ADV\n",
        "    else:\n",
        "        return wordnet.NOUN\n",
        "# Tokenize the sentence\n",
        "def lemmatizer(string):\n",
        "    word_pos_tags = nltk.pos_tag(word_tokenize(string)) # Get position tags\n",
        "    a=[wl.lemmatize(tag[0], get_wordnet_pos(tag[1])) for idx, tag in enumerate(word_pos_tags)] # Map the position tag and lemmatize the word/token\n",
        "    return \" \".join(a)"
      ],
      "metadata": {
        "id": "UK6D-nLozMxj"
      },
      "execution_count": null,
      "outputs": []
    },
    {
      "cell_type": "code",
      "source": [
        "def finalpreprocess(string):\n",
        "    return lemmatizer(stopword(preprocess(string)))"
      ],
      "metadata": {
        "id": "9Xrwf70HFkcl"
      },
      "execution_count": null,
      "outputs": []
    },
    {
      "cell_type": "code",
      "source": [
        "df_rest_t['clean_text_rest'] = df_rest_t['Review'].apply(lambda x: finalpreprocess(x))\n",
        "df_rest_t.head()"
      ],
      "metadata": {
        "colab": {
          "base_uri": "https://localhost:8080/"
        },
        "id": "lb21ePli1Mvr",
        "outputId": "55e03fca-6f60-412a-de4f-0f43edea53cf"
      },
      "execution_count": null,
      "outputs": [
        {
          "output_type": "stream",
          "name": "stderr",
          "text": [
            "<ipython-input-22-5915f68422c7>:1: SettingWithCopyWarning: \n",
            "A value is trying to be set on a copy of a slice from a DataFrame.\n",
            "Try using .loc[row_indexer,col_indexer] = value instead\n",
            "\n",
            "See the caveats in the documentation: https://pandas.pydata.org/pandas-docs/stable/user_guide/indexing.html#returning-a-view-versus-a-copy\n",
            "  df_rest_t['clean_text_rest'] = df_rest_t['Review'].apply(lambda x: finalpreprocess(x))\n"
          ]
        }
      ]
    },
    {
      "cell_type": "code",
      "source": [
        "df_rest_t"
      ],
      "metadata": {
        "colab": {
          "base_uri": "https://localhost:8080/",
          "height": 423
        },
        "id": "lk3NYRZf3dUs",
        "outputId": "5d09c69d-7418-433f-c231-9efe1e3ebabf"
      },
      "execution_count": null,
      "outputs": [
        {
          "output_type": "execute_result",
          "data": {
            "text/plain": [
              "                                                Review  Liked  \\\n",
              "0                             Wow... Loved this place.      1   \n",
              "1                                   Crust is not good.      0   \n",
              "2            Not tasty and the texture was just nasty.      0   \n",
              "3    Stopped by during the late May bank holiday of...      1   \n",
              "4    The selection on the menu was great and so wer...      1   \n",
              "..                                                 ...    ...   \n",
              "995  I think food should have flavor and texture an...      0   \n",
              "996                           Appetite instantly gone.      0   \n",
              "997  Overall I was not impressed and would not go b...      0   \n",
              "998  The whole experience was underwhelming, and I ...      0   \n",
              "999  Then, as if I hadn't wasted enough of my life ...      0   \n",
              "\n",
              "                                       clean_text_rest  \n",
              "0                                       wow love place  \n",
              "1                                           crust good  \n",
              "2                                  tasty texture nasty  \n",
              "3    stop late may bank holiday rick steve recommen...  \n",
              "4                           selection menu great price  \n",
              "..                                                 ...  \n",
              "995                     think food flavor texture lack  \n",
              "996                              appetite instantly go  \n",
              "997                      overall impress would go back  \n",
              "998  whole experience underwhelming think go ninja ...  \n",
              "999  waste enough life pour salt wound draw time ta...  \n",
              "\n",
              "[1000 rows x 3 columns]"
            ],
            "text/html": [
              "\n",
              "  <div id=\"df-99b503b0-813a-4950-8e0c-9e5b92cd93a8\">\n",
              "    <div class=\"colab-df-container\">\n",
              "      <div>\n",
              "<style scoped>\n",
              "    .dataframe tbody tr th:only-of-type {\n",
              "        vertical-align: middle;\n",
              "    }\n",
              "\n",
              "    .dataframe tbody tr th {\n",
              "        vertical-align: top;\n",
              "    }\n",
              "\n",
              "    .dataframe thead th {\n",
              "        text-align: right;\n",
              "    }\n",
              "</style>\n",
              "<table border=\"1\" class=\"dataframe\">\n",
              "  <thead>\n",
              "    <tr style=\"text-align: right;\">\n",
              "      <th></th>\n",
              "      <th>Review</th>\n",
              "      <th>Liked</th>\n",
              "      <th>clean_text_rest</th>\n",
              "    </tr>\n",
              "  </thead>\n",
              "  <tbody>\n",
              "    <tr>\n",
              "      <th>0</th>\n",
              "      <td>Wow... Loved this place.</td>\n",
              "      <td>1</td>\n",
              "      <td>wow love place</td>\n",
              "    </tr>\n",
              "    <tr>\n",
              "      <th>1</th>\n",
              "      <td>Crust is not good.</td>\n",
              "      <td>0</td>\n",
              "      <td>crust good</td>\n",
              "    </tr>\n",
              "    <tr>\n",
              "      <th>2</th>\n",
              "      <td>Not tasty and the texture was just nasty.</td>\n",
              "      <td>0</td>\n",
              "      <td>tasty texture nasty</td>\n",
              "    </tr>\n",
              "    <tr>\n",
              "      <th>3</th>\n",
              "      <td>Stopped by during the late May bank holiday of...</td>\n",
              "      <td>1</td>\n",
              "      <td>stop late may bank holiday rick steve recommen...</td>\n",
              "    </tr>\n",
              "    <tr>\n",
              "      <th>4</th>\n",
              "      <td>The selection on the menu was great and so wer...</td>\n",
              "      <td>1</td>\n",
              "      <td>selection menu great price</td>\n",
              "    </tr>\n",
              "    <tr>\n",
              "      <th>...</th>\n",
              "      <td>...</td>\n",
              "      <td>...</td>\n",
              "      <td>...</td>\n",
              "    </tr>\n",
              "    <tr>\n",
              "      <th>995</th>\n",
              "      <td>I think food should have flavor and texture an...</td>\n",
              "      <td>0</td>\n",
              "      <td>think food flavor texture lack</td>\n",
              "    </tr>\n",
              "    <tr>\n",
              "      <th>996</th>\n",
              "      <td>Appetite instantly gone.</td>\n",
              "      <td>0</td>\n",
              "      <td>appetite instantly go</td>\n",
              "    </tr>\n",
              "    <tr>\n",
              "      <th>997</th>\n",
              "      <td>Overall I was not impressed and would not go b...</td>\n",
              "      <td>0</td>\n",
              "      <td>overall impress would go back</td>\n",
              "    </tr>\n",
              "    <tr>\n",
              "      <th>998</th>\n",
              "      <td>The whole experience was underwhelming, and I ...</td>\n",
              "      <td>0</td>\n",
              "      <td>whole experience underwhelming think go ninja ...</td>\n",
              "    </tr>\n",
              "    <tr>\n",
              "      <th>999</th>\n",
              "      <td>Then, as if I hadn't wasted enough of my life ...</td>\n",
              "      <td>0</td>\n",
              "      <td>waste enough life pour salt wound draw time ta...</td>\n",
              "    </tr>\n",
              "  </tbody>\n",
              "</table>\n",
              "<p>1000 rows × 3 columns</p>\n",
              "</div>\n",
              "      <button class=\"colab-df-convert\" onclick=\"convertToInteractive('df-99b503b0-813a-4950-8e0c-9e5b92cd93a8')\"\n",
              "              title=\"Convert this dataframe to an interactive table.\"\n",
              "              style=\"display:none;\">\n",
              "        \n",
              "  <svg xmlns=\"http://www.w3.org/2000/svg\" height=\"24px\"viewBox=\"0 0 24 24\"\n",
              "       width=\"24px\">\n",
              "    <path d=\"M0 0h24v24H0V0z\" fill=\"none\"/>\n",
              "    <path d=\"M18.56 5.44l.94 2.06.94-2.06 2.06-.94-2.06-.94-.94-2.06-.94 2.06-2.06.94zm-11 1L8.5 8.5l.94-2.06 2.06-.94-2.06-.94L8.5 2.5l-.94 2.06-2.06.94zm10 10l.94 2.06.94-2.06 2.06-.94-2.06-.94-.94-2.06-.94 2.06-2.06.94z\"/><path d=\"M17.41 7.96l-1.37-1.37c-.4-.4-.92-.59-1.43-.59-.52 0-1.04.2-1.43.59L10.3 9.45l-7.72 7.72c-.78.78-.78 2.05 0 2.83L4 21.41c.39.39.9.59 1.41.59.51 0 1.02-.2 1.41-.59l7.78-7.78 2.81-2.81c.8-.78.8-2.07 0-2.86zM5.41 20L4 18.59l7.72-7.72 1.47 1.35L5.41 20z\"/>\n",
              "  </svg>\n",
              "      </button>\n",
              "      \n",
              "  <style>\n",
              "    .colab-df-container {\n",
              "      display:flex;\n",
              "      flex-wrap:wrap;\n",
              "      gap: 12px;\n",
              "    }\n",
              "\n",
              "    .colab-df-convert {\n",
              "      background-color: #E8F0FE;\n",
              "      border: none;\n",
              "      border-radius: 50%;\n",
              "      cursor: pointer;\n",
              "      display: none;\n",
              "      fill: #1967D2;\n",
              "      height: 32px;\n",
              "      padding: 0 0 0 0;\n",
              "      width: 32px;\n",
              "    }\n",
              "\n",
              "    .colab-df-convert:hover {\n",
              "      background-color: #E2EBFA;\n",
              "      box-shadow: 0px 1px 2px rgba(60, 64, 67, 0.3), 0px 1px 3px 1px rgba(60, 64, 67, 0.15);\n",
              "      fill: #174EA6;\n",
              "    }\n",
              "\n",
              "    [theme=dark] .colab-df-convert {\n",
              "      background-color: #3B4455;\n",
              "      fill: #D2E3FC;\n",
              "    }\n",
              "\n",
              "    [theme=dark] .colab-df-convert:hover {\n",
              "      background-color: #434B5C;\n",
              "      box-shadow: 0px 1px 3px 1px rgba(0, 0, 0, 0.15);\n",
              "      filter: drop-shadow(0px 1px 2px rgba(0, 0, 0, 0.3));\n",
              "      fill: #FFFFFF;\n",
              "    }\n",
              "  </style>\n",
              "\n",
              "      <script>\n",
              "        const buttonEl =\n",
              "          document.querySelector('#df-99b503b0-813a-4950-8e0c-9e5b92cd93a8 button.colab-df-convert');\n",
              "        buttonEl.style.display =\n",
              "          google.colab.kernel.accessAllowed ? 'block' : 'none';\n",
              "\n",
              "        async function convertToInteractive(key) {\n",
              "          const element = document.querySelector('#df-99b503b0-813a-4950-8e0c-9e5b92cd93a8');\n",
              "          const dataTable =\n",
              "            await google.colab.kernel.invokeFunction('convertToInteractive',\n",
              "                                                     [key], {});\n",
              "          if (!dataTable) return;\n",
              "\n",
              "          const docLinkHtml = 'Like what you see? Visit the ' +\n",
              "            '<a target=\"_blank\" href=https://colab.research.google.com/notebooks/data_table.ipynb>data table notebook</a>'\n",
              "            + ' to learn more about interactive tables.';\n",
              "          element.innerHTML = '';\n",
              "          dataTable['output_type'] = 'display_data';\n",
              "          await google.colab.output.renderOutput(dataTable, element);\n",
              "          const docLink = document.createElement('div');\n",
              "          docLink.innerHTML = docLinkHtml;\n",
              "          element.appendChild(docLink);\n",
              "        }\n",
              "      </script>\n",
              "    </div>\n",
              "  </div>\n",
              "  "
            ]
          },
          "metadata": {},
          "execution_count": 23
        }
      ]
    },
    {
      "cell_type": "code",
      "source": [
        "df_airl_t['clean_text_airl'] = df_airl_t['text'].apply(lambda x: finalpreprocess(x))\n",
        "df_airl_t.head()\n",
        "\n",
        "df_fin_t['clean_text_fin'] = df_fin_t['text'].apply(lambda x: finalpreprocess(x))\n",
        "df_fin_t.head()\n",
        "\n",
        "df_fin_news_t['clean_text_fin_news'] = df_fin_news_t['Sentence'].apply(lambda x: finalpreprocess(x))\n",
        "df_fin_news_t.head()\n"
      ],
      "metadata": {
        "id": "n4_YIOV-jUtz"
      },
      "execution_count": null,
      "outputs": []
    },
    {
      "cell_type": "code",
      "source": [
        "df_gpt_t['clean_text_gpt'] = df_gpt_t['tweets'].apply(lambda x: finalpreprocess(x))\n",
        "df_gpt_t.head()"
      ],
      "metadata": {
        "colab": {
          "base_uri": "https://localhost:8080/",
          "height": 310
        },
        "id": "diLbS7zJ0idW",
        "outputId": "14358081-5937-4f0a-9abf-c2e8569bfcd6"
      },
      "execution_count": null,
      "outputs": [
        {
          "output_type": "stream",
          "name": "stderr",
          "text": [
            "<ipython-input-20-5ed089e60473>:1: SettingWithCopyWarning: \n",
            "A value is trying to be set on a copy of a slice from a DataFrame.\n",
            "Try using .loc[row_indexer,col_indexer] = value instead\n",
            "\n",
            "See the caveats in the documentation: https://pandas.pydata.org/pandas-docs/stable/user_guide/indexing.html#returning-a-view-versus-a-copy\n",
            "  df_gpt_t['clean_text_gpt'] = df_gpt_t['tweets'].apply(lambda x: finalpreprocess(x))\n"
          ]
        },
        {
          "output_type": "execute_result",
          "data": {
            "text/plain": [
              "                                              tweets  labels  \\\n",
              "0  ChatGPT: Optimizing Language Models for Dialog...       1   \n",
              "1  Try talking with ChatGPT, our new AI system wh...       2   \n",
              "2  ChatGPT: Optimizing Language Models for Dialog...       1   \n",
              "3  THRILLED to share that ChatGPT, our new model ...       2   \n",
              "4  As of 2 minutes ago, @OpenAI released their ne...       0   \n",
              "\n",
              "                                      clean_text_gpt  \n",
              "0  chatgpt optimize language model dialogue https...  \n",
              "1  try talk chatgpt new ai system optimize dialog...  \n",
              "2  chatgpt optimize language model dialogue https...  \n",
              "3  thrill share chatgpt new model optimize dialog...  \n",
              "4  minute ago openai release new chatgpt n nand u...  "
            ],
            "text/html": [
              "\n",
              "  <div id=\"df-3787272c-636e-4f15-9d3e-9d4fcb20e95d\">\n",
              "    <div class=\"colab-df-container\">\n",
              "      <div>\n",
              "<style scoped>\n",
              "    .dataframe tbody tr th:only-of-type {\n",
              "        vertical-align: middle;\n",
              "    }\n",
              "\n",
              "    .dataframe tbody tr th {\n",
              "        vertical-align: top;\n",
              "    }\n",
              "\n",
              "    .dataframe thead th {\n",
              "        text-align: right;\n",
              "    }\n",
              "</style>\n",
              "<table border=\"1\" class=\"dataframe\">\n",
              "  <thead>\n",
              "    <tr style=\"text-align: right;\">\n",
              "      <th></th>\n",
              "      <th>tweets</th>\n",
              "      <th>labels</th>\n",
              "      <th>clean_text_gpt</th>\n",
              "    </tr>\n",
              "  </thead>\n",
              "  <tbody>\n",
              "    <tr>\n",
              "      <th>0</th>\n",
              "      <td>ChatGPT: Optimizing Language Models for Dialog...</td>\n",
              "      <td>1</td>\n",
              "      <td>chatgpt optimize language model dialogue https...</td>\n",
              "    </tr>\n",
              "    <tr>\n",
              "      <th>1</th>\n",
              "      <td>Try talking with ChatGPT, our new AI system wh...</td>\n",
              "      <td>2</td>\n",
              "      <td>try talk chatgpt new ai system optimize dialog...</td>\n",
              "    </tr>\n",
              "    <tr>\n",
              "      <th>2</th>\n",
              "      <td>ChatGPT: Optimizing Language Models for Dialog...</td>\n",
              "      <td>1</td>\n",
              "      <td>chatgpt optimize language model dialogue https...</td>\n",
              "    </tr>\n",
              "    <tr>\n",
              "      <th>3</th>\n",
              "      <td>THRILLED to share that ChatGPT, our new model ...</td>\n",
              "      <td>2</td>\n",
              "      <td>thrill share chatgpt new model optimize dialog...</td>\n",
              "    </tr>\n",
              "    <tr>\n",
              "      <th>4</th>\n",
              "      <td>As of 2 minutes ago, @OpenAI released their ne...</td>\n",
              "      <td>0</td>\n",
              "      <td>minute ago openai release new chatgpt n nand u...</td>\n",
              "    </tr>\n",
              "  </tbody>\n",
              "</table>\n",
              "</div>\n",
              "      <button class=\"colab-df-convert\" onclick=\"convertToInteractive('df-3787272c-636e-4f15-9d3e-9d4fcb20e95d')\"\n",
              "              title=\"Convert this dataframe to an interactive table.\"\n",
              "              style=\"display:none;\">\n",
              "        \n",
              "  <svg xmlns=\"http://www.w3.org/2000/svg\" height=\"24px\"viewBox=\"0 0 24 24\"\n",
              "       width=\"24px\">\n",
              "    <path d=\"M0 0h24v24H0V0z\" fill=\"none\"/>\n",
              "    <path d=\"M18.56 5.44l.94 2.06.94-2.06 2.06-.94-2.06-.94-.94-2.06-.94 2.06-2.06.94zm-11 1L8.5 8.5l.94-2.06 2.06-.94-2.06-.94L8.5 2.5l-.94 2.06-2.06.94zm10 10l.94 2.06.94-2.06 2.06-.94-2.06-.94-.94-2.06-.94 2.06-2.06.94z\"/><path d=\"M17.41 7.96l-1.37-1.37c-.4-.4-.92-.59-1.43-.59-.52 0-1.04.2-1.43.59L10.3 9.45l-7.72 7.72c-.78.78-.78 2.05 0 2.83L4 21.41c.39.39.9.59 1.41.59.51 0 1.02-.2 1.41-.59l7.78-7.78 2.81-2.81c.8-.78.8-2.07 0-2.86zM5.41 20L4 18.59l7.72-7.72 1.47 1.35L5.41 20z\"/>\n",
              "  </svg>\n",
              "      </button>\n",
              "      \n",
              "  <style>\n",
              "    .colab-df-container {\n",
              "      display:flex;\n",
              "      flex-wrap:wrap;\n",
              "      gap: 12px;\n",
              "    }\n",
              "\n",
              "    .colab-df-convert {\n",
              "      background-color: #E8F0FE;\n",
              "      border: none;\n",
              "      border-radius: 50%;\n",
              "      cursor: pointer;\n",
              "      display: none;\n",
              "      fill: #1967D2;\n",
              "      height: 32px;\n",
              "      padding: 0 0 0 0;\n",
              "      width: 32px;\n",
              "    }\n",
              "\n",
              "    .colab-df-convert:hover {\n",
              "      background-color: #E2EBFA;\n",
              "      box-shadow: 0px 1px 2px rgba(60, 64, 67, 0.3), 0px 1px 3px 1px rgba(60, 64, 67, 0.15);\n",
              "      fill: #174EA6;\n",
              "    }\n",
              "\n",
              "    [theme=dark] .colab-df-convert {\n",
              "      background-color: #3B4455;\n",
              "      fill: #D2E3FC;\n",
              "    }\n",
              "\n",
              "    [theme=dark] .colab-df-convert:hover {\n",
              "      background-color: #434B5C;\n",
              "      box-shadow: 0px 1px 3px 1px rgba(0, 0, 0, 0.15);\n",
              "      filter: drop-shadow(0px 1px 2px rgba(0, 0, 0, 0.3));\n",
              "      fill: #FFFFFF;\n",
              "    }\n",
              "  </style>\n",
              "\n",
              "      <script>\n",
              "        const buttonEl =\n",
              "          document.querySelector('#df-3787272c-636e-4f15-9d3e-9d4fcb20e95d button.colab-df-convert');\n",
              "        buttonEl.style.display =\n",
              "          google.colab.kernel.accessAllowed ? 'block' : 'none';\n",
              "\n",
              "        async function convertToInteractive(key) {\n",
              "          const element = document.querySelector('#df-3787272c-636e-4f15-9d3e-9d4fcb20e95d');\n",
              "          const dataTable =\n",
              "            await google.colab.kernel.invokeFunction('convertToInteractive',\n",
              "                                                     [key], {});\n",
              "          if (!dataTable) return;\n",
              "\n",
              "          const docLinkHtml = 'Like what you see? Visit the ' +\n",
              "            '<a target=\"_blank\" href=https://colab.research.google.com/notebooks/data_table.ipynb>data table notebook</a>'\n",
              "            + ' to learn more about interactive tables.';\n",
              "          element.innerHTML = '';\n",
              "          dataTable['output_type'] = 'display_data';\n",
              "          await google.colab.output.renderOutput(dataTable, element);\n",
              "          const docLink = document.createElement('div');\n",
              "          docLink.innerHTML = docLinkHtml;\n",
              "          element.appendChild(docLink);\n",
              "        }\n",
              "      </script>\n",
              "    </div>\n",
              "  </div>\n",
              "  "
            ]
          },
          "metadata": {},
          "execution_count": 20
        }
      ]
    },
    {
      "cell_type": "markdown",
      "source": [
        "# Splitting the datasets into Train-Test Datasets"
      ],
      "metadata": {
        "id": "rAhJjSDB_-9c"
      }
    },
    {
      "cell_type": "code",
      "source": [
        "X_train_r , X_test_r, y_train_r, y_test_r = train_test_split(df_rest_t[\"clean_text_rest\"],df_rest_t[\"Liked\"],test_size=0.2,shuffle=True)"
      ],
      "metadata": {
        "id": "MpQk33Jl1VcL"
      },
      "execution_count": null,
      "outputs": []
    },
    {
      "cell_type": "code",
      "source": [
        "X_train_a , X_test_a, y_train_a, y_test_a = train_test_split(df_airl_t[\"clean_text_airl\"],df_airl_t[\"airline_sentiment\"],test_size=0.2,shuffle=True)"
      ],
      "metadata": {
        "id": "wsymoD5y6C5Y"
      },
      "execution_count": null,
      "outputs": []
    },
    {
      "cell_type": "code",
      "source": [
        "X_train_f , X_test_f, y_train_f, y_test_f = train_test_split(df_fin_t[\"clean_text_fin\"],df_fin_t[\"setiment\"],test_size=0.2,shuffle=True)"
      ],
      "metadata": {
        "id": "3CMVqn1Z6goN"
      },
      "execution_count": null,
      "outputs": []
    },
    {
      "cell_type": "code",
      "source": [
        "X_train_fn , X_test_fn, y_train_fn, y_test_fn = train_test_split(df_fin_news_t[\"clean_text_fin_news\"],df_fin_news_t[\"Sentiment\"],test_size=0.2,shuffle=True)"
      ],
      "metadata": {
        "id": "jspWW8rp6kHU"
      },
      "execution_count": null,
      "outputs": []
    },
    {
      "cell_type": "code",
      "source": [
        "X_train_g , X_test_g, y_train_g, y_test_g = train_test_split(df_gpt_t[\"clean_text_gpt\"],df_gpt_t[\"labels\"],test_size=0.2,shuffle=True)"
      ],
      "metadata": {
        "id": "JbpV8Oiw6lmr"
      },
      "execution_count": null,
      "outputs": []
    },
    {
      "cell_type": "markdown",
      "source": [
        "# Converting the text-data into vector form"
      ],
      "metadata": {
        "id": "MK-clrqbAe03"
      }
    },
    {
      "cell_type": "code",
      "source": [
        "tfidf_vectorizer_r = TfidfVectorizer(use_idf=True)\n",
        "X_train_vectors_tfidf_r = tfidf_vectorizer_r.fit_transform(X_train_r) \n",
        "X_test_vectors_tfidf_r = tfidf_vectorizer_r.transform(X_test_r)"
      ],
      "metadata": {
        "id": "sVPp1Eq17lOf"
      },
      "execution_count": null,
      "outputs": []
    },
    {
      "cell_type": "code",
      "source": [
        "tfidf_vectorizer_a = TfidfVectorizer(use_idf=True)\n",
        "X_train_vectors_tfidf_a = tfidf_vectorizer_a.fit_transform(X_train_a) \n",
        "X_test_vectors_tfidf_a = tfidf_vectorizer_a.transform(X_test_a)"
      ],
      "metadata": {
        "id": "Wi7-X7g-COa0"
      },
      "execution_count": null,
      "outputs": []
    },
    {
      "cell_type": "code",
      "source": [
        "tfidf_vectorizer_f = TfidfVectorizer(use_idf=True)\n",
        "X_train_vectors_tfidf_f = tfidf_vectorizer_f.fit_transform(X_train_f) \n",
        "X_test_vectors_tfidf_f = tfidf_vectorizer_f.transform(X_test_f)"
      ],
      "metadata": {
        "id": "m3hQo6VZDHfo"
      },
      "execution_count": null,
      "outputs": []
    },
    {
      "cell_type": "code",
      "source": [
        "tfidf_vectorizer_fn = TfidfVectorizer(use_idf=True)\n",
        "X_train_vectors_tfidf_fn = tfidf_vectorizer_fn.fit_transform(X_train_fn) \n",
        "X_test_vectors_tfidf_fn = tfidf_vectorizer_fn.transform(X_test_fn)"
      ],
      "metadata": {
        "id": "qmnv0J5oBPNb"
      },
      "execution_count": null,
      "outputs": []
    },
    {
      "cell_type": "code",
      "source": [
        "tfidf_vectorizer_g = TfidfVectorizer(use_idf=True)\n",
        "X_train_vectors_tfidf_g = tfidf_vectorizer_g.fit_transform(X_train_g) \n",
        "X_test_vectors_tfidf_g = tfidf_vectorizer_g.transform(X_test_g)"
      ],
      "metadata": {
        "id": "VxUzPVjBEB6z"
      },
      "execution_count": null,
      "outputs": []
    },
    {
      "cell_type": "markdown",
      "source": [
        "# CLASSIFICATION BEGINS"
      ],
      "metadata": {
        "id": "jZWBoiu3j1sN"
      }
    },
    {
      "cell_type": "markdown",
      "source": [
        "## Naive Bayes"
      ],
      "metadata": {
        "id": "_yoqOG7DPrk8"
      }
    },
    {
      "cell_type": "markdown",
      "source": [
        "<h4> Restaurant Dataset </h4>"
      ],
      "metadata": {
        "id": "zwkIsAa1Atz2"
      }
    },
    {
      "cell_type": "code",
      "source": [
        "nb_tfidf_r = MultinomialNB()\n",
        "start = time.time()\n",
        "nb_tfidf_r.fit(X_train_vectors_tfidf_r, y_train_r)  \n",
        "end = time.time()\n",
        "#Predict y value for test dataset\n",
        "y_predict = nb_tfidf_r.predict(X_test_vectors_tfidf_r)\n",
        "y_prob = nb_tfidf_r.predict_proba(X_test_vectors_tfidf_r)[:,1]\n",
        "score_nb = round(accuracy_score(y_predict,y_test_r)*100,2)\n",
        "print(\"The accuracy score is: \" + str(score_nb)) \n",
        "print(classification_report(y_test_r,y_predict))\n",
        "print('Confusion Matrix:',confusion_matrix(y_test_r, y_predict))\n",
        "\n",
        "from sklearn.metrics import f1_score\n",
        "print(\"f1 score\",f1_score(y_test_r, y_predict,average='weighted'))\n",
        "\n",
        "from sklearn.metrics import precision_score\n",
        "print(\"precision \",precision_score(y_test_r, y_predict, average='macro'))\n",
        "\n",
        "from sklearn.metrics import recall_score\n",
        "print(\"recall  \",recall_score(y_test_r, y_predict, average='macro'))\n",
        "\n",
        "# print(\"The time of execution of above program is :\",\n",
        "#       (end-start) * 10**3, \"ms\")"
      ],
      "metadata": {
        "colab": {
          "base_uri": "https://localhost:8080/"
        },
        "id": "RXFE0GXpOcHQ",
        "outputId": "a011f4bf-3fa5-402a-f7ac-2ed2d73d5e72"
      },
      "execution_count": null,
      "outputs": [
        {
          "output_type": "stream",
          "name": "stdout",
          "text": [
            "The accuracy score is: 72.0\n",
            "              precision    recall  f1-score   support\n",
            "\n",
            "           0       0.60      0.80      0.69        76\n",
            "           1       0.85      0.67      0.75       124\n",
            "\n",
            "    accuracy                           0.72       200\n",
            "   macro avg       0.72      0.74      0.72       200\n",
            "weighted avg       0.75      0.72      0.72       200\n",
            "\n",
            "Confusion Matrix: [[61 15]\n",
            " [41 83]]\n",
            "f1 score 0.7240530418058507\n",
            "precision  0.7224889955982393\n",
            "recall   0.7359932088285229\n"
          ]
        }
      ]
    },
    {
      "cell_type": "markdown",
      "source": [
        "<h4> Airline Dataset </h4>"
      ],
      "metadata": {
        "id": "BnJQEjdQA-Y6"
      }
    },
    {
      "cell_type": "code",
      "source": [
        "nb_tfidf_a = MultinomialNB()\n",
        "start = time.time()\n",
        "nb_tfidf_a.fit(X_train_vectors_tfidf_a, y_train_a)  \n",
        "end = time.time()\n",
        "#Predict y value for test dataset\n",
        "y_predict = nb_tfidf_a.predict(X_test_vectors_tfidf_a)\n",
        "y_prob = nb_tfidf_a.predict_proba(X_test_vectors_tfidf_a)[:,1]\n",
        "score_nb = round(accuracy_score(y_predict,y_test_a)*100,2)\n",
        "print(\"The accuracy score is: \" + str(score_nb)) \n",
        "print(classification_report(y_test_a,y_predict))\n",
        "print('Confusion Matrix:',confusion_matrix(y_test_a, y_predict))\n",
        "\n",
        "from sklearn.metrics import f1_score\n",
        "print(\"f1 score\",f1_score(y_test_a, y_predict,average='weighted'))\n",
        "\n",
        "from sklearn.metrics import precision_score\n",
        "print(\"precision \",precision_score(y_test_a, y_predict, average='macro'))\n",
        "\n",
        "from sklearn.metrics import recall_score\n",
        "print(\"recall  \",recall_score(y_test_a, y_predict, average='macro'))"
      ],
      "metadata": {
        "colab": {
          "base_uri": "https://localhost:8080/"
        },
        "id": "6vV8aH7qBP40",
        "outputId": "d7c57da9-1f58-4c7e-dab4-5485d67b684e"
      },
      "execution_count": null,
      "outputs": [
        {
          "output_type": "stream",
          "name": "stdout",
          "text": [
            "The accuracy score is: 63.0\n",
            "              precision    recall  f1-score   support\n",
            "\n",
            "           0       0.58      0.83      0.68        36\n",
            "           1       0.70      0.53      0.60        40\n",
            "           2       0.67      0.50      0.57        24\n",
            "\n",
            "    accuracy                           0.63       100\n",
            "   macro avg       0.65      0.62      0.62       100\n",
            "weighted avg       0.65      0.63      0.62       100\n",
            "\n",
            "Confusion Matrix: [[30  4  2]\n",
            " [15 21  4]\n",
            " [ 7  5 12]]\n",
            "f1 score 0.6225974025974026\n",
            "precision  0.6478632478632478\n",
            "recall   0.6194444444444445\n"
          ]
        }
      ]
    },
    {
      "cell_type": "markdown",
      "source": [
        "<h4> Financial Dataset </h4>"
      ],
      "metadata": {
        "id": "hTsUFysxBEeb"
      }
    },
    {
      "cell_type": "code",
      "source": [
        "nb_tfidf_f = MultinomialNB()\n",
        "start = time.time()\n",
        "nb_tfidf_f.fit(X_train_vectors_tfidf_f, y_train_f)  \n",
        "end = time.time()\n",
        "#Predict y value for test dataset\n",
        "y_predict = nb_tfidf_f.predict(X_test_vectors_tfidf_f)\n",
        "y_prob = nb_tfidf_f.predict_proba(X_test_vectors_tfidf_f)[:,1]\n",
        "score_nb = round(accuracy_score(y_predict,y_test_f)*100,2)\n",
        "print(\"The accuracy score is: \" + str(score_nb)) \n",
        "print(classification_report(y_test_f,y_predict))\n",
        "print('Confusion Matrix:',confusion_matrix(y_test_f, y_predict))\n",
        "\n",
        "from sklearn.metrics import f1_score\n",
        "print(\"f1 score\",f1_score(y_test_f, y_predict,average='weighted'))\n",
        "\n",
        "from sklearn.metrics import precision_score\n",
        "print(\"precision \",precision_score(y_test_f, y_predict, average='macro'))\n",
        "\n",
        "from sklearn.metrics import recall_score\n",
        "print(\"recall  \",recall_score(y_test_f, y_predict, average='macro'))"
      ],
      "metadata": {
        "colab": {
          "base_uri": "https://localhost:8080/"
        },
        "id": "rPSaWVHPBPZV",
        "outputId": "11c75855-503a-4c6b-df9a-4028406969e2"
      },
      "execution_count": null,
      "outputs": [
        {
          "output_type": "stream",
          "name": "stdout",
          "text": [
            "The accuracy score is: 86.0\n",
            "              precision    recall  f1-score   support\n",
            "\n",
            "           0       0.00      0.00      0.00         1\n",
            "           1       1.00      0.13      0.24        15\n",
            "           2       0.86      1.00      0.92        84\n",
            "\n",
            "    accuracy                           0.86       100\n",
            "   macro avg       0.62      0.38      0.39       100\n",
            "weighted avg       0.87      0.86      0.81       100\n",
            "\n",
            "Confusion Matrix: [[ 0  0  1]\n",
            " [ 0  2 13]\n",
            " [ 0  0 84]]\n",
            "f1 score 0.8106787330316741\n",
            "precision  0.6190476190476191\n",
            "recall   0.37777777777777777\n"
          ]
        },
        {
          "output_type": "stream",
          "name": "stderr",
          "text": [
            "/usr/local/lib/python3.10/dist-packages/sklearn/metrics/_classification.py:1344: UndefinedMetricWarning: Precision and F-score are ill-defined and being set to 0.0 in labels with no predicted samples. Use `zero_division` parameter to control this behavior.\n",
            "  _warn_prf(average, modifier, msg_start, len(result))\n",
            "/usr/local/lib/python3.10/dist-packages/sklearn/metrics/_classification.py:1344: UndefinedMetricWarning: Precision and F-score are ill-defined and being set to 0.0 in labels with no predicted samples. Use `zero_division` parameter to control this behavior.\n",
            "  _warn_prf(average, modifier, msg_start, len(result))\n",
            "/usr/local/lib/python3.10/dist-packages/sklearn/metrics/_classification.py:1344: UndefinedMetricWarning: Precision and F-score are ill-defined and being set to 0.0 in labels with no predicted samples. Use `zero_division` parameter to control this behavior.\n",
            "  _warn_prf(average, modifier, msg_start, len(result))\n",
            "/usr/local/lib/python3.10/dist-packages/sklearn/metrics/_classification.py:1344: UndefinedMetricWarning: Precision is ill-defined and being set to 0.0 in labels with no predicted samples. Use `zero_division` parameter to control this behavior.\n",
            "  _warn_prf(average, modifier, msg_start, len(result))\n"
          ]
        }
      ]
    },
    {
      "cell_type": "markdown",
      "source": [
        "<h4> Financial News Datasets </h4>"
      ],
      "metadata": {
        "id": "QlP8zhqrBPMy"
      }
    },
    {
      "cell_type": "code",
      "source": [
        "nb_tfidf_fn = MultinomialNB()\n",
        "start = time.time()\n",
        "nb_tfidf_fn.fit(X_train_vectors_tfidf_fn, y_train_fn)  \n",
        "end = time.time()\n",
        "#Predict y value for test dataset\n",
        "y_predict = nb_tfidf_fn.predict(X_test_vectors_tfidf_fn)\n",
        "y_prob = nb_tfidf_fn.predict_proba(X_test_vectors_tfidf_fn)[:,1]\n",
        "score_nb = round(accuracy_score(y_predict,y_test_fn)*100,2)\n",
        "print(\"The accuracy score is: \" + str(score_nb)) \n",
        "print(classification_report(y_test_fn,y_predict))\n",
        "print('Confusion Matrix:',confusion_matrix(y_test_fn, y_predict))\n",
        "\n",
        "from sklearn.metrics import f1_score\n",
        "print(\"f1 score\",f1_score(y_test_fn, y_predict,average='weighted'))\n",
        "\n",
        "from sklearn.metrics import precision_score\n",
        "print(\"precision \",precision_score(y_test_fn, y_predict, average='macro'))\n",
        "\n",
        "from sklearn.metrics import recall_score\n",
        "print(\"recall  \",recall_score(y_test_fn, y_predict, average='macro'))"
      ],
      "metadata": {
        "colab": {
          "base_uri": "https://localhost:8080/"
        },
        "id": "AU_LYCR1BPHV",
        "outputId": "b155601b-fae5-4aac-bb07-78f07e0cce03"
      },
      "execution_count": null,
      "outputs": [
        {
          "output_type": "stream",
          "name": "stdout",
          "text": [
            "The accuracy score is: 51.0\n",
            "              precision    recall  f1-score   support\n",
            "\n",
            "           0       0.00      0.00      0.00        15\n",
            "           1       0.50      1.00      0.67        48\n",
            "           2       0.75      0.08      0.15        37\n",
            "\n",
            "    accuracy                           0.51       100\n",
            "   macro avg       0.42      0.36      0.27       100\n",
            "weighted avg       0.52      0.51      0.37       100\n",
            "\n",
            "Confusion Matrix: [[ 0 14  1]\n",
            " [ 0 48  0]\n",
            " [ 0 34  3]]\n",
            "f1 score 0.37414634146341463\n",
            "precision  0.4166666666666667\n",
            "recall   0.3603603603603604\n"
          ]
        },
        {
          "output_type": "stream",
          "name": "stderr",
          "text": [
            "/usr/local/lib/python3.10/dist-packages/sklearn/metrics/_classification.py:1344: UndefinedMetricWarning: Precision and F-score are ill-defined and being set to 0.0 in labels with no predicted samples. Use `zero_division` parameter to control this behavior.\n",
            "  _warn_prf(average, modifier, msg_start, len(result))\n",
            "/usr/local/lib/python3.10/dist-packages/sklearn/metrics/_classification.py:1344: UndefinedMetricWarning: Precision and F-score are ill-defined and being set to 0.0 in labels with no predicted samples. Use `zero_division` parameter to control this behavior.\n",
            "  _warn_prf(average, modifier, msg_start, len(result))\n",
            "/usr/local/lib/python3.10/dist-packages/sklearn/metrics/_classification.py:1344: UndefinedMetricWarning: Precision and F-score are ill-defined and being set to 0.0 in labels with no predicted samples. Use `zero_division` parameter to control this behavior.\n",
            "  _warn_prf(average, modifier, msg_start, len(result))\n",
            "/usr/local/lib/python3.10/dist-packages/sklearn/metrics/_classification.py:1344: UndefinedMetricWarning: Precision is ill-defined and being set to 0.0 in labels with no predicted samples. Use `zero_division` parameter to control this behavior.\n",
            "  _warn_prf(average, modifier, msg_start, len(result))\n"
          ]
        }
      ]
    },
    {
      "cell_type": "markdown",
      "source": [
        "<h4> GPT Dataset </h4>"
      ],
      "metadata": {
        "id": "RbX11CkaBaiS"
      }
    },
    {
      "cell_type": "code",
      "source": [
        "nb_tfidf_g = MultinomialNB()\n",
        "start = time.time()\n",
        "nb_tfidf_g.fit(X_train_vectors_tfidf_g, y_train_g)  \n",
        "end = time.time()\n",
        "#Predict y value for test dataset\n",
        "y_predict = nb_tfidf_g.predict(X_test_vectors_tfidf_g)\n",
        "y_prob = nb_tfidf_g.predict_proba(X_test_vectors_tfidf_g)[:,1]\n",
        "score_nb = round(accuracy_score(y_predict,y_test_g)*100,2)\n",
        "print(\"The accuracy score is: \" + str(score_nb)) \n",
        "print(classification_report(y_test_g,y_predict))\n",
        "print('Confusion Matrix:',confusion_matrix(y_test_g, y_predict))\n",
        "\n",
        "from sklearn.metrics import f1_score\n",
        "print(\"f1 score\",f1_score(y_test_g, y_predict,average='weighted'))\n",
        "\n",
        "from sklearn.metrics import precision_score\n",
        "print(\"precision \",precision_score(y_test_g, y_predict, average='macro'))\n",
        "\n",
        "from sklearn.metrics import recall_score\n",
        "print(\"recall  \",recall_score(y_test_g, y_predict, average='macro'))"
      ],
      "metadata": {
        "colab": {
          "base_uri": "https://localhost:8080/"
        },
        "id": "8RJhbHxVEBqk",
        "outputId": "d024cb10-faf0-4180-dd9b-888a1127bd40"
      },
      "execution_count": null,
      "outputs": [
        {
          "output_type": "stream",
          "name": "stdout",
          "text": [
            "The accuracy score is: 62.0\n",
            "              precision    recall  f1-score   support\n",
            "\n",
            "           0       0.71      0.71      0.71        45\n",
            "           1       0.36      0.24      0.29        21\n",
            "           2       0.61      0.74      0.67        34\n",
            "\n",
            "    accuracy                           0.62       100\n",
            "   macro avg       0.56      0.56      0.55       100\n",
            "weighted avg       0.60      0.62      0.61       100\n",
            "\n",
            "Confusion Matrix: [[32  5  8]\n",
            " [ 8  5  8]\n",
            " [ 5  4 25]]\n",
            "f1 score 0.6066666666666667\n",
            "precision  0.5593366886049812\n",
            "recall   0.5615001556178026\n"
          ]
        }
      ]
    },
    {
      "cell_type": "markdown",
      "source": [
        "## Random Forest"
      ],
      "metadata": {
        "id": "2dI0hZlaPuQI"
      }
    },
    {
      "cell_type": "markdown",
      "source": [
        "<h4> Restaurant Dataset </h4>"
      ],
      "metadata": {
        "id": "c_-Vi_FfBkpm"
      }
    },
    {
      "cell_type": "code",
      "source": [
        "from sklearn.ensemble import RandomForestClassifier\n",
        "max_accuracy = 0\n",
        "for x in range(200):\n",
        "  rf_r = RandomForestClassifier(random_state=x) \n",
        "  start = time.time()\n",
        "  rf_r.fit(X_train_vectors_tfidf_r,y_train_r)\n",
        "  end = time.time()\n",
        "  Y_pred_rf = rf_r.predict(X_test_vectors_tfidf_r)\n",
        "  current_accuracy = round(accuracy_score(Y_pred_rf,y_test_r)*100,2)\n",
        "  if(current_accuracy>max_accuracy): \n",
        "    max_accuracy = current_accuracy \n",
        "    best_x = x"
      ],
      "metadata": {
        "id": "j5Cn1bihOSNP"
      },
      "execution_count": null,
      "outputs": []
    },
    {
      "cell_type": "code",
      "source": [
        "score_rf = round(accuracy_score (Y_pred_rf,y_test_r)*100,2)\n",
        "print(\"The accuracy score achieved using Decision Tree is: \"+str(score_rf)+\" %\")\n",
        "print(classification_report(y_test_r,Y_pred_rf))\n",
        "print('Confusion Matrix:',confusion_matrix(y_test_r, Y_pred_rf))\n",
        "\n",
        "from sklearn.metrics import f1_score\n",
        "print(\"f1 score\",f1_score(y_test_r, Y_pred_rf))\n",
        "\n",
        "from sklearn.metrics import precision_score\n",
        "print(\"precision \",precision_score(y_test_r, Y_pred_rf, average='macro'))\n",
        "\n",
        "from sklearn.metrics import recall_score\n",
        "print(\"recall  \",recall_score(y_test_r, Y_pred_rf, average='macro'))\n",
        "\n",
        "fpr, tpr, thresholds = roc_curve(y_test_r, y_prob)\n",
        "roc_auc = auc(fpr, tpr)\n",
        "print('AUC:', roc_auc)\n",
        "print(\"The time of execution of above program is :\",\n",
        "      (end-start) * 10**3, \"ms\")"
      ],
      "metadata": {
        "colab": {
          "base_uri": "https://localhost:8080/"
        },
        "id": "exH1wFrlOSEJ",
        "outputId": "bce2a83c-ffbf-4cec-bf31-ef70222dbf04"
      },
      "execution_count": null,
      "outputs": [
        {
          "output_type": "stream",
          "name": "stdout",
          "text": [
            "The accuracy score achieved using Decision Tree is: 72.5 %\n",
            "              precision    recall  f1-score   support\n",
            "\n",
            "           0       0.60      0.84      0.70        76\n",
            "           1       0.87      0.65      0.75       124\n",
            "\n",
            "    accuracy                           0.73       200\n",
            "   macro avg       0.73      0.75      0.72       200\n",
            "weighted avg       0.77      0.72      0.73       200\n",
            "\n",
            "Confusion Matrix: [[64 12]\n",
            " [43 81]]\n",
            "f1 score 0.7465437788018433\n",
            "precision  0.7345492915284896\n",
            "recall   0.7476655348047538\n",
            "AUC: 0.8197156196943974\n",
            "The time of execution of above program is : 405.148983001709 ms\n"
          ]
        }
      ]
    },
    {
      "cell_type": "markdown",
      "source": [
        "<h4> Airline Dataset </h4>"
      ],
      "metadata": {
        "id": "PyxjR2TjBrgW"
      }
    },
    {
      "cell_type": "code",
      "source": [
        "from sklearn.ensemble import RandomForestClassifier\n",
        "max_accuracy = 0\n",
        "for x in range(200):\n",
        "  rf_a = RandomForestClassifier(random_state=x) \n",
        "  start = time.time()\n",
        "  rf_a.fit(X_train_vectors_tfidf_a,y_train_a)\n",
        "  end = time.time()\n",
        "  Y_pred_rf = rf_a.predict(X_test_vectors_tfidf_a)\n",
        "  current_accuracy = round(accuracy_score(Y_pred_rf,y_test_a)*100,2)\n",
        "  if(current_accuracy>max_accuracy): \n",
        "    max_accuracy = current_accuracy \n",
        "    best_x = x\n",
        "score_rf = round(accuracy_score (Y_pred_rf,y_test_a)*100,2)\n",
        "print(\"The accuracy score achieved using Decision Tree is: \"+str(score_rf)+\" %\")\n",
        "print(classification_report(y_test_a,Y_pred_rf))\n",
        "print('Confusion Matrix:',confusion_matrix(y_test_a, Y_pred_rf))\n",
        "\n",
        "from sklearn.metrics import f1_score\n",
        "print(\"f1 score\",f1_score(y_test_a, Y_pred_rf, average='macro'))\n",
        "\n",
        "from sklearn.metrics import precision_score\n",
        "print(\"precision \",precision_score(y_test_a, Y_pred_rf, average='macro'))\n",
        "\n",
        "from sklearn.metrics import recall_score\n",
        "print(\"recall  \",recall_score(y_test_a, Y_pred_rf, average='macro'))\n",
        "\n",
        "# print(\"The time of execution of above program is :\",\n",
        "#       (end-start) * 10**3, \"ms\")"
      ],
      "metadata": {
        "colab": {
          "base_uri": "https://localhost:8080/"
        },
        "id": "5hRxYDXeJe2j",
        "outputId": "88f03cad-554e-4b4f-87d6-23d8765bb8d9"
      },
      "execution_count": null,
      "outputs": [
        {
          "output_type": "stream",
          "name": "stdout",
          "text": [
            "(100,)\n",
            "The accuracy score achieved using Decision Tree is: 58.0 %\n",
            "              precision    recall  f1-score   support\n",
            "\n",
            "           0       0.79      0.64      0.71        36\n",
            "           1       0.51      0.70      0.59        40\n",
            "           2       0.44      0.29      0.35        24\n",
            "\n",
            "    accuracy                           0.58       100\n",
            "   macro avg       0.58      0.54      0.55       100\n",
            "weighted avg       0.59      0.58      0.57       100\n",
            "\n",
            "Confusion Matrix: [[23 11  2]\n",
            " [ 5 28  7]\n",
            " [ 1 16  7]]\n",
            "f1 score 0.5490553306342779\n",
            "precision  0.5798981191222571\n",
            "recall   0.5435185185185185\n"
          ]
        }
      ]
    },
    {
      "cell_type": "markdown",
      "source": [
        "<h4> Financial Dataset </h4>"
      ],
      "metadata": {
        "id": "Rpw8iColCC8y"
      }
    },
    {
      "cell_type": "code",
      "source": [
        "from sklearn.ensemble import RandomForestClassifier\n",
        "max_accuracy = 0\n",
        "for x in range(200):\n",
        "  rf_f = RandomForestClassifier(random_state=x) \n",
        "  start = time.time()\n",
        "  rf_f.fit(X_train_vectors_tfidf_f,y_train_f)\n",
        "  end = time.time()\n",
        "  Y_pred_rf = rf_f.predict(X_test_vectors_tfidf_f)\n",
        "  current_accuracy = round(accuracy_score(Y_pred_rf,y_test_f)*100,2)\n",
        "  if(current_accuracy>max_accuracy): \n",
        "    max_accuracy = current_accuracy \n",
        "    best_x = x\n",
        "\n",
        "score_rf = round(accuracy_score (Y_pred_rf,y_test_f)*100,2)\n",
        "print(\"The accuracy score achieved using Decision Tree is: \"+str(score_rf)+\" %\")\n",
        "print(classification_report(y_test_f,Y_pred_rf))\n",
        "print('Confusion Matrix:',confusion_matrix(y_test_f, Y_pred_rf))\n",
        "\n",
        "from sklearn.metrics import f1_score\n",
        "print(\"f1 score\",f1_score(y_test_f, Y_pred_rf, average='macro'))\n",
        "\n",
        "from sklearn.metrics import precision_score\n",
        "print(\"precision \",precision_score(y_test_f, Y_pred_rf, average='macro'))\n",
        "\n",
        "from sklearn.metrics import recall_score\n",
        "print(\"recall  \",recall_score(y_test_f, Y_pred_rf, average='macro'))"
      ],
      "metadata": {
        "colab": {
          "base_uri": "https://localhost:8080/"
        },
        "id": "RZ78TUrpJez5",
        "outputId": "c3af3c94-a5cf-44a6-c8ab-6ad24d2de8a5"
      },
      "execution_count": null,
      "outputs": [
        {
          "output_type": "stream",
          "name": "stdout",
          "text": [
            "The accuracy score achieved using Decision Tree is: 91.0 %\n",
            "              precision    recall  f1-score   support\n",
            "\n",
            "           0       0.00      0.00      0.00         1\n",
            "           1       0.89      0.53      0.67        15\n",
            "           2       0.91      0.99      0.95        84\n",
            "\n",
            "    accuracy                           0.91       100\n",
            "   macro avg       0.60      0.51      0.54       100\n",
            "weighted avg       0.90      0.91      0.90       100\n",
            "\n",
            "Confusion Matrix: [[ 0  0  1]\n",
            " [ 0  8  7]\n",
            " [ 0  1 83]]\n",
            "f1 score 0.5384126984126985\n",
            "precision  0.6003256003256002\n",
            "recall   0.5071428571428571\n"
          ]
        },
        {
          "output_type": "stream",
          "name": "stderr",
          "text": [
            "/usr/local/lib/python3.10/dist-packages/sklearn/metrics/_classification.py:1344: UndefinedMetricWarning: Precision and F-score are ill-defined and being set to 0.0 in labels with no predicted samples. Use `zero_division` parameter to control this behavior.\n",
            "  _warn_prf(average, modifier, msg_start, len(result))\n",
            "/usr/local/lib/python3.10/dist-packages/sklearn/metrics/_classification.py:1344: UndefinedMetricWarning: Precision and F-score are ill-defined and being set to 0.0 in labels with no predicted samples. Use `zero_division` parameter to control this behavior.\n",
            "  _warn_prf(average, modifier, msg_start, len(result))\n",
            "/usr/local/lib/python3.10/dist-packages/sklearn/metrics/_classification.py:1344: UndefinedMetricWarning: Precision and F-score are ill-defined and being set to 0.0 in labels with no predicted samples. Use `zero_division` parameter to control this behavior.\n",
            "  _warn_prf(average, modifier, msg_start, len(result))\n",
            "/usr/local/lib/python3.10/dist-packages/sklearn/metrics/_classification.py:1344: UndefinedMetricWarning: Precision is ill-defined and being set to 0.0 in labels with no predicted samples. Use `zero_division` parameter to control this behavior.\n",
            "  _warn_prf(average, modifier, msg_start, len(result))\n"
          ]
        }
      ]
    },
    {
      "cell_type": "markdown",
      "source": [
        "<h4> Financial News Dataset </h4>"
      ],
      "metadata": {
        "id": "XimhE8vNCWkk"
      }
    },
    {
      "cell_type": "code",
      "source": [
        "from sklearn.ensemble import RandomForestClassifier\n",
        "max_accuracy = 0\n",
        "for x in range(200):\n",
        "  rf_fn = RandomForestClassifier(random_state=x) \n",
        "  start = time.time()\n",
        "  rf_fn.fit(X_train_vectors_tfidf_fn,y_train_fn)\n",
        "  end = time.time()\n",
        "  Y_pred_rf = rf_fn.predict(X_test_vectors_tfidf_fn)\n",
        "  current_accuracy = round(accuracy_score(Y_pred_rf,y_test_fn)*100,2)\n",
        "  if(current_accuracy>max_accuracy): \n",
        "    max_accuracy = current_accuracy \n",
        "    best_x = x\n",
        "rf_fn = RandomForestClassifier(random_state=best_x)\n",
        "rf_fn.fit(X_train_vectors_tfidf_fn,y_train_fn)\n",
        "Y_pred_rf = rf_fn.predict(X_test_vectors_tfidf_fn)\n",
        "y_prob = rf_fn.predict_proba(X_test_vectors_tfidf_fn)[:,1]\n",
        "print (Y_pred_rf.shape)\n",
        "score_rf = round(accuracy_score (Y_pred_rf,y_test_fn)*100,2)\n",
        "print(\"The accuracy score achieved using Decision Tree is: \"+str(score_rf)+\" %\")\n",
        "print(classification_report(y_test_fn,Y_pred_rf))\n",
        "print('Confusion Matrix:',confusion_matrix(y_test_fn, Y_pred_rf))\n",
        "\n",
        "from sklearn.metrics import f1_score\n",
        "print(\"f1 score\",f1_score(y_test_fn, Y_pred_rf, average='macro'))\n",
        "\n",
        "from sklearn.metrics import precision_score\n",
        "print(\"precision \",precision_score(y_test_fn, Y_pred_rf, average='macro'))\n",
        "\n",
        "from sklearn.metrics import recall_score\n",
        "print(\"recall  \",recall_score(y_test_fn, Y_pred_rf, average='macro'))"
      ],
      "metadata": {
        "colab": {
          "base_uri": "https://localhost:8080/"
        },
        "id": "PAantTGsJexD",
        "outputId": "d7f6188c-c2d4-4ade-ea60-a17ceb01426c"
      },
      "execution_count": null,
      "outputs": [
        {
          "output_type": "stream",
          "name": "stdout",
          "text": [
            "(100,)\n",
            "The accuracy score achieved using Decision Tree is: 60.0 %\n",
            "              precision    recall  f1-score   support\n",
            "\n",
            "           0       0.75      0.20      0.32        15\n",
            "           1       0.55      0.98      0.71        48\n",
            "           2       0.91      0.27      0.42        37\n",
            "\n",
            "    accuracy                           0.60       100\n",
            "   macro avg       0.74      0.48      0.48       100\n",
            "weighted avg       0.71      0.60      0.54       100\n",
            "\n",
            "Confusion Matrix: [[ 3 11  1]\n",
            " [ 1 47  0]\n",
            " [ 0 27 10]]\n",
            "f1 score 0.4797410192147034\n",
            "precision  0.7373440285204991\n",
            "recall   0.4831456456456456\n"
          ]
        }
      ]
    },
    {
      "cell_type": "markdown",
      "source": [
        "<h4> GPT Dataset </h4>"
      ],
      "metadata": {
        "id": "XVn6y6PpCafr"
      }
    },
    {
      "cell_type": "code",
      "source": [
        "from sklearn.ensemble import RandomForestClassifier\n",
        "max_accuracy = 0\n",
        "for x in range(200):\n",
        "  rf_g = RandomForestClassifier(random_state=x) \n",
        "  start = time.time()\n",
        "  rf_g.fit(X_train_vectors_tfidf_g,y_train_g)\n",
        "  end = time.time()\n",
        "  Y_pred_rf = rf_g.predict(X_test_vectors_tfidf_g)\n",
        "  current_accuracy = round(accuracy_score(Y_pred_rf,y_test_g)*100,2)\n",
        "  if(current_accuracy>max_accuracy): \n",
        "    max_accuracy = current_accuracy \n",
        "    best_x = x\n",
        "rf_g = RandomForestClassifier(random_state=best_x)\n",
        "rf_g.fit(X_train_vectors_tfidf_g,y_train_g)\n",
        "Y_pred_rf = rf_g.predict(X_test_vectors_tfidf_g)\n",
        "y_prob = rf_g.predict_proba(X_test_vectors_tfidf_g)[:,1]\n",
        "# print (Y_pred_rf.shape)\n",
        "score_rf = round(accuracy_score (Y_pred_rf,y_test_g)*100,2)\n",
        "print(\"The accuracy score achieved using Decision Tree is: \"+str(score_rf)+\" %\")\n",
        "print(classification_report(y_test_g,Y_pred_rf))\n",
        "print('Confusion Matrix:',confusion_matrix(y_test_g, Y_pred_rf))\n",
        "\n",
        "from sklearn.metrics import f1_score\n",
        "print(\"f1 score\",f1_score(y_test_g, Y_pred_rf, average='macro'))\n",
        "\n",
        "from sklearn.metrics import precision_score\n",
        "print(\"precision \",precision_score(y_test_g, Y_pred_rf, average='macro'))\n",
        "\n",
        "from sklearn.metrics import recall_score\n",
        "print(\"recall  \",recall_score(y_test_g, Y_pred_rf, average='macro'))"
      ],
      "metadata": {
        "colab": {
          "base_uri": "https://localhost:8080/"
        },
        "id": "zCHxoUXNJeuJ",
        "outputId": "474f7d4d-ef30-47c2-831e-6b30dec7f6ed"
      },
      "execution_count": null,
      "outputs": [
        {
          "output_type": "stream",
          "name": "stdout",
          "text": [
            "The accuracy score achieved using Decision Tree is: 66.0 %\n",
            "              precision    recall  f1-score   support\n",
            "\n",
            "           0       0.64      0.91      0.75        45\n",
            "           1       0.70      0.33      0.45        21\n",
            "           2       0.69      0.53      0.60        34\n",
            "\n",
            "    accuracy                           0.66       100\n",
            "   macro avg       0.68      0.59      0.60       100\n",
            "weighted avg       0.67      0.66      0.64       100\n",
            "\n",
            "Confusion Matrix: [[41  0  4]\n",
            " [10  7  4]\n",
            " [13  3 18]]\n",
            "f1 score 0.6013021604024859\n",
            "precision  0.6776442307692307\n",
            "recall   0.5912854030501089\n"
          ]
        }
      ]
    },
    {
      "cell_type": "markdown",
      "source": [
        "## Logistic Regression"
      ],
      "metadata": {
        "id": "BGFLKQsFPyKf"
      }
    },
    {
      "cell_type": "markdown",
      "source": [
        "<h4> Restaurant Dataset </h4>"
      ],
      "metadata": {
        "id": "lo4tUWUSCe-q"
      }
    },
    {
      "cell_type": "code",
      "source": [
        "from sklearn.linear_model import LogisticRegression\n",
        "lr_r = LogisticRegression()\n",
        "start = time.time()\n",
        "lr_r.fit(X_train_vectors_tfidf_r,y_train_r)\n",
        "end = time.time()\n",
        "Y_pred_lr = lr_r.predict(X_test_vectors_tfidf_r)\n",
        "y_prob = lr_r.predict_proba(X_test_vectors_tfidf_r)[:,1]"
      ],
      "metadata": {
        "id": "g91izXuqOSBo"
      },
      "execution_count": null,
      "outputs": []
    },
    {
      "cell_type": "code",
      "source": [
        "score_lr = round(accuracy_score(Y_pred_lr,y_test_r)*100,2)\n",
        "print(\"The accuracy score is: \" + str(score_lr))\n",
        "print(classification_report(y_test_r,Y_pred_lr))\n",
        "print('Confusion Matrix:',confusion_matrix(y_test_r, Y_pred_lr))\n",
        "\n",
        "from sklearn.metrics import f1_score\n",
        "print(\"f1 score\",f1_score(y_test_r, Y_pred_lr))\n",
        "\n",
        "from sklearn.metrics import precision_score\n",
        "print(\"precision \",precision_score(y_test_r,  Y_pred_lr, average='macro'))\n",
        "\n",
        "from sklearn.metrics import recall_score\n",
        "print(\"recall  \",recall_score(y_test_r,  Y_pred_lr, average='macro'))\n",
        "\n",
        "# print(\"The time of execution of above program is :\",\n",
        "#       (end-start) * 10**3, \"ms\")\n"
      ],
      "metadata": {
        "colab": {
          "base_uri": "https://localhost:8080/"
        },
        "id": "oOMt6b9LOR7n",
        "outputId": "75633bf4-61af-4fe7-cef6-bc1b697fc078"
      },
      "execution_count": null,
      "outputs": [
        {
          "output_type": "stream",
          "name": "stdout",
          "text": [
            "The accuracy score is: 72.0\n",
            "              precision    recall  f1-score   support\n",
            "\n",
            "           0       0.59      0.87      0.70        76\n",
            "           1       0.89      0.63      0.74       124\n",
            "\n",
            "    accuracy                           0.72       200\n",
            "   macro avg       0.74      0.75      0.72       200\n",
            "weighted avg       0.77      0.72      0.72       200\n",
            "\n",
            "Confusion Matrix: [[66 10]\n",
            " [46 78]]\n",
            "f1 score 0.7358490566037735\n",
            "precision  0.7378246753246753\n",
            "recall   0.7487266553480476\n"
          ]
        }
      ]
    },
    {
      "cell_type": "markdown",
      "source": [
        "<h4> Airline Dataset </h4>"
      ],
      "metadata": {
        "id": "nhYQvn_cCiWc"
      }
    },
    {
      "cell_type": "code",
      "source": [
        "from sklearn.linear_model import LogisticRegression\n",
        "lr_a = LogisticRegression()\n",
        "start = time.time()\n",
        "lr_a.fit(X_train_vectors_tfidf_a,y_train_a)\n",
        "end = time.time()\n",
        "Y_pred_lr = lr_a.predict(X_test_vectors_tfidf_a)\n",
        "y_prob = lr_a.predict_proba(X_test_vectors_tfidf_a)[:,1]\n",
        "# Y_pred_lr.shape\n",
        "score_lr = round(accuracy_score(Y_pred_lr,y_test_a)*100,2)\n",
        "print(\"The accuracy score is: \" + str(score_lr))\n",
        "print(classification_report(y_test_a,Y_pred_lr))\n",
        "print('Confusion Matrix:',confusion_matrix(y_test_a, Y_pred_lr))\n",
        "\n",
        "from sklearn.metrics import f1_score\n",
        "print(\"f1 score\",f1_score(y_test_a, Y_pred_lr, average='macro'))\n",
        "\n",
        "from sklearn.metrics import precision_score\n",
        "print(\"precision \",precision_score(y_test_a,  Y_pred_lr, average='macro'))\n",
        "\n",
        "from sklearn.metrics import recall_score\n",
        "print(\"recall  \",recall_score(y_test_a,  Y_pred_lr, average='macro'))"
      ],
      "metadata": {
        "colab": {
          "base_uri": "https://localhost:8080/"
        },
        "id": "uf8PKIy5PUoE",
        "outputId": "354bf321-0359-40e3-afcf-ea19db90196e"
      },
      "execution_count": null,
      "outputs": [
        {
          "output_type": "stream",
          "name": "stdout",
          "text": [
            "The accuracy score is: 63.0\n",
            "              precision    recall  f1-score   support\n",
            "\n",
            "           0       0.64      0.78      0.70        36\n",
            "           1       0.62      0.60      0.61        40\n",
            "           2       0.65      0.46      0.54        24\n",
            "\n",
            "    accuracy                           0.63       100\n",
            "   macro avg       0.63      0.61      0.61       100\n",
            "weighted avg       0.63      0.63      0.62       100\n",
            "\n",
            "Confusion Matrix: [[28  6  2]\n",
            " [12 24  4]\n",
            " [ 4  9 11]]\n",
            "f1 score 0.6147267675208398\n",
            "precision  0.6329356917592212\n",
            "recall   0.612037037037037\n"
          ]
        }
      ]
    },
    {
      "cell_type": "markdown",
      "source": [
        "<h4> Financial Dataset </h4>"
      ],
      "metadata": {
        "id": "Ue0rQcNjClis"
      }
    },
    {
      "cell_type": "code",
      "source": [
        "from sklearn.linear_model import LogisticRegression\n",
        "lr_f = LogisticRegression()\n",
        "start = time.time()\n",
        "lr_f.fit(X_train_vectors_tfidf_f,y_train_f)\n",
        "end = time.time()\n",
        "Y_pred_lr = lr_f.predict(X_test_vectors_tfidf_f)\n",
        "y_prob = lr_f.predict_proba(X_test_vectors_tfidf_f)[:,1]\n",
        "\n",
        "score_lr = round(accuracy_score(Y_pred_lr,y_test_f)*100,2)\n",
        "print(\"The accuracy score is: \" + str(score_lr))\n",
        "print(classification_report(y_test_f,Y_pred_lr))\n",
        "print('Confusion Matrix:',confusion_matrix(y_test_f, Y_pred_lr))\n",
        "\n",
        "from sklearn.metrics import f1_score\n",
        "print(\"f1 score\",f1_score(y_test_f, Y_pred_lr, average='macro'))\n",
        "\n",
        "from sklearn.metrics import precision_score\n",
        "print(\"precision \",precision_score(y_test_f,  Y_pred_lr, average='macro'))\n",
        "\n",
        "from sklearn.metrics import recall_score\n",
        "print(\"recall  \",recall_score(y_test_f,  Y_pred_lr, average='macro'))"
      ],
      "metadata": {
        "colab": {
          "base_uri": "https://localhost:8080/"
        },
        "id": "D9yySEAPPUk7",
        "outputId": "33e2e989-97a9-45a3-810b-6c28c62b9337"
      },
      "execution_count": null,
      "outputs": [
        {
          "output_type": "stream",
          "name": "stdout",
          "text": [
            "The accuracy score is: 87.0\n",
            "              precision    recall  f1-score   support\n",
            "\n",
            "           0       0.00      0.00      0.00         1\n",
            "           1       0.80      0.27      0.40        15\n",
            "           2       0.87      0.99      0.93        84\n",
            "\n",
            "    accuracy                           0.87       100\n",
            "   macro avg       0.56      0.42      0.44       100\n",
            "weighted avg       0.85      0.87      0.84       100\n",
            "\n",
            "Confusion Matrix: [[ 0  0  1]\n",
            " [ 0  4 11]\n",
            " [ 0  1 83]]\n",
            "f1 score 0.44245810055865925\n",
            "precision  0.5578947368421053\n",
            "recall   0.41825396825396827\n"
          ]
        },
        {
          "output_type": "stream",
          "name": "stderr",
          "text": [
            "/usr/local/lib/python3.10/dist-packages/sklearn/metrics/_classification.py:1344: UndefinedMetricWarning: Precision and F-score are ill-defined and being set to 0.0 in labels with no predicted samples. Use `zero_division` parameter to control this behavior.\n",
            "  _warn_prf(average, modifier, msg_start, len(result))\n",
            "/usr/local/lib/python3.10/dist-packages/sklearn/metrics/_classification.py:1344: UndefinedMetricWarning: Precision and F-score are ill-defined and being set to 0.0 in labels with no predicted samples. Use `zero_division` parameter to control this behavior.\n",
            "  _warn_prf(average, modifier, msg_start, len(result))\n",
            "/usr/local/lib/python3.10/dist-packages/sklearn/metrics/_classification.py:1344: UndefinedMetricWarning: Precision and F-score are ill-defined and being set to 0.0 in labels with no predicted samples. Use `zero_division` parameter to control this behavior.\n",
            "  _warn_prf(average, modifier, msg_start, len(result))\n",
            "/usr/local/lib/python3.10/dist-packages/sklearn/metrics/_classification.py:1344: UndefinedMetricWarning: Precision is ill-defined and being set to 0.0 in labels with no predicted samples. Use `zero_division` parameter to control this behavior.\n",
            "  _warn_prf(average, modifier, msg_start, len(result))\n"
          ]
        }
      ]
    },
    {
      "cell_type": "markdown",
      "source": [
        "<h4> Financial News Dataset </h4>"
      ],
      "metadata": {
        "id": "DPtVXPdvCwRR"
      }
    },
    {
      "cell_type": "code",
      "source": [
        "from sklearn.linear_model import LogisticRegression\n",
        "lr_fn = LogisticRegression()\n",
        "start = time.time()\n",
        "lr_fn.fit(X_train_vectors_tfidf_fn,y_train_fn)\n",
        "end = time.time()\n",
        "Y_pred_lr = lr_fn.predict(X_test_vectors_tfidf_fn)\n",
        "y_prob = lr_fn.predict_proba(X_test_vectors_tfidf_fn)[:,1]\n",
        "\n",
        "score_lr = round(accuracy_score(Y_pred_lr,y_test_fn)*100,2)\n",
        "print(\"The accuracy score is: \" + str(score_lr))\n",
        "print(classification_report(y_test_fn,Y_pred_lr))\n",
        "print('Confusion Matrix:',confusion_matrix(y_test_fn, Y_pred_lr))\n",
        "\n",
        "from sklearn.metrics import f1_score\n",
        "print(\"f1 score\",f1_score(y_test_fn, Y_pred_lr, average='macro'))\n",
        "\n",
        "from sklearn.metrics import precision_score\n",
        "print(\"precision \",precision_score(y_test_fn,  Y_pred_lr, average='macro'))\n",
        "\n",
        "from sklearn.metrics import recall_score\n",
        "print(\"recall  \",recall_score(y_test_fn,  Y_pred_lr, average='macro'))"
      ],
      "metadata": {
        "colab": {
          "base_uri": "https://localhost:8080/"
        },
        "id": "uwmVGsqaPUhQ",
        "outputId": "d9244178-7243-4be5-81e7-86db31e154c3"
      },
      "execution_count": null,
      "outputs": [
        {
          "output_type": "stream",
          "name": "stdout",
          "text": [
            "The accuracy score is: 53.0\n",
            "              precision    recall  f1-score   support\n",
            "\n",
            "           0       1.00      0.07      0.12        15\n",
            "           1       0.51      0.98      0.67        48\n",
            "           2       0.71      0.14      0.23        37\n",
            "\n",
            "    accuracy                           0.53       100\n",
            "   macro avg       0.74      0.39      0.34       100\n",
            "weighted avg       0.66      0.53      0.43       100\n",
            "\n",
            "Confusion Matrix: [[ 1 13  1]\n",
            " [ 0 47  1]\n",
            " [ 0 32  5]]\n",
            "f1 score 0.34123376623376617\n",
            "precision  0.7417184265010351\n",
            "recall   0.3936561561561562\n"
          ]
        }
      ]
    },
    {
      "cell_type": "markdown",
      "source": [
        "<h4> GPT Dataset </h4>"
      ],
      "metadata": {
        "id": "uvCwTSGBC2Ts"
      }
    },
    {
      "cell_type": "code",
      "source": [
        "from sklearn.linear_model import LogisticRegression\n",
        "lr_g = LogisticRegression()\n",
        "start = time.time()\n",
        "lr_g.fit(X_train_vectors_tfidf_g,y_train_g)\n",
        "end = time.time()\n",
        "Y_pred_lr = lr_g.predict(X_test_vectors_tfidf_g)\n",
        "y_prob = lr_g.predict_proba(X_test_vectors_tfidf_g)[:,1]\n",
        "# Y_pred_lr.shape\n",
        "score_lr = round(accuracy_score(Y_pred_lr,y_test_g)*100,2)\n",
        "print(\"The accuracy score is: \" + str(score_lr))\n",
        "print(classification_report(y_test_g,Y_pred_lr))\n",
        "print('Confusion Matrix:',confusion_matrix(y_test_g, Y_pred_lr))\n",
        "\n",
        "from sklearn.metrics import f1_score\n",
        "print(\"f1 score\",f1_score(y_test_g, Y_pred_lr, average='macro'))\n",
        "\n",
        "from sklearn.metrics import precision_score\n",
        "print(\"precision \",precision_score(y_test_g,  Y_pred_lr, average='macro'))\n",
        "\n",
        "from sklearn.metrics import recall_score\n",
        "print(\"recall  \",recall_score(y_test_g,  Y_pred_lr, average='macro'))"
      ],
      "metadata": {
        "colab": {
          "base_uri": "https://localhost:8080/"
        },
        "id": "TYdH-2ECPUeB",
        "outputId": "f01c3161-a32a-48d1-b920-07112b1be1dc"
      },
      "execution_count": null,
      "outputs": [
        {
          "output_type": "stream",
          "name": "stdout",
          "text": [
            "The accuracy score is: 61.0\n",
            "              precision    recall  f1-score   support\n",
            "\n",
            "           0       0.70      0.71      0.70        45\n",
            "           1       0.38      0.24      0.29        21\n",
            "           2       0.59      0.71      0.64        34\n",
            "\n",
            "    accuracy                           0.61       100\n",
            "   macro avg       0.56      0.55      0.55       100\n",
            "weighted avg       0.59      0.61      0.60       100\n",
            "\n",
            "Confusion Matrix: [[32  3 10]\n",
            " [ 9  5  7]\n",
            " [ 5  5 24]]\n",
            "f1 score 0.5458047834518422\n",
            "precision  0.5552111373956549\n",
            "recall   0.5516962340491752\n"
          ]
        }
      ]
    },
    {
      "cell_type": "markdown",
      "source": [
        "## Decision Tree"
      ],
      "metadata": {
        "id": "_v-x_w4DQLEO"
      }
    },
    {
      "cell_type": "markdown",
      "source": [
        "<h4> Restaurant Dataset </h4>"
      ],
      "metadata": {
        "id": "RBv99MSIC6SL"
      }
    },
    {
      "cell_type": "code",
      "source": [
        "from sklearn.tree import DecisionTreeClassifier\n",
        "max_accuracy = 0\n",
        "for x in range(200):\n",
        "  dt_r = DecisionTreeClassifier(random_state=x) \n",
        "  start = time.time()\n",
        "\n",
        "  dt_r.fit(X_train_vectors_tfidf_r,y_train_r)\n",
        "  end = time.time()\n",
        "  Y_pred_dt = dt_r.predict(X_test_vectors_tfidf_r)\n",
        "  current_accuracy = round(accuracy_score (Y_pred_dt,y_test_r)*100,2)\n",
        "  if(current_accuracy>max_accuracy): \n",
        "    max_accuracy = current_accuracy \n",
        "    best_x = x"
      ],
      "metadata": {
        "id": "SgK1X7z0PqEx"
      },
      "execution_count": null,
      "outputs": []
    },
    {
      "cell_type": "code",
      "source": [
        "score_dt = round(accuracy_score (Y_pred_dt,y_test_r)*100,2)\n",
        "print(\"The accuracy score achieved using Decision Tree is: \"+str(score_dt)+\" %\")\n",
        "print(classification_report(y_test_r,Y_pred_dt))\n",
        "print('Confusion Matrix:',confusion_matrix(y_test_r, Y_pred_dt))\n",
        "\n",
        "from sklearn.metrics import f1_score\n",
        "print(\"f1 score\",f1_score(y_test_r, Y_pred_dt, average='macro'))\n",
        "\n",
        "from sklearn.metrics import precision_score\n",
        "print(\"precision \",precision_score(y_test_r, Y_pred_dt, average='macro'))\n",
        "\n",
        "from sklearn.metrics import recall_score\n",
        "print(\"recall  \",recall_score(y_test_r, Y_pred_dt, average='macro'))\n",
        "\n",
        "# print(\"The time of execution of above program is :\",\n",
        "#       (end-start) * 10**3, \"ms\")"
      ],
      "metadata": {
        "colab": {
          "base_uri": "https://localhost:8080/"
        },
        "id": "_8w_6PL2RLg1",
        "outputId": "1f20b7e0-a46c-403a-e183-bab0c887139e"
      },
      "execution_count": null,
      "outputs": [
        {
          "output_type": "stream",
          "name": "stdout",
          "text": [
            "The accuracy score achieved using Decision Tree is: 73.0 %\n",
            "              precision    recall  f1-score   support\n",
            "\n",
            "           0       0.62      0.76      0.68        76\n",
            "           1       0.83      0.71      0.77       124\n",
            "\n",
            "    accuracy                           0.73       200\n",
            "   macro avg       0.72      0.74      0.72       200\n",
            "weighted avg       0.75      0.73      0.73       200\n",
            "\n",
            "Confusion Matrix: [[58 18]\n",
            " [36 88]]\n",
            "f1 score 0.7237851662404092\n",
            "precision  0.7236049779205138\n",
            "recall   0.7364176570458405\n"
          ]
        }
      ]
    },
    {
      "cell_type": "markdown",
      "source": [
        "<h4> Airline Dataset </h4>"
      ],
      "metadata": {
        "id": "ysfpGEwEDBdq"
      }
    },
    {
      "cell_type": "code",
      "source": [
        "max_accuracy = 0\n",
        "for x in range(200):\n",
        "  dt_a = DecisionTreeClassifier(random_state=x) \n",
        "  start = time.time()\n",
        "\n",
        "  dt_a.fit(X_train_vectors_tfidf_a,y_train_a)\n",
        "  end = time.time()\n",
        "  Y_pred_dt = dt_a.predict(X_test_vectors_tfidf_a)\n",
        "  current_accuracy = round(accuracy_score (Y_pred_dt,y_test_a)*100,2)\n",
        "  if(current_accuracy>max_accuracy): \n",
        "    max_accuracy = current_accuracy \n",
        "    best_x = x\n",
        "\n",
        "score_dt = round(accuracy_score (Y_pred_dt,y_test_a)*100,2)\n",
        "print(\"The accuracy score achieved using Decision Tree is: \"+str(score_dt)+\" %\")\n",
        "print(classification_report(y_test_a,Y_pred_dt))\n",
        "print('Confusion Matrix:',confusion_matrix(y_test_a, Y_pred_dt))\n",
        "\n",
        "from sklearn.metrics import f1_score\n",
        "print(\"f1 score\",f1_score(y_test_a, Y_pred_dt, average='macro'))\n",
        "\n",
        "from sklearn.metrics import precision_score\n",
        "print(\"precision \",precision_score(y_test_a, Y_pred_dt, average='macro'))\n",
        "\n",
        "from sklearn.metrics import recall_score\n",
        "print(\"recall  \",recall_score(y_test_a, Y_pred_dt, average='macro'))"
      ],
      "metadata": {
        "colab": {
          "base_uri": "https://localhost:8080/"
        },
        "id": "t6jndYqvS8pF",
        "outputId": "8d5a4f5a-9eba-49bf-d1b5-a756f6ca9de3"
      },
      "execution_count": null,
      "outputs": [
        {
          "output_type": "stream",
          "name": "stdout",
          "text": [
            "(100,)\n",
            "The accuracy score achieved using Decision Tree is: 52.0 %\n",
            "              precision    recall  f1-score   support\n",
            "\n",
            "           0       0.70      0.39      0.50        36\n",
            "           1       0.48      0.70      0.57        40\n",
            "           2       0.45      0.42      0.43        24\n",
            "\n",
            "    accuracy                           0.52       100\n",
            "   macro avg       0.55      0.50      0.50       100\n",
            "weighted avg       0.55      0.52      0.51       100\n",
            "\n",
            "Confusion Matrix: [[14 17  5]\n",
            " [ 5 28  7]\n",
            " [ 1 13 10]]\n",
            "f1 score 0.5020703933747411\n",
            "precision  0.54576802507837\n",
            "recall   0.5018518518518519\n"
          ]
        }
      ]
    },
    {
      "cell_type": "markdown",
      "source": [
        "<h4> Financial Dataset </h4>"
      ],
      "metadata": {
        "id": "tGFxDFosDFgb"
      }
    },
    {
      "cell_type": "code",
      "source": [
        "max_accuracy = 0\n",
        "for x in range(200):\n",
        "  dt_f = DecisionTreeClassifier(random_state=x) \n",
        "  start = time.time()\n",
        "\n",
        "  dt_f.fit(X_train_vectors_tfidf_f,y_train_f)\n",
        "  end = time.time()\n",
        "  Y_pred_dt = dt_f.predict(X_test_vectors_tfidf_f)\n",
        "  current_accuracy = round(accuracy_score (Y_pred_dt,y_test_f)*100,2)\n",
        "  if(current_accuracy>max_accuracy): \n",
        "    max_accuracy = current_accuracy \n",
        "    best_x = x\n",
        "dt_f = DecisionTreeClassifier(random_state=best_x)\n",
        "dt_f.fit(X_train_vectors_tfidf_f,y_train_f)\n",
        "Y_pred_dt = dt_f.predict(X_test_vectors_tfidf_f)\n",
        "y_prob = dt_f.predict_proba(X_test_vectors_tfidf_f)[:,1]\n",
        "# print (Y_pred_dt.shape)\n",
        "score_dt = round(accuracy_score (Y_pred_dt,y_test_f)*100,2)\n",
        "print(\"The accuracy score achieved using Decision Tree is: \"+str(score_dt)+\" %\")\n",
        "print(classification_report(y_test_f,Y_pred_dt))\n",
        "print('Confusion Matrix:',confusion_matrix(y_test_f, Y_pred_dt))\n",
        "\n",
        "from sklearn.metrics import f1_score\n",
        "print(\"f1 score\",f1_score(y_test_f, Y_pred_dt, average='macro'))\n",
        "\n",
        "from sklearn.metrics import precision_score\n",
        "print(\"precision \",precision_score(y_test_f, Y_pred_dt, average='macro'))\n",
        "\n",
        "from sklearn.metrics import recall_score\n",
        "print(\"recall  \",recall_score(y_test_f, Y_pred_dt, average='macro'))"
      ],
      "metadata": {
        "colab": {
          "base_uri": "https://localhost:8080/"
        },
        "id": "9KZ8mvl8TvRL",
        "outputId": "6a1cfe63-3a8b-4004-8d5c-2fbf9d22c6eb"
      },
      "execution_count": null,
      "outputs": [
        {
          "output_type": "stream",
          "name": "stdout",
          "text": [
            "The accuracy score achieved using Decision Tree is: 86.0 %\n",
            "              precision    recall  f1-score   support\n",
            "\n",
            "           0       1.00      1.00      1.00         1\n",
            "           1       0.54      0.47      0.50        15\n",
            "           2       0.91      0.93      0.92        84\n",
            "\n",
            "    accuracy                           0.86       100\n",
            "   macro avg       0.82      0.80      0.81       100\n",
            "weighted avg       0.85      0.86      0.86       100\n",
            "\n",
            "Confusion Matrix: [[ 1  0  0]\n",
            " [ 0  7  8]\n",
            " [ 0  6 78]]\n",
            "f1 score 0.8058823529411764\n",
            "precision  0.8151460942158616\n",
            "recall   0.7984126984126986\n"
          ]
        }
      ]
    },
    {
      "cell_type": "markdown",
      "source": [
        "<h4> Financial News Dataset </h4>"
      ],
      "metadata": {
        "id": "SGeOwoXWDIyy"
      }
    },
    {
      "cell_type": "code",
      "source": [
        "max_accuracy = 0\n",
        "for x in range(200):\n",
        "  dt_fn = DecisionTreeClassifier(random_state=x) \n",
        "  start = time.time()\n",
        "\n",
        "  dt_fn.fit(X_train_vectors_tfidf_fn,y_train_fn)\n",
        "  end = time.time()\n",
        "  Y_pred_dt = dt_fn.predict(X_test_vectors_tfidf_fn)\n",
        "  current_accuracy = round(accuracy_score (Y_pred_dt,y_test_fn)*100,2)\n",
        "  if(current_accuracy>max_accuracy): \n",
        "    max_accuracy = current_accuracy \n",
        "    best_x = x\n",
        "dt_fn = DecisionTreeClassifier(random_state=best_x)\n",
        "dt_fn.fit(X_train_vectors_tfidf_fn,y_train_fn)\n",
        "Y_pred_dt = dt_fn.predict(X_test_vectors_tfidf_fn)\n",
        "y_prob = dt_fn.predict_proba(X_test_vectors_tfidf_fn)[:,1]\n",
        "# print (Y_pred_dt.shape)\n",
        "score_dt = round(accuracy_score (Y_pred_dt,y_test_fn)*100,2)\n",
        "print(\"The accuracy score achieved using Decision Tree is: \"+str(score_dt)+\" %\")\n",
        "print(classification_report(y_test_fn,Y_pred_dt))\n",
        "print('Confusion Matrix:',confusion_matrix(y_test_fn, Y_pred_dt))\n",
        "\n",
        "from sklearn.metrics import f1_score\n",
        "print(\"f1 score\",f1_score(y_test_fn, Y_pred_dt, average='macro'))\n",
        "\n",
        "from sklearn.metrics import precision_score\n",
        "print(\"precision \",precision_score(y_test_fn, Y_pred_dt, average='macro'))\n",
        "\n",
        "from sklearn.metrics import recall_score\n",
        "print(\"recall  \",recall_score(y_test_fn, Y_pred_dt, average='macro'))"
      ],
      "metadata": {
        "colab": {
          "base_uri": "https://localhost:8080/"
        },
        "id": "RXE-qZaDTvOi",
        "outputId": "46cfaf2b-03ef-4921-f072-efb17e723296"
      },
      "execution_count": null,
      "outputs": [
        {
          "output_type": "stream",
          "name": "stdout",
          "text": [
            "The accuracy score achieved using Decision Tree is: 51.0 %\n",
            "              precision    recall  f1-score   support\n",
            "\n",
            "           0       0.18      0.20      0.19        15\n",
            "           1       0.57      0.77      0.65        48\n",
            "           2       0.61      0.30      0.40        37\n",
            "\n",
            "    accuracy                           0.51       100\n",
            "   macro avg       0.45      0.42      0.41       100\n",
            "weighted avg       0.53      0.51      0.49       100\n",
            "\n",
            "Confusion Matrix: [[ 3  9  3]\n",
            " [ 7 37  4]\n",
            " [ 7 19 11]]\n",
            "f1 score 0.41412241887905604\n",
            "precision  0.4522708228590582\n",
            "recall   0.42271021021021027\n"
          ]
        }
      ]
    },
    {
      "cell_type": "markdown",
      "source": [
        "<h4> GPT Dataset </h4>"
      ],
      "metadata": {
        "id": "P3ruSPAUDLhs"
      }
    },
    {
      "cell_type": "code",
      "source": [
        "max_accuracy = 0\n",
        "for x in range(200):\n",
        "  dt_g = DecisionTreeClassifier(random_state=x) \n",
        "  start = time.time()\n",
        "\n",
        "  dt_g.fit(X_train_vectors_tfidf_g,y_train_g)\n",
        "  end = time.time()\n",
        "  Y_pred_dt = dt_g.predict(X_test_vectors_tfidf_g)\n",
        "  current_accuracy = round(accuracy_score (Y_pred_dt,y_test_g)*100,2)\n",
        "  if(current_accuracy>max_accuracy): \n",
        "    max_accuracy = current_accuracy \n",
        "    best_x = x\n",
        "dt_g = DecisionTreeClassifier(random_state=best_x)\n",
        "dt_g.fit(X_train_vectors_tfidf_g,y_train_g)\n",
        "Y_pred_dt = dt_g.predict(X_test_vectors_tfidf_g)\n",
        "y_prob = dt_g.predict_proba(X_test_vectors_tfidf_g)[:,1]\n",
        "# print (Y_pred_dt.shape)\n",
        "score_dt = round(accuracy_score (Y_pred_dt,y_test_g)*100,2)\n",
        "print(\"The accuracy score achieved using Decision Tree is: \"+str(score_dt)+\" %\")\n",
        "print(classification_report(y_test_g,Y_pred_dt))\n",
        "print('Confusion Matrix:',confusion_matrix(y_test_g, Y_pred_dt))\n",
        "\n",
        "from sklearn.metrics import f1_score\n",
        "print(\"f1 score\",f1_score(y_test_g, Y_pred_dt, average='macro'))\n",
        "\n",
        "from sklearn.metrics import precision_score\n",
        "print(\"precision \",precision_score(y_test_g, Y_pred_dt, average='macro'))\n",
        "\n",
        "from sklearn.metrics import recall_score\n",
        "print(\"recall  \",recall_score(y_test_g, Y_pred_dt, average='macro'))"
      ],
      "metadata": {
        "colab": {
          "base_uri": "https://localhost:8080/"
        },
        "id": "09pDcwGcTvLV",
        "outputId": "6fca6178-3532-4fa0-b4ef-fec49e1bec31"
      },
      "execution_count": null,
      "outputs": [
        {
          "output_type": "stream",
          "name": "stdout",
          "text": [
            "The accuracy score achieved using Decision Tree is: 57.0 %\n",
            "              precision    recall  f1-score   support\n",
            "\n",
            "           0       0.67      0.80      0.73        45\n",
            "           1       0.32      0.29      0.30        21\n",
            "           2       0.56      0.44      0.49        34\n",
            "\n",
            "    accuracy                           0.57       100\n",
            "   macro avg       0.51      0.51      0.51       100\n",
            "weighted avg       0.56      0.57      0.56       100\n",
            "\n",
            "Confusion Matrix: [[36  4  5]\n",
            " [ 8  6  7]\n",
            " [10  9 15]]\n",
            "f1 score 0.5063586686537506\n",
            "precision  0.5126705653021443\n",
            "recall   0.5089635854341737\n"
          ]
        }
      ]
    },
    {
      "cell_type": "markdown",
      "source": [
        "## SVM"
      ],
      "metadata": {
        "id": "_uEIEbvKQzEq"
      }
    },
    {
      "cell_type": "markdown",
      "source": [
        "<h4> Restaurant Dataset </h4>"
      ],
      "metadata": {
        "id": "wmecAKmQDPOj"
      }
    },
    {
      "cell_type": "code",
      "source": [
        "from sklearn import svm\n",
        "sv_r=svm.SVC(kernel='linear',probability=True)\n",
        "start = time.time()\n",
        "sv_r.fit(X_train_vectors_tfidf_r,y_train_r)\n",
        "end = time.time()\n",
        "Y_pred_svm = sv_r.predict(X_test_vectors_tfidf_r) \n",
        "y_prob = sv_r.predict_proba(X_test_vectors_tfidf_r)[:,1]"
      ],
      "metadata": {
        "id": "O8-4YxV1QwiO"
      },
      "execution_count": null,
      "outputs": []
    },
    {
      "cell_type": "code",
      "source": [
        "score_svm = round(accuracy_score(Y_pred_svm,y_test_r)*100,2)\n",
        "print(\"The accuracy score is: \" + str(score_svm))\n",
        "print(classification_report(y_test_r,Y_pred_svm))\n",
        "print('Confusion Matrix:',confusion_matrix(y_test_r, Y_pred_svm))\n",
        "\n",
        "\n",
        "from sklearn.metrics import f1_score\n",
        "print(\"f1 score\",f1_score(y_test_r, Y_pred_svm, average='macro'))\n",
        "\n",
        "\n",
        "from sklearn.metrics import precision_score\n",
        "print(\"precision \",precision_score(y_test_r, Y_pred_svm, average='macro'))\n",
        "\n",
        "from sklearn.metrics import recall_score\n",
        "print(\"recall  \",recall_score(y_test_r, Y_pred_svm, average='macro'))\n",
        "\n",
        "# print(\"The time of execution of above program is :\",\n",
        "#       (end-start) * 10**3, \"ms\")"
      ],
      "metadata": {
        "colab": {
          "base_uri": "https://localhost:8080/"
        },
        "id": "ZxxkQtYbQwcF",
        "outputId": "0e453189-581a-4801-ac98-058ff278b1f0"
      },
      "execution_count": null,
      "outputs": [
        {
          "output_type": "stream",
          "name": "stdout",
          "text": [
            "The accuracy score is: 74.5\n",
            "              precision    recall  f1-score   support\n",
            "\n",
            "           0       0.62      0.86      0.72        76\n",
            "           1       0.88      0.68      0.77       124\n",
            "\n",
            "    accuracy                           0.74       200\n",
            "   macro avg       0.75      0.77      0.74       200\n",
            "weighted avg       0.78      0.74      0.75       200\n",
            "\n",
            "Confusion Matrix: [[65 11]\n",
            " [40 84]]\n",
            "f1 score 0.742677665935064\n",
            "precision  0.7516290726817043\n",
            "recall   0.7663412563667232\n"
          ]
        }
      ]
    },
    {
      "cell_type": "markdown",
      "source": [
        "<h4> Airline Dataset </h4>"
      ],
      "metadata": {
        "id": "4gAWZYcIDRyS"
      }
    },
    {
      "cell_type": "code",
      "source": [
        "from sklearn import svm\n",
        "sv_a=svm.SVC(kernel='linear',probability=True)\n",
        "start = time.time()\n",
        "sv_a.fit(X_train_vectors_tfidf_a,y_train_a)\n",
        "end = time.time()\n",
        "Y_pred_svm = sv_a.predict(X_test_vectors_tfidf_a) \n",
        "y_prob = sv_a.predict_proba(X_test_vectors_tfidf_a)[:,1]\n",
        "score_svm = round(accuracy_score(Y_pred_svm,y_test_a)*100,2)\n",
        "print(\"The accuracy score is: \" + str(score_svm))\n",
        "print(classification_report(y_test_a,Y_pred_svm))\n",
        "print('Confusion Matrix:',confusion_matrix(y_test_a, Y_pred_svm))\n",
        "\n",
        "\n",
        "from sklearn.metrics import f1_score\n",
        "print(\"f1 score\",f1_score(y_test_a, Y_pred_svm, average='macro'))\n",
        "\n",
        "\n",
        "from sklearn.metrics import precision_score\n",
        "print(\"precision \",precision_score(y_test_a, Y_pred_svm, average='macro'))\n",
        "\n",
        "from sklearn.metrics import recall_score\n",
        "print(\"recall  \",recall_score(y_test_a, Y_pred_svm, average='macro'))"
      ],
      "metadata": {
        "colab": {
          "base_uri": "https://localhost:8080/"
        },
        "id": "zbtPqPU6WRp0",
        "outputId": "98f53b8f-7a82-4a57-908c-8635916990bf"
      },
      "execution_count": null,
      "outputs": [
        {
          "output_type": "stream",
          "name": "stdout",
          "text": [
            "The accuracy score is: 61.0\n",
            "              precision    recall  f1-score   support\n",
            "\n",
            "           0       0.66      0.69      0.68        36\n",
            "           1       0.58      0.65      0.61        40\n",
            "           2       0.59      0.42      0.49        24\n",
            "\n",
            "    accuracy                           0.61       100\n",
            "   macro avg       0.61      0.59      0.59       100\n",
            "weighted avg       0.61      0.61      0.61       100\n",
            "\n",
            "Confusion Matrix: [[25  8  3]\n",
            " [10 26  4]\n",
            " [ 3 11 10]]\n",
            "f1 score 0.5917484198689363\n",
            "precision  0.6079692695791766\n",
            "recall   0.5870370370370371\n"
          ]
        }
      ]
    },
    {
      "cell_type": "markdown",
      "source": [
        "<h4> Financial Dataset </h4>"
      ],
      "metadata": {
        "id": "5wnGH4z1DUMb"
      }
    },
    {
      "cell_type": "code",
      "source": [
        "from sklearn import svm\n",
        "sv_f=svm.SVC(kernel='linear',probability=True)\n",
        "start = time.time()\n",
        "sv_f.fit(X_train_vectors_tfidf_f,y_train_f)\n",
        "end = time.time()\n",
        "Y_pred_svm = sv_f.predict(X_test_vectors_tfidf_f) \n",
        "y_prob = sv_f.predict_proba(X_test_vectors_tfidf_f)[:,1]\n",
        "score_svm = round(accuracy_score(Y_pred_svm,y_test_f)*100,2)\n",
        "print(\"The accuracy score is: \" + str(score_svm))\n",
        "print(classification_report(y_test_f,Y_pred_svm))\n",
        "print('Confusion Matrix:',confusion_matrix(y_test_f, Y_pred_svm))\n",
        "\n",
        "\n",
        "from sklearn.metrics import f1_score\n",
        "print(\"f1 score\",f1_score(y_test_f, Y_pred_svm, average='macro'))\n",
        "\n",
        "\n",
        "from sklearn.metrics import precision_score\n",
        "print(\"precision \",precision_score(y_test_f, Y_pred_svm, average='macro'))\n",
        "\n",
        "from sklearn.metrics import recall_score\n",
        "print(\"recall  \",recall_score(y_test_f, Y_pred_svm, average='macro'))"
      ],
      "metadata": {
        "colab": {
          "base_uri": "https://localhost:8080/"
        },
        "id": "LwbVPHxlWRmy",
        "outputId": "5db7a17f-1d3c-469b-9503-759a351876be"
      },
      "execution_count": null,
      "outputs": [
        {
          "output_type": "stream",
          "name": "stdout",
          "text": [
            "The accuracy score is: 88.0\n",
            "              precision    recall  f1-score   support\n",
            "\n",
            "           0       0.00      0.00      0.00         1\n",
            "           1       0.70      0.47      0.56        15\n",
            "           2       0.90      0.96      0.93        84\n",
            "\n",
            "    accuracy                           0.88       100\n",
            "   macro avg       0.53      0.48      0.50       100\n",
            "weighted avg       0.86      0.88      0.87       100\n",
            "\n",
            "Confusion Matrix: [[ 0  0  1]\n",
            " [ 0  7  8]\n",
            " [ 0  3 81]]\n",
            "f1 score 0.49701149425287355\n",
            "precision  0.5333333333333333\n",
            "recall   0.476984126984127\n"
          ]
        },
        {
          "output_type": "stream",
          "name": "stderr",
          "text": [
            "/usr/local/lib/python3.10/dist-packages/sklearn/metrics/_classification.py:1344: UndefinedMetricWarning: Precision and F-score are ill-defined and being set to 0.0 in labels with no predicted samples. Use `zero_division` parameter to control this behavior.\n",
            "  _warn_prf(average, modifier, msg_start, len(result))\n",
            "/usr/local/lib/python3.10/dist-packages/sklearn/metrics/_classification.py:1344: UndefinedMetricWarning: Precision and F-score are ill-defined and being set to 0.0 in labels with no predicted samples. Use `zero_division` parameter to control this behavior.\n",
            "  _warn_prf(average, modifier, msg_start, len(result))\n",
            "/usr/local/lib/python3.10/dist-packages/sklearn/metrics/_classification.py:1344: UndefinedMetricWarning: Precision and F-score are ill-defined and being set to 0.0 in labels with no predicted samples. Use `zero_division` parameter to control this behavior.\n",
            "  _warn_prf(average, modifier, msg_start, len(result))\n",
            "/usr/local/lib/python3.10/dist-packages/sklearn/metrics/_classification.py:1344: UndefinedMetricWarning: Precision is ill-defined and being set to 0.0 in labels with no predicted samples. Use `zero_division` parameter to control this behavior.\n",
            "  _warn_prf(average, modifier, msg_start, len(result))\n"
          ]
        }
      ]
    },
    {
      "cell_type": "markdown",
      "source": [
        "<h4> Financial News Dataset </h4>"
      ],
      "metadata": {
        "id": "yaNWB6A3DYI0"
      }
    },
    {
      "cell_type": "code",
      "source": [
        "from sklearn import svm\n",
        "sv_fn=svm.SVC(kernel='linear',probability=True)\n",
        "start = time.time()\n",
        "sv_fn.fit(X_train_vectors_tfidf_fn,y_train_fn)\n",
        "end = time.time()\n",
        "Y_pred_svm = sv_fn.predict(X_test_vectors_tfidf_fn) \n",
        "y_prob = sv_fn.predict_proba(X_test_vectors_tfidf_fn)[:,1]\n",
        "score_svm = round(accuracy_score(Y_pred_svm,y_test_fn)*100,2)\n",
        "print(\"The accuracy score is: \" + str(score_svm))\n",
        "print(classification_report(y_test_fn,Y_pred_svm))\n",
        "print('Confusion Matrix:',confusion_matrix(y_test_fn, Y_pred_svm))\n",
        "\n",
        "\n",
        "from sklearn.metrics import f1_score\n",
        "print(\"f1 score\",f1_score(y_test_fn, Y_pred_svm, average='macro'))\n",
        "\n",
        "\n",
        "from sklearn.metrics import precision_score\n",
        "print(\"precision \",precision_score(y_test_fn, Y_pred_svm, average='macro'))\n",
        "\n",
        "from sklearn.metrics import recall_score\n",
        "print(\"recall  \",recall_score(y_test_fn, Y_pred_svm, average='macro'))"
      ],
      "metadata": {
        "colab": {
          "base_uri": "https://localhost:8080/"
        },
        "id": "VgdRiT2RWRY5",
        "outputId": "1c97a141-7ccb-44c3-9799-1a4b56a2bcfd"
      },
      "execution_count": null,
      "outputs": [
        {
          "output_type": "stream",
          "name": "stdout",
          "text": [
            "The accuracy score is: 58.0\n",
            "              precision    recall  f1-score   support\n",
            "\n",
            "           0       0.60      0.20      0.30        15\n",
            "           1       0.55      0.96      0.70        48\n",
            "           2       0.82      0.24      0.38        37\n",
            "\n",
            "    accuracy                           0.58       100\n",
            "   macro avg       0.66      0.47      0.46       100\n",
            "weighted avg       0.66      0.58      0.52       100\n",
            "\n",
            "Confusion Matrix: [[ 3 11  1]\n",
            " [ 1 46  1]\n",
            " [ 1 27  9]]\n",
            "f1 score 0.45732323232323235\n",
            "precision  0.6552669552669553\n",
            "recall   0.4671921921921922\n"
          ]
        }
      ]
    },
    {
      "cell_type": "markdown",
      "source": [
        "<h4> GPT Dataset </h4>"
      ],
      "metadata": {
        "id": "4c-X_6BHDbaa"
      }
    },
    {
      "cell_type": "code",
      "source": [
        "from sklearn import svm\n",
        "sv_g=svm.SVC(kernel='linear',probability=True)\n",
        "start = time.time()\n",
        "sv_g.fit(X_train_vectors_tfidf_g,y_train_g)\n",
        "end = time.time()\n",
        "Y_pred_svm = sv_g.predict(X_test_vectors_tfidf_g) \n",
        "y_prob = sv_g.predict_proba(X_test_vectors_tfidf_g)[:,1]\n",
        "score_svm = round(accuracy_score(Y_pred_svm,y_test_g)*100,2)\n",
        "print(\"The accuracy score is: \" + str(score_svm))\n",
        "print(classification_report(y_test_g,Y_pred_svm))\n",
        "print('Confusion Matrix:',confusion_matrix(y_test_g, Y_pred_svm))\n",
        "\n",
        "\n",
        "from sklearn.metrics import f1_score\n",
        "print(\"f1 score\",f1_score(y_test_g, Y_pred_svm, average='macro'))\n",
        "\n",
        "\n",
        "from sklearn.metrics import precision_score\n",
        "print(\"precision \",precision_score(y_test_g, Y_pred_svm, average='macro'))\n",
        "\n",
        "from sklearn.metrics import recall_score\n",
        "print(\"recall  \",recall_score(y_test_g, Y_pred_svm, average='macro'))"
      ],
      "metadata": {
        "colab": {
          "base_uri": "https://localhost:8080/"
        },
        "id": "7P-IBEBoWRVg",
        "outputId": "d364a6a9-de57-47ea-c1e8-a8fab7181cb1"
      },
      "execution_count": null,
      "outputs": [
        {
          "output_type": "stream",
          "name": "stdout",
          "text": [
            "The accuracy score is: 57.0\n",
            "              precision    recall  f1-score   support\n",
            "\n",
            "           0       0.68      0.71      0.70        45\n",
            "           1       0.38      0.29      0.32        21\n",
            "           2       0.51      0.56      0.54        34\n",
            "\n",
            "    accuracy                           0.57       100\n",
            "   macro avg       0.52      0.52      0.52       100\n",
            "weighted avg       0.56      0.57      0.56       100\n",
            "\n",
            "Confusion Matrix: [[32  3 10]\n",
            " [ 7  6  8]\n",
            " [ 8  7 19]]\n",
            "f1 score 0.5183959219476671\n",
            "precision  0.5231215257811003\n",
            "recall   0.5185496420790539\n"
          ]
        }
      ]
    },
    {
      "cell_type": "markdown",
      "source": [
        "## KNN"
      ],
      "metadata": {
        "id": "Sv64nCCEHV55"
      }
    },
    {
      "cell_type": "markdown",
      "source": [
        "<h4> Restaurant Dataset </h4>"
      ],
      "metadata": {
        "id": "pRyQc1JnDflM"
      }
    },
    {
      "cell_type": "code",
      "source": [
        "from sklearn.neighbors import KNeighborsClassifier\n",
        "knn_r = KNeighborsClassifier(n_neighbors=7)\n",
        "start = time.time()\n",
        "knn_r.fit(X_train_vectors_tfidf_r,y_train_r)\n",
        "end = time.time()\n",
        "\n",
        "Y_pred_knn=knn_r.predict(X_test_vectors_tfidf_r)\n",
        "Y_pred_knn.shape\n",
        "score_knn = round(accuracy_score (Y_pred_knn,y_test_r)*100,2)\n",
        "\n",
        "y_prob = knn_r.predict_proba(X_test_vectors_tfidf_r)[:,1]\n",
        "print(\"The accuracy score achieved using KNN is: \"+str(score_knn)+\" %\")\n",
        "print(classification_report(y_test_r,Y_pred_knn))\n",
        "print('Confusion Matrix:',confusion_matrix(y_test_r, Y_pred_knn))\n",
        "\n",
        "from sklearn.metrics import f1_score\n",
        "print(\"f1 score\",f1_score(y_test_r, Y_pred_knn))\n",
        "\n",
        "from sklearn.metrics import precision_score\n",
        "print(\"precision \",precision_score(y_test_r, Y_pred_knn, average='macro'))\n",
        "\n",
        "from sklearn.metrics import recall_score\n",
        "print(\"recall  \",recall_score(y_test_r, Y_pred_knn, average='macro'))\n",
        "\n",
        "# fpr, tpr, thresholds = roc_curve(y_test_f, y_prob)\n",
        "# roc_auc = auc(fpr, tpr)\n",
        "# print('AUC:', roc_auc)\n",
        "# print(\"The time of execution of above program is :\",\n",
        "#       (end-start) * 10**3, \"ms\")"
      ],
      "metadata": {
        "id": "lzGB4k5FDqXC",
        "colab": {
          "base_uri": "https://localhost:8080/"
        },
        "outputId": "8003a287-3804-497f-bd7e-ee8c517f6f97"
      },
      "execution_count": null,
      "outputs": [
        {
          "output_type": "stream",
          "name": "stdout",
          "text": [
            "The accuracy score achieved using KNN is: 73.0 %\n",
            "              precision    recall  f1-score   support\n",
            "\n",
            "           0       0.62      0.72      0.67        76\n",
            "           1       0.81      0.73      0.77       124\n",
            "\n",
            "    accuracy                           0.73       200\n",
            "   macro avg       0.72      0.73      0.72       200\n",
            "weighted avg       0.74      0.73      0.73       200\n",
            "\n",
            "Confusion Matrix: [[55 21]\n",
            " [33 91]]\n",
            "f1 score 0.7711864406779662\n",
            "precision  0.71875\n",
            "recall   0.7287775891341257\n"
          ]
        }
      ]
    },
    {
      "cell_type": "markdown",
      "source": [
        "<h4> Airline Dataset </h4>"
      ],
      "metadata": {
        "id": "BbDUU2VdDi8i"
      }
    },
    {
      "cell_type": "code",
      "source": [
        "from sklearn.neighbors import KNeighborsClassifier\n",
        "knn_a = KNeighborsClassifier(n_neighbors=7)\n",
        "start = time.time()\n",
        "knn_a.fit(X_train_vectors_tfidf_a,y_train_a)\n",
        "end = time.time()\n",
        "\n",
        "Y_pred_knn=knn_a.predict(X_test_vectors_tfidf_a)\n",
        "Y_pred_knn.shape\n",
        "score_knn = round(accuracy_score (Y_pred_knn,y_test_a)*100,2)\n",
        "\n",
        "y_prob = knn_a.predict_proba(X_test_vectors_tfidf_a)[:,1]\n",
        "print(\"The accuracy score achieved using KNN is: \"+str(score_knn)+\" %\")\n",
        "print(classification_report(y_test_a,Y_pred_knn))\n",
        "print('Confusion Matrix:',confusion_matrix(y_test_a, Y_pred_knn))\n",
        "\n",
        "from sklearn.metrics import f1_score\n",
        "print(\"f1 score\",f1_score(y_test_a, Y_pred_knn, average='macro'))\n",
        "\n",
        "from sklearn.metrics import precision_score\n",
        "print(\"precision \",precision_score(y_test_a, Y_pred_knn, average='macro'))\n",
        "\n",
        "from sklearn.metrics import recall_score\n",
        "print(\"recall  \",recall_score(y_test_a, Y_pred_knn, average='macro'))"
      ],
      "metadata": {
        "colab": {
          "base_uri": "https://localhost:8080/"
        },
        "id": "oWWigK1lls2a",
        "outputId": "35af52e5-3d47-4aff-dca0-0ad08747e3ed"
      },
      "execution_count": null,
      "outputs": [
        {
          "output_type": "stream",
          "name": "stdout",
          "text": [
            "The accuracy score achieved using KNN is: 61.0 %\n",
            "              precision    recall  f1-score   support\n",
            "\n",
            "           0       0.59      0.67      0.62        36\n",
            "           1       0.63      0.60      0.62        40\n",
            "           2       0.62      0.54      0.58        24\n",
            "\n",
            "    accuracy                           0.61       100\n",
            "   macro avg       0.61      0.60      0.61       100\n",
            "weighted avg       0.61      0.61      0.61       100\n",
            "\n",
            "Confusion Matrix: [[24  9  3]\n",
            " [11 24  5]\n",
            " [ 6  5 13]]\n",
            "f1 score 0.6055130055130055\n",
            "precision  0.6119974733581922\n",
            "recall   0.6027777777777777\n"
          ]
        }
      ]
    },
    {
      "cell_type": "markdown",
      "source": [
        "<h4> Financial Dataset </h4>"
      ],
      "metadata": {
        "id": "Z1v6aYerDlvN"
      }
    },
    {
      "cell_type": "code",
      "source": [
        "from sklearn.neighbors import KNeighborsClassifier\n",
        "knn_f = KNeighborsClassifier(n_neighbors=7)\n",
        "start = time.time()\n",
        "knn_f.fit(X_train_vectors_tfidf_f,y_train_f)\n",
        "end = time.time()\n",
        "\n",
        "Y_pred_knn=knn_f.predict(X_test_vectors_tfidf_f)\n",
        "Y_pred_knn.shape\n",
        "score_knn = round(accuracy_score (Y_pred_knn,y_test_f)*100,2)\n",
        "\n",
        "y_prob = knn_f.predict_proba(X_test_vectors_tfidf_f)[:,1]\n",
        "print(\"The accuracy score achieved using KNN is: \"+str(score_knn)+\" %\")\n",
        "print(classification_report(y_test_f,Y_pred_knn))\n",
        "print('Confusion Matrix:',confusion_matrix(y_test_f, Y_pred_knn))\n",
        "\n",
        "from sklearn.metrics import f1_score\n",
        "print(\"f1 score\",f1_score(y_test_f, Y_pred_knn, average='macro'))\n",
        "\n",
        "from sklearn.metrics import precision_score\n",
        "print(\"precision \",precision_score(y_test_f, Y_pred_knn, average='macro'))\n",
        "\n",
        "from sklearn.metrics import recall_score\n",
        "print(\"recall  \",recall_score(y_test_f, Y_pred_knn, average='macro'))"
      ],
      "metadata": {
        "colab": {
          "base_uri": "https://localhost:8080/"
        },
        "id": "FHwL2JnOmKaM",
        "outputId": "d9330894-ec73-4902-fc09-4ac7b249488b"
      },
      "execution_count": null,
      "outputs": [
        {
          "output_type": "stream",
          "name": "stdout",
          "text": [
            "The accuracy score achieved using KNN is: 86.0 %\n",
            "              precision    recall  f1-score   support\n",
            "\n",
            "           0       0.00      0.00      0.00         1\n",
            "           1       0.57      0.53      0.55        15\n",
            "           2       0.91      0.93      0.92        84\n",
            "\n",
            "    accuracy                           0.86       100\n",
            "   macro avg       0.49      0.49      0.49       100\n",
            "weighted avg       0.85      0.86      0.85       100\n",
            "\n",
            "Confusion Matrix: [[ 0  0  1]\n",
            " [ 0  8  7]\n",
            " [ 0  6 78]]\n",
            "f1 score 0.48979039891818793\n",
            "precision  0.49280177187153934\n",
            "recall   0.48730158730158735\n"
          ]
        },
        {
          "output_type": "stream",
          "name": "stderr",
          "text": [
            "/usr/local/lib/python3.10/dist-packages/sklearn/metrics/_classification.py:1344: UndefinedMetricWarning: Precision and F-score are ill-defined and being set to 0.0 in labels with no predicted samples. Use `zero_division` parameter to control this behavior.\n",
            "  _warn_prf(average, modifier, msg_start, len(result))\n",
            "/usr/local/lib/python3.10/dist-packages/sklearn/metrics/_classification.py:1344: UndefinedMetricWarning: Precision and F-score are ill-defined and being set to 0.0 in labels with no predicted samples. Use `zero_division` parameter to control this behavior.\n",
            "  _warn_prf(average, modifier, msg_start, len(result))\n",
            "/usr/local/lib/python3.10/dist-packages/sklearn/metrics/_classification.py:1344: UndefinedMetricWarning: Precision and F-score are ill-defined and being set to 0.0 in labels with no predicted samples. Use `zero_division` parameter to control this behavior.\n",
            "  _warn_prf(average, modifier, msg_start, len(result))\n",
            "/usr/local/lib/python3.10/dist-packages/sklearn/metrics/_classification.py:1344: UndefinedMetricWarning: Precision is ill-defined and being set to 0.0 in labels with no predicted samples. Use `zero_division` parameter to control this behavior.\n",
            "  _warn_prf(average, modifier, msg_start, len(result))\n"
          ]
        }
      ]
    },
    {
      "cell_type": "markdown",
      "source": [
        "<h4> Financial News Dataset </h4>"
      ],
      "metadata": {
        "id": "Mdmx3Z7FDo87"
      }
    },
    {
      "cell_type": "code",
      "source": [
        "from sklearn.neighbors import KNeighborsClassifier\n",
        "knn_fn = KNeighborsClassifier(n_neighbors=7)\n",
        "start = time.time()\n",
        "knn_fn.fit(X_train_vectors_tfidf_fn,y_train_fn)\n",
        "end = time.time()\n",
        "\n",
        "Y_pred_knn=knn_fn.predict(X_test_vectors_tfidf_fn)\n",
        "Y_pred_knn.shape\n",
        "score_knn = round(accuracy_score (Y_pred_knn,y_test_fn)*100,2)\n",
        "\n",
        "y_prob = knn_fn.predict_proba(X_test_vectors_tfidf_fn)[:,1]\n",
        "print(\"The accuracy score achieved using KNN is: \"+str(score_knn)+\" %\")\n",
        "print(classification_report(y_test_fn,Y_pred_knn))\n",
        "print('Confusion Matrix:',confusion_matrix(y_test_fn, Y_pred_knn))\n",
        "\n",
        "from sklearn.metrics import f1_score\n",
        "print(\"f1 score\",f1_score(y_test_fn, Y_pred_knn, average='macro'))\n",
        "\n",
        "from sklearn.metrics import precision_score\n",
        "print(\"precision \",precision_score(y_test_fn, Y_pred_knn, average='macro'))\n",
        "\n",
        "from sklearn.metrics import recall_score\n",
        "print(\"recall  \",recall_score(y_test_fn, Y_pred_knn, average='macro'))"
      ],
      "metadata": {
        "colab": {
          "base_uri": "https://localhost:8080/"
        },
        "id": "AsLI9wY5ExuE",
        "outputId": "6872528e-80e6-4dfc-e616-aa70dd8a0463"
      },
      "execution_count": null,
      "outputs": [
        {
          "output_type": "stream",
          "name": "stdout",
          "text": [
            "The accuracy score achieved using KNN is: 66.0 %\n",
            "              precision    recall  f1-score   support\n",
            "\n",
            "           0       0.30      0.30      0.30        10\n",
            "           1       0.73      0.84      0.78        63\n",
            "           2       0.59      0.37      0.45        27\n",
            "\n",
            "    accuracy                           0.66       100\n",
            "   macro avg       0.54      0.50      0.51       100\n",
            "weighted avg       0.65      0.66      0.64       100\n",
            "\n",
            "Confusion Matrix: [[ 3  7  0]\n",
            " [ 3 53  7]\n",
            " [ 4 13 10]]\n",
            "f1 score 0.511319073083779\n",
            "precision  0.5380875637926404\n",
            "recall   0.5038800705467371\n"
          ]
        }
      ]
    },
    {
      "cell_type": "markdown",
      "source": [
        "<h4> GPT Dataset </h4>"
      ],
      "metadata": {
        "id": "rMuYFgrtDskk"
      }
    },
    {
      "cell_type": "code",
      "source": [
        "from sklearn.neighbors import KNeighborsClassifier\n",
        "knn_g = KNeighborsClassifier(n_neighbors=7)\n",
        "start = time.time()\n",
        "knn_g.fit(X_train_vectors_tfidf_g,y_train_g)\n",
        "end = time.time()\n",
        "\n",
        "Y_pred_knn=knn_g.predict(X_test_vectors_tfidf_g)\n",
        "Y_pred_knn.shape\n",
        "score_knn = round(accuracy_score (Y_pred_knn,y_test_g)*100,2)\n",
        "\n",
        "y_prob = knn_g.predict_proba(X_test_vectors_tfidf_g)[:,1]\n",
        "print(\"The accuracy score achieved using KNN is: \"+str(score_knn)+\" %\")\n",
        "print(classification_report(y_test_g,Y_pred_knn))\n",
        "print('Confusion Matrix:',confusion_matrix(y_test_g, Y_pred_knn))\n",
        "\n",
        "from sklearn.metrics import f1_score\n",
        "print(\"f1 score\",f1_score(y_test_g, Y_pred_knn, average='macro'))\n",
        "\n",
        "from sklearn.metrics import precision_score\n",
        "print(\"precision \",precision_score(y_test_g, Y_pred_knn, average='macro'))\n",
        "\n",
        "from sklearn.metrics import recall_score\n",
        "print(\"recall  \",recall_score(y_test_g, Y_pred_knn, average='macro'))"
      ],
      "metadata": {
        "colab": {
          "base_uri": "https://localhost:8080/"
        },
        "id": "1vdxhKx1ExqZ",
        "outputId": "8a9acfcb-5573-452c-cb9e-17ecf45c51ec"
      },
      "execution_count": null,
      "outputs": [
        {
          "output_type": "stream",
          "name": "stdout",
          "text": [
            "The accuracy score achieved using KNN is: 54.0 %\n",
            "              precision    recall  f1-score   support\n",
            "\n",
            "           0       0.69      0.53      0.60        45\n",
            "           1       0.48      0.48      0.48        29\n",
            "           2       0.44      0.62      0.52        26\n",
            "\n",
            "    accuracy                           0.54       100\n",
            "   macro avg       0.54      0.54      0.53       100\n",
            "weighted avg       0.56      0.54      0.54       100\n",
            "\n",
            "Confusion Matrix: [[24 10 11]\n",
            " [ 6 14  9]\n",
            " [ 5  5 16]]\n",
            "f1 score 0.5329625509825733\n",
            "precision  0.5376391169494618\n",
            "recall   0.543825523135868\n"
          ]
        }
      ]
    },
    {
      "cell_type": "markdown",
      "source": [
        "# Exporting the data to the CSV files"
      ],
      "metadata": {
        "id": "4K45KgFgDyjx"
      }
    },
    {
      "cell_type": "code",
      "source": [
        "final_r=df_rest_t[['clean_text_rest','Liked']].reset_index(drop=True)"
      ],
      "metadata": {
        "id": "OI6I2Lct792f"
      },
      "execution_count": null,
      "outputs": []
    },
    {
      "cell_type": "code",
      "source": [
        "final_r"
      ],
      "metadata": {
        "colab": {
          "base_uri": "https://localhost:8080/",
          "height": 423
        },
        "id": "n_n8jxHU8D2r",
        "outputId": "3ff30b90-6b74-48df-df5c-c8d7e187eaf4"
      },
      "execution_count": null,
      "outputs": [
        {
          "output_type": "execute_result",
          "data": {
            "text/plain": [
              "                                       clean_text_rest  Liked\n",
              "0                                       wow love place      1\n",
              "1                                           crust good      0\n",
              "2                                  tasty texture nasty      0\n",
              "3    stop late may bank holiday rick steve recommen...      1\n",
              "4                           selection menu great price      1\n",
              "..                                                 ...    ...\n",
              "995                     think food flavor texture lack      0\n",
              "996                              appetite instantly go      0\n",
              "997                      overall impress would go back      0\n",
              "998  whole experience underwhelming think go ninja ...      0\n",
              "999  waste enough life pour salt wound draw time ta...      0\n",
              "\n",
              "[1000 rows x 2 columns]"
            ],
            "text/html": [
              "\n",
              "  <div id=\"df-2cff0395-4bb3-4dee-a9d1-a031defac4e2\">\n",
              "    <div class=\"colab-df-container\">\n",
              "      <div>\n",
              "<style scoped>\n",
              "    .dataframe tbody tr th:only-of-type {\n",
              "        vertical-align: middle;\n",
              "    }\n",
              "\n",
              "    .dataframe tbody tr th {\n",
              "        vertical-align: top;\n",
              "    }\n",
              "\n",
              "    .dataframe thead th {\n",
              "        text-align: right;\n",
              "    }\n",
              "</style>\n",
              "<table border=\"1\" class=\"dataframe\">\n",
              "  <thead>\n",
              "    <tr style=\"text-align: right;\">\n",
              "      <th></th>\n",
              "      <th>clean_text_rest</th>\n",
              "      <th>Liked</th>\n",
              "    </tr>\n",
              "  </thead>\n",
              "  <tbody>\n",
              "    <tr>\n",
              "      <th>0</th>\n",
              "      <td>wow love place</td>\n",
              "      <td>1</td>\n",
              "    </tr>\n",
              "    <tr>\n",
              "      <th>1</th>\n",
              "      <td>crust good</td>\n",
              "      <td>0</td>\n",
              "    </tr>\n",
              "    <tr>\n",
              "      <th>2</th>\n",
              "      <td>tasty texture nasty</td>\n",
              "      <td>0</td>\n",
              "    </tr>\n",
              "    <tr>\n",
              "      <th>3</th>\n",
              "      <td>stop late may bank holiday rick steve recommen...</td>\n",
              "      <td>1</td>\n",
              "    </tr>\n",
              "    <tr>\n",
              "      <th>4</th>\n",
              "      <td>selection menu great price</td>\n",
              "      <td>1</td>\n",
              "    </tr>\n",
              "    <tr>\n",
              "      <th>...</th>\n",
              "      <td>...</td>\n",
              "      <td>...</td>\n",
              "    </tr>\n",
              "    <tr>\n",
              "      <th>995</th>\n",
              "      <td>think food flavor texture lack</td>\n",
              "      <td>0</td>\n",
              "    </tr>\n",
              "    <tr>\n",
              "      <th>996</th>\n",
              "      <td>appetite instantly go</td>\n",
              "      <td>0</td>\n",
              "    </tr>\n",
              "    <tr>\n",
              "      <th>997</th>\n",
              "      <td>overall impress would go back</td>\n",
              "      <td>0</td>\n",
              "    </tr>\n",
              "    <tr>\n",
              "      <th>998</th>\n",
              "      <td>whole experience underwhelming think go ninja ...</td>\n",
              "      <td>0</td>\n",
              "    </tr>\n",
              "    <tr>\n",
              "      <th>999</th>\n",
              "      <td>waste enough life pour salt wound draw time ta...</td>\n",
              "      <td>0</td>\n",
              "    </tr>\n",
              "  </tbody>\n",
              "</table>\n",
              "<p>1000 rows × 2 columns</p>\n",
              "</div>\n",
              "      <button class=\"colab-df-convert\" onclick=\"convertToInteractive('df-2cff0395-4bb3-4dee-a9d1-a031defac4e2')\"\n",
              "              title=\"Convert this dataframe to an interactive table.\"\n",
              "              style=\"display:none;\">\n",
              "        \n",
              "  <svg xmlns=\"http://www.w3.org/2000/svg\" height=\"24px\"viewBox=\"0 0 24 24\"\n",
              "       width=\"24px\">\n",
              "    <path d=\"M0 0h24v24H0V0z\" fill=\"none\"/>\n",
              "    <path d=\"M18.56 5.44l.94 2.06.94-2.06 2.06-.94-2.06-.94-.94-2.06-.94 2.06-2.06.94zm-11 1L8.5 8.5l.94-2.06 2.06-.94-2.06-.94L8.5 2.5l-.94 2.06-2.06.94zm10 10l.94 2.06.94-2.06 2.06-.94-2.06-.94-.94-2.06-.94 2.06-2.06.94z\"/><path d=\"M17.41 7.96l-1.37-1.37c-.4-.4-.92-.59-1.43-.59-.52 0-1.04.2-1.43.59L10.3 9.45l-7.72 7.72c-.78.78-.78 2.05 0 2.83L4 21.41c.39.39.9.59 1.41.59.51 0 1.02-.2 1.41-.59l7.78-7.78 2.81-2.81c.8-.78.8-2.07 0-2.86zM5.41 20L4 18.59l7.72-7.72 1.47 1.35L5.41 20z\"/>\n",
              "  </svg>\n",
              "      </button>\n",
              "      \n",
              "  <style>\n",
              "    .colab-df-container {\n",
              "      display:flex;\n",
              "      flex-wrap:wrap;\n",
              "      gap: 12px;\n",
              "    }\n",
              "\n",
              "    .colab-df-convert {\n",
              "      background-color: #E8F0FE;\n",
              "      border: none;\n",
              "      border-radius: 50%;\n",
              "      cursor: pointer;\n",
              "      display: none;\n",
              "      fill: #1967D2;\n",
              "      height: 32px;\n",
              "      padding: 0 0 0 0;\n",
              "      width: 32px;\n",
              "    }\n",
              "\n",
              "    .colab-df-convert:hover {\n",
              "      background-color: #E2EBFA;\n",
              "      box-shadow: 0px 1px 2px rgba(60, 64, 67, 0.3), 0px 1px 3px 1px rgba(60, 64, 67, 0.15);\n",
              "      fill: #174EA6;\n",
              "    }\n",
              "\n",
              "    [theme=dark] .colab-df-convert {\n",
              "      background-color: #3B4455;\n",
              "      fill: #D2E3FC;\n",
              "    }\n",
              "\n",
              "    [theme=dark] .colab-df-convert:hover {\n",
              "      background-color: #434B5C;\n",
              "      box-shadow: 0px 1px 3px 1px rgba(0, 0, 0, 0.15);\n",
              "      filter: drop-shadow(0px 1px 2px rgba(0, 0, 0, 0.3));\n",
              "      fill: #FFFFFF;\n",
              "    }\n",
              "  </style>\n",
              "\n",
              "      <script>\n",
              "        const buttonEl =\n",
              "          document.querySelector('#df-2cff0395-4bb3-4dee-a9d1-a031defac4e2 button.colab-df-convert');\n",
              "        buttonEl.style.display =\n",
              "          google.colab.kernel.accessAllowed ? 'block' : 'none';\n",
              "\n",
              "        async function convertToInteractive(key) {\n",
              "          const element = document.querySelector('#df-2cff0395-4bb3-4dee-a9d1-a031defac4e2');\n",
              "          const dataTable =\n",
              "            await google.colab.kernel.invokeFunction('convertToInteractive',\n",
              "                                                     [key], {});\n",
              "          if (!dataTable) return;\n",
              "\n",
              "          const docLinkHtml = 'Like what you see? Visit the ' +\n",
              "            '<a target=\"_blank\" href=https://colab.research.google.com/notebooks/data_table.ipynb>data table notebook</a>'\n",
              "            + ' to learn more about interactive tables.';\n",
              "          element.innerHTML = '';\n",
              "          dataTable['output_type'] = 'display_data';\n",
              "          await google.colab.output.renderOutput(dataTable, element);\n",
              "          const docLink = document.createElement('div');\n",
              "          docLink.innerHTML = docLinkHtml;\n",
              "          element.appendChild(docLink);\n",
              "        }\n",
              "      </script>\n",
              "    </div>\n",
              "  </div>\n",
              "  "
            ]
          },
          "metadata": {},
          "execution_count": 127
        }
      ]
    },
    {
      "cell_type": "code",
      "source": [
        "final_r.to_csv('/content/drive/MyDrive/Phase 2 changes/clean_data_r.csv')"
      ],
      "metadata": {
        "id": "djV26OhB8syz"
      },
      "execution_count": null,
      "outputs": []
    },
    {
      "cell_type": "code",
      "source": [
        "final_a=df_airl_t[['clean_text_airl','airline_sentiment']].reset_index(drop=True)\n",
        "final_a"
      ],
      "metadata": {
        "id": "51QZF7GgGbqc",
        "colab": {
          "base_uri": "https://localhost:8080/",
          "height": 423
        },
        "outputId": "7eeb8102-0cac-4820-c1c2-f07fa6282341"
      },
      "execution_count": null,
      "outputs": [
        {
          "output_type": "execute_result",
          "data": {
            "text/plain": [
              "                                       clean_text_airl  airline_sentiment\n",
              "0                           virginamerica dhepburn say                  1\n",
              "1    virginamerica plus added commercial experience...                  2\n",
              "2    virginamerica today must mean need take anothe...                  1\n",
              "3    virginamerica really aggressive blast obnoxiou...                  0\n",
              "4                   virginamerica really big bad thing                  0\n",
              "..                                                 ...                ...\n",
              "495  virginamerica flight schedule pm departure sti...                  0\n",
              "496  virginamerica group get cancel flightlation fe...                  0\n",
              "497          virginamerica sign bonuses enroll elevate                  1\n",
              "498  virginamerica get pm newark home la folk ewr i...                  2\n",
              "499  virginamerica morning question regard elevate ...                  1\n",
              "\n",
              "[500 rows x 2 columns]"
            ],
            "text/html": [
              "\n",
              "  <div id=\"df-f88a83bc-05f7-4925-98f0-5acb04961351\">\n",
              "    <div class=\"colab-df-container\">\n",
              "      <div>\n",
              "<style scoped>\n",
              "    .dataframe tbody tr th:only-of-type {\n",
              "        vertical-align: middle;\n",
              "    }\n",
              "\n",
              "    .dataframe tbody tr th {\n",
              "        vertical-align: top;\n",
              "    }\n",
              "\n",
              "    .dataframe thead th {\n",
              "        text-align: right;\n",
              "    }\n",
              "</style>\n",
              "<table border=\"1\" class=\"dataframe\">\n",
              "  <thead>\n",
              "    <tr style=\"text-align: right;\">\n",
              "      <th></th>\n",
              "      <th>clean_text_airl</th>\n",
              "      <th>airline_sentiment</th>\n",
              "    </tr>\n",
              "  </thead>\n",
              "  <tbody>\n",
              "    <tr>\n",
              "      <th>0</th>\n",
              "      <td>virginamerica dhepburn say</td>\n",
              "      <td>1</td>\n",
              "    </tr>\n",
              "    <tr>\n",
              "      <th>1</th>\n",
              "      <td>virginamerica plus added commercial experience...</td>\n",
              "      <td>2</td>\n",
              "    </tr>\n",
              "    <tr>\n",
              "      <th>2</th>\n",
              "      <td>virginamerica today must mean need take anothe...</td>\n",
              "      <td>1</td>\n",
              "    </tr>\n",
              "    <tr>\n",
              "      <th>3</th>\n",
              "      <td>virginamerica really aggressive blast obnoxiou...</td>\n",
              "      <td>0</td>\n",
              "    </tr>\n",
              "    <tr>\n",
              "      <th>4</th>\n",
              "      <td>virginamerica really big bad thing</td>\n",
              "      <td>0</td>\n",
              "    </tr>\n",
              "    <tr>\n",
              "      <th>...</th>\n",
              "      <td>...</td>\n",
              "      <td>...</td>\n",
              "    </tr>\n",
              "    <tr>\n",
              "      <th>495</th>\n",
              "      <td>virginamerica flight schedule pm departure sti...</td>\n",
              "      <td>0</td>\n",
              "    </tr>\n",
              "    <tr>\n",
              "      <th>496</th>\n",
              "      <td>virginamerica group get cancel flightlation fe...</td>\n",
              "      <td>0</td>\n",
              "    </tr>\n",
              "    <tr>\n",
              "      <th>497</th>\n",
              "      <td>virginamerica sign bonuses enroll elevate</td>\n",
              "      <td>1</td>\n",
              "    </tr>\n",
              "    <tr>\n",
              "      <th>498</th>\n",
              "      <td>virginamerica get pm newark home la folk ewr i...</td>\n",
              "      <td>2</td>\n",
              "    </tr>\n",
              "    <tr>\n",
              "      <th>499</th>\n",
              "      <td>virginamerica morning question regard elevate ...</td>\n",
              "      <td>1</td>\n",
              "    </tr>\n",
              "  </tbody>\n",
              "</table>\n",
              "<p>500 rows × 2 columns</p>\n",
              "</div>\n",
              "      <button class=\"colab-df-convert\" onclick=\"convertToInteractive('df-f88a83bc-05f7-4925-98f0-5acb04961351')\"\n",
              "              title=\"Convert this dataframe to an interactive table.\"\n",
              "              style=\"display:none;\">\n",
              "        \n",
              "  <svg xmlns=\"http://www.w3.org/2000/svg\" height=\"24px\"viewBox=\"0 0 24 24\"\n",
              "       width=\"24px\">\n",
              "    <path d=\"M0 0h24v24H0V0z\" fill=\"none\"/>\n",
              "    <path d=\"M18.56 5.44l.94 2.06.94-2.06 2.06-.94-2.06-.94-.94-2.06-.94 2.06-2.06.94zm-11 1L8.5 8.5l.94-2.06 2.06-.94-2.06-.94L8.5 2.5l-.94 2.06-2.06.94zm10 10l.94 2.06.94-2.06 2.06-.94-2.06-.94-.94-2.06-.94 2.06-2.06.94z\"/><path d=\"M17.41 7.96l-1.37-1.37c-.4-.4-.92-.59-1.43-.59-.52 0-1.04.2-1.43.59L10.3 9.45l-7.72 7.72c-.78.78-.78 2.05 0 2.83L4 21.41c.39.39.9.59 1.41.59.51 0 1.02-.2 1.41-.59l7.78-7.78 2.81-2.81c.8-.78.8-2.07 0-2.86zM5.41 20L4 18.59l7.72-7.72 1.47 1.35L5.41 20z\"/>\n",
              "  </svg>\n",
              "      </button>\n",
              "      \n",
              "  <style>\n",
              "    .colab-df-container {\n",
              "      display:flex;\n",
              "      flex-wrap:wrap;\n",
              "      gap: 12px;\n",
              "    }\n",
              "\n",
              "    .colab-df-convert {\n",
              "      background-color: #E8F0FE;\n",
              "      border: none;\n",
              "      border-radius: 50%;\n",
              "      cursor: pointer;\n",
              "      display: none;\n",
              "      fill: #1967D2;\n",
              "      height: 32px;\n",
              "      padding: 0 0 0 0;\n",
              "      width: 32px;\n",
              "    }\n",
              "\n",
              "    .colab-df-convert:hover {\n",
              "      background-color: #E2EBFA;\n",
              "      box-shadow: 0px 1px 2px rgba(60, 64, 67, 0.3), 0px 1px 3px 1px rgba(60, 64, 67, 0.15);\n",
              "      fill: #174EA6;\n",
              "    }\n",
              "\n",
              "    [theme=dark] .colab-df-convert {\n",
              "      background-color: #3B4455;\n",
              "      fill: #D2E3FC;\n",
              "    }\n",
              "\n",
              "    [theme=dark] .colab-df-convert:hover {\n",
              "      background-color: #434B5C;\n",
              "      box-shadow: 0px 1px 3px 1px rgba(0, 0, 0, 0.15);\n",
              "      filter: drop-shadow(0px 1px 2px rgba(0, 0, 0, 0.3));\n",
              "      fill: #FFFFFF;\n",
              "    }\n",
              "  </style>\n",
              "\n",
              "      <script>\n",
              "        const buttonEl =\n",
              "          document.querySelector('#df-f88a83bc-05f7-4925-98f0-5acb04961351 button.colab-df-convert');\n",
              "        buttonEl.style.display =\n",
              "          google.colab.kernel.accessAllowed ? 'block' : 'none';\n",
              "\n",
              "        async function convertToInteractive(key) {\n",
              "          const element = document.querySelector('#df-f88a83bc-05f7-4925-98f0-5acb04961351');\n",
              "          const dataTable =\n",
              "            await google.colab.kernel.invokeFunction('convertToInteractive',\n",
              "                                                     [key], {});\n",
              "          if (!dataTable) return;\n",
              "\n",
              "          const docLinkHtml = 'Like what you see? Visit the ' +\n",
              "            '<a target=\"_blank\" href=https://colab.research.google.com/notebooks/data_table.ipynb>data table notebook</a>'\n",
              "            + ' to learn more about interactive tables.';\n",
              "          element.innerHTML = '';\n",
              "          dataTable['output_type'] = 'display_data';\n",
              "          await google.colab.output.renderOutput(dataTable, element);\n",
              "          const docLink = document.createElement('div');\n",
              "          docLink.innerHTML = docLinkHtml;\n",
              "          element.appendChild(docLink);\n",
              "        }\n",
              "      </script>\n",
              "    </div>\n",
              "  </div>\n",
              "  "
            ]
          },
          "metadata": {},
          "execution_count": 129
        }
      ]
    },
    {
      "cell_type": "code",
      "source": [
        "final_a.to_csv('/content/drive/MyDrive/Phase 2 changes/clean_data_a.csv')"
      ],
      "metadata": {
        "id": "CcpSS-QQ9rIa"
      },
      "execution_count": null,
      "outputs": []
    },
    {
      "cell_type": "code",
      "source": [
        "final_f=df_fin_t[['clean_text_fin','setiment']].reset_index(drop=True)\n",
        "final_f"
      ],
      "metadata": {
        "id": "NcRzT53CE3p2",
        "colab": {
          "base_uri": "https://localhost:8080/",
          "height": 423
        },
        "outputId": "487a94d0-0708-4fe2-b217-25de5e215789"
      },
      "execution_count": null,
      "outputs": [
        {
          "output_type": "execute_result",
          "data": {
            "text/plain": [
              "                                        clean_text_fin  setiment\n",
              "0    accord gran company plan move production russi...         1\n",
              "1    technopolis plan develop stage area less squar...         1\n",
              "2    international electronic industry company elco...         0\n",
              "3    new production plant company would increase ca...         2\n",
              "4    accord company update strategy year basware ta...         2\n",
              "..                                                 ...       ...\n",
              "495  delivers different user experience enable u wi...         2\n",
              "496  jacob support storengy investment develop stor...         1\n",
              "497  adpnews jun finnish stainless steel maker outo...         2\n",
              "498  increase net sale due acquisition swedish silv...         2\n",
              "499  mr ashley deputy executive chairman sport dire...         1\n",
              "\n",
              "[500 rows x 2 columns]"
            ],
            "text/html": [
              "\n",
              "  <div id=\"df-0504dede-dc55-4bae-8b27-a2c78521daef\">\n",
              "    <div class=\"colab-df-container\">\n",
              "      <div>\n",
              "<style scoped>\n",
              "    .dataframe tbody tr th:only-of-type {\n",
              "        vertical-align: middle;\n",
              "    }\n",
              "\n",
              "    .dataframe tbody tr th {\n",
              "        vertical-align: top;\n",
              "    }\n",
              "\n",
              "    .dataframe thead th {\n",
              "        text-align: right;\n",
              "    }\n",
              "</style>\n",
              "<table border=\"1\" class=\"dataframe\">\n",
              "  <thead>\n",
              "    <tr style=\"text-align: right;\">\n",
              "      <th></th>\n",
              "      <th>clean_text_fin</th>\n",
              "      <th>setiment</th>\n",
              "    </tr>\n",
              "  </thead>\n",
              "  <tbody>\n",
              "    <tr>\n",
              "      <th>0</th>\n",
              "      <td>accord gran company plan move production russi...</td>\n",
              "      <td>1</td>\n",
              "    </tr>\n",
              "    <tr>\n",
              "      <th>1</th>\n",
              "      <td>technopolis plan develop stage area less squar...</td>\n",
              "      <td>1</td>\n",
              "    </tr>\n",
              "    <tr>\n",
              "      <th>2</th>\n",
              "      <td>international electronic industry company elco...</td>\n",
              "      <td>0</td>\n",
              "    </tr>\n",
              "    <tr>\n",
              "      <th>3</th>\n",
              "      <td>new production plant company would increase ca...</td>\n",
              "      <td>2</td>\n",
              "    </tr>\n",
              "    <tr>\n",
              "      <th>4</th>\n",
              "      <td>accord company update strategy year basware ta...</td>\n",
              "      <td>2</td>\n",
              "    </tr>\n",
              "    <tr>\n",
              "      <th>...</th>\n",
              "      <td>...</td>\n",
              "      <td>...</td>\n",
              "    </tr>\n",
              "    <tr>\n",
              "      <th>495</th>\n",
              "      <td>delivers different user experience enable u wi...</td>\n",
              "      <td>2</td>\n",
              "    </tr>\n",
              "    <tr>\n",
              "      <th>496</th>\n",
              "      <td>jacob support storengy investment develop stor...</td>\n",
              "      <td>1</td>\n",
              "    </tr>\n",
              "    <tr>\n",
              "      <th>497</th>\n",
              "      <td>adpnews jun finnish stainless steel maker outo...</td>\n",
              "      <td>2</td>\n",
              "    </tr>\n",
              "    <tr>\n",
              "      <th>498</th>\n",
              "      <td>increase net sale due acquisition swedish silv...</td>\n",
              "      <td>2</td>\n",
              "    </tr>\n",
              "    <tr>\n",
              "      <th>499</th>\n",
              "      <td>mr ashley deputy executive chairman sport dire...</td>\n",
              "      <td>1</td>\n",
              "    </tr>\n",
              "  </tbody>\n",
              "</table>\n",
              "<p>500 rows × 2 columns</p>\n",
              "</div>\n",
              "      <button class=\"colab-df-convert\" onclick=\"convertToInteractive('df-0504dede-dc55-4bae-8b27-a2c78521daef')\"\n",
              "              title=\"Convert this dataframe to an interactive table.\"\n",
              "              style=\"display:none;\">\n",
              "        \n",
              "  <svg xmlns=\"http://www.w3.org/2000/svg\" height=\"24px\"viewBox=\"0 0 24 24\"\n",
              "       width=\"24px\">\n",
              "    <path d=\"M0 0h24v24H0V0z\" fill=\"none\"/>\n",
              "    <path d=\"M18.56 5.44l.94 2.06.94-2.06 2.06-.94-2.06-.94-.94-2.06-.94 2.06-2.06.94zm-11 1L8.5 8.5l.94-2.06 2.06-.94-2.06-.94L8.5 2.5l-.94 2.06-2.06.94zm10 10l.94 2.06.94-2.06 2.06-.94-2.06-.94-.94-2.06-.94 2.06-2.06.94z\"/><path d=\"M17.41 7.96l-1.37-1.37c-.4-.4-.92-.59-1.43-.59-.52 0-1.04.2-1.43.59L10.3 9.45l-7.72 7.72c-.78.78-.78 2.05 0 2.83L4 21.41c.39.39.9.59 1.41.59.51 0 1.02-.2 1.41-.59l7.78-7.78 2.81-2.81c.8-.78.8-2.07 0-2.86zM5.41 20L4 18.59l7.72-7.72 1.47 1.35L5.41 20z\"/>\n",
              "  </svg>\n",
              "      </button>\n",
              "      \n",
              "  <style>\n",
              "    .colab-df-container {\n",
              "      display:flex;\n",
              "      flex-wrap:wrap;\n",
              "      gap: 12px;\n",
              "    }\n",
              "\n",
              "    .colab-df-convert {\n",
              "      background-color: #E8F0FE;\n",
              "      border: none;\n",
              "      border-radius: 50%;\n",
              "      cursor: pointer;\n",
              "      display: none;\n",
              "      fill: #1967D2;\n",
              "      height: 32px;\n",
              "      padding: 0 0 0 0;\n",
              "      width: 32px;\n",
              "    }\n",
              "\n",
              "    .colab-df-convert:hover {\n",
              "      background-color: #E2EBFA;\n",
              "      box-shadow: 0px 1px 2px rgba(60, 64, 67, 0.3), 0px 1px 3px 1px rgba(60, 64, 67, 0.15);\n",
              "      fill: #174EA6;\n",
              "    }\n",
              "\n",
              "    [theme=dark] .colab-df-convert {\n",
              "      background-color: #3B4455;\n",
              "      fill: #D2E3FC;\n",
              "    }\n",
              "\n",
              "    [theme=dark] .colab-df-convert:hover {\n",
              "      background-color: #434B5C;\n",
              "      box-shadow: 0px 1px 3px 1px rgba(0, 0, 0, 0.15);\n",
              "      filter: drop-shadow(0px 1px 2px rgba(0, 0, 0, 0.3));\n",
              "      fill: #FFFFFF;\n",
              "    }\n",
              "  </style>\n",
              "\n",
              "      <script>\n",
              "        const buttonEl =\n",
              "          document.querySelector('#df-0504dede-dc55-4bae-8b27-a2c78521daef button.colab-df-convert');\n",
              "        buttonEl.style.display =\n",
              "          google.colab.kernel.accessAllowed ? 'block' : 'none';\n",
              "\n",
              "        async function convertToInteractive(key) {\n",
              "          const element = document.querySelector('#df-0504dede-dc55-4bae-8b27-a2c78521daef');\n",
              "          const dataTable =\n",
              "            await google.colab.kernel.invokeFunction('convertToInteractive',\n",
              "                                                     [key], {});\n",
              "          if (!dataTable) return;\n",
              "\n",
              "          const docLinkHtml = 'Like what you see? Visit the ' +\n",
              "            '<a target=\"_blank\" href=https://colab.research.google.com/notebooks/data_table.ipynb>data table notebook</a>'\n",
              "            + ' to learn more about interactive tables.';\n",
              "          element.innerHTML = '';\n",
              "          dataTable['output_type'] = 'display_data';\n",
              "          await google.colab.output.renderOutput(dataTable, element);\n",
              "          const docLink = document.createElement('div');\n",
              "          docLink.innerHTML = docLinkHtml;\n",
              "          element.appendChild(docLink);\n",
              "        }\n",
              "      </script>\n",
              "    </div>\n",
              "  </div>\n",
              "  "
            ]
          },
          "metadata": {},
          "execution_count": 131
        }
      ]
    },
    {
      "cell_type": "code",
      "source": [
        "final_f.to_csv('/content/drive/MyDrive/Phase 2 changes/clean_data_f.csv')"
      ],
      "metadata": {
        "id": "Eqg_wif493hq"
      },
      "execution_count": null,
      "outputs": []
    },
    {
      "cell_type": "code",
      "source": [
        "final_fn=df_fin_news_t[['clean_text_fin_news','Sentiment']].reset_index(drop=True)\n",
        "final_fn"
      ],
      "metadata": {
        "colab": {
          "base_uri": "https://localhost:8080/",
          "height": 423
        },
        "id": "2n5zGhgy4vef",
        "outputId": "a6e9b2ec-0729-46af-f44e-940fcaa58182"
      },
      "execution_count": null,
      "outputs": [
        {
          "output_type": "execute_result",
          "data": {
            "text/plain": [
              "                                   clean_text_fin_news  Sentiment\n",
              "0    geosolutions technology leverage benefon gps s...          2\n",
              "1                          esi low bk real possibility          0\n",
              "2    last quarter componenta net sale double eur eu...          2\n",
              "3    accord finnish russian chamber commerce major ...          1\n",
              "4    swedish buyout firm sell remain percent stake ...          1\n",
              "..                                                 ...        ...\n",
              "495  february new word identity document act make m...          1\n",
              "496  antti orkola president kemira growhow industri...          0\n",
              "497                                              alone          1\n",
              "498  february finland base steel maker rautaruukki ...          0\n",
              "499  sale savcor face cencorp result profit loss ye...          1\n",
              "\n",
              "[500 rows x 2 columns]"
            ],
            "text/html": [
              "\n",
              "  <div id=\"df-dc4c6a3a-0d11-404a-8218-643dbd065207\">\n",
              "    <div class=\"colab-df-container\">\n",
              "      <div>\n",
              "<style scoped>\n",
              "    .dataframe tbody tr th:only-of-type {\n",
              "        vertical-align: middle;\n",
              "    }\n",
              "\n",
              "    .dataframe tbody tr th {\n",
              "        vertical-align: top;\n",
              "    }\n",
              "\n",
              "    .dataframe thead th {\n",
              "        text-align: right;\n",
              "    }\n",
              "</style>\n",
              "<table border=\"1\" class=\"dataframe\">\n",
              "  <thead>\n",
              "    <tr style=\"text-align: right;\">\n",
              "      <th></th>\n",
              "      <th>clean_text_fin_news</th>\n",
              "      <th>Sentiment</th>\n",
              "    </tr>\n",
              "  </thead>\n",
              "  <tbody>\n",
              "    <tr>\n",
              "      <th>0</th>\n",
              "      <td>geosolutions technology leverage benefon gps s...</td>\n",
              "      <td>2</td>\n",
              "    </tr>\n",
              "    <tr>\n",
              "      <th>1</th>\n",
              "      <td>esi low bk real possibility</td>\n",
              "      <td>0</td>\n",
              "    </tr>\n",
              "    <tr>\n",
              "      <th>2</th>\n",
              "      <td>last quarter componenta net sale double eur eu...</td>\n",
              "      <td>2</td>\n",
              "    </tr>\n",
              "    <tr>\n",
              "      <th>3</th>\n",
              "      <td>accord finnish russian chamber commerce major ...</td>\n",
              "      <td>1</td>\n",
              "    </tr>\n",
              "    <tr>\n",
              "      <th>4</th>\n",
              "      <td>swedish buyout firm sell remain percent stake ...</td>\n",
              "      <td>1</td>\n",
              "    </tr>\n",
              "    <tr>\n",
              "      <th>...</th>\n",
              "      <td>...</td>\n",
              "      <td>...</td>\n",
              "    </tr>\n",
              "    <tr>\n",
              "      <th>495</th>\n",
              "      <td>february new word identity document act make m...</td>\n",
              "      <td>1</td>\n",
              "    </tr>\n",
              "    <tr>\n",
              "      <th>496</th>\n",
              "      <td>antti orkola president kemira growhow industri...</td>\n",
              "      <td>0</td>\n",
              "    </tr>\n",
              "    <tr>\n",
              "      <th>497</th>\n",
              "      <td>alone</td>\n",
              "      <td>1</td>\n",
              "    </tr>\n",
              "    <tr>\n",
              "      <th>498</th>\n",
              "      <td>february finland base steel maker rautaruukki ...</td>\n",
              "      <td>0</td>\n",
              "    </tr>\n",
              "    <tr>\n",
              "      <th>499</th>\n",
              "      <td>sale savcor face cencorp result profit loss ye...</td>\n",
              "      <td>1</td>\n",
              "    </tr>\n",
              "  </tbody>\n",
              "</table>\n",
              "<p>500 rows × 2 columns</p>\n",
              "</div>\n",
              "      <button class=\"colab-df-convert\" onclick=\"convertToInteractive('df-dc4c6a3a-0d11-404a-8218-643dbd065207')\"\n",
              "              title=\"Convert this dataframe to an interactive table.\"\n",
              "              style=\"display:none;\">\n",
              "        \n",
              "  <svg xmlns=\"http://www.w3.org/2000/svg\" height=\"24px\"viewBox=\"0 0 24 24\"\n",
              "       width=\"24px\">\n",
              "    <path d=\"M0 0h24v24H0V0z\" fill=\"none\"/>\n",
              "    <path d=\"M18.56 5.44l.94 2.06.94-2.06 2.06-.94-2.06-.94-.94-2.06-.94 2.06-2.06.94zm-11 1L8.5 8.5l.94-2.06 2.06-.94-2.06-.94L8.5 2.5l-.94 2.06-2.06.94zm10 10l.94 2.06.94-2.06 2.06-.94-2.06-.94-.94-2.06-.94 2.06-2.06.94z\"/><path d=\"M17.41 7.96l-1.37-1.37c-.4-.4-.92-.59-1.43-.59-.52 0-1.04.2-1.43.59L10.3 9.45l-7.72 7.72c-.78.78-.78 2.05 0 2.83L4 21.41c.39.39.9.59 1.41.59.51 0 1.02-.2 1.41-.59l7.78-7.78 2.81-2.81c.8-.78.8-2.07 0-2.86zM5.41 20L4 18.59l7.72-7.72 1.47 1.35L5.41 20z\"/>\n",
              "  </svg>\n",
              "      </button>\n",
              "      \n",
              "  <style>\n",
              "    .colab-df-container {\n",
              "      display:flex;\n",
              "      flex-wrap:wrap;\n",
              "      gap: 12px;\n",
              "    }\n",
              "\n",
              "    .colab-df-convert {\n",
              "      background-color: #E8F0FE;\n",
              "      border: none;\n",
              "      border-radius: 50%;\n",
              "      cursor: pointer;\n",
              "      display: none;\n",
              "      fill: #1967D2;\n",
              "      height: 32px;\n",
              "      padding: 0 0 0 0;\n",
              "      width: 32px;\n",
              "    }\n",
              "\n",
              "    .colab-df-convert:hover {\n",
              "      background-color: #E2EBFA;\n",
              "      box-shadow: 0px 1px 2px rgba(60, 64, 67, 0.3), 0px 1px 3px 1px rgba(60, 64, 67, 0.15);\n",
              "      fill: #174EA6;\n",
              "    }\n",
              "\n",
              "    [theme=dark] .colab-df-convert {\n",
              "      background-color: #3B4455;\n",
              "      fill: #D2E3FC;\n",
              "    }\n",
              "\n",
              "    [theme=dark] .colab-df-convert:hover {\n",
              "      background-color: #434B5C;\n",
              "      box-shadow: 0px 1px 3px 1px rgba(0, 0, 0, 0.15);\n",
              "      filter: drop-shadow(0px 1px 2px rgba(0, 0, 0, 0.3));\n",
              "      fill: #FFFFFF;\n",
              "    }\n",
              "  </style>\n",
              "\n",
              "      <script>\n",
              "        const buttonEl =\n",
              "          document.querySelector('#df-dc4c6a3a-0d11-404a-8218-643dbd065207 button.colab-df-convert');\n",
              "        buttonEl.style.display =\n",
              "          google.colab.kernel.accessAllowed ? 'block' : 'none';\n",
              "\n",
              "        async function convertToInteractive(key) {\n",
              "          const element = document.querySelector('#df-dc4c6a3a-0d11-404a-8218-643dbd065207');\n",
              "          const dataTable =\n",
              "            await google.colab.kernel.invokeFunction('convertToInteractive',\n",
              "                                                     [key], {});\n",
              "          if (!dataTable) return;\n",
              "\n",
              "          const docLinkHtml = 'Like what you see? Visit the ' +\n",
              "            '<a target=\"_blank\" href=https://colab.research.google.com/notebooks/data_table.ipynb>data table notebook</a>'\n",
              "            + ' to learn more about interactive tables.';\n",
              "          element.innerHTML = '';\n",
              "          dataTable['output_type'] = 'display_data';\n",
              "          await google.colab.output.renderOutput(dataTable, element);\n",
              "          const docLink = document.createElement('div');\n",
              "          docLink.innerHTML = docLinkHtml;\n",
              "          element.appendChild(docLink);\n",
              "        }\n",
              "      </script>\n",
              "    </div>\n",
              "  </div>\n",
              "  "
            ]
          },
          "metadata": {},
          "execution_count": 133
        }
      ]
    },
    {
      "cell_type": "code",
      "source": [
        "final_fn.to_csv('/content/drive/MyDrive/Phase 2 changes/clean_data_fn.csv')"
      ],
      "metadata": {
        "id": "GeHfXK6w-CLg"
      },
      "execution_count": null,
      "outputs": []
    },
    {
      "cell_type": "code",
      "source": [
        "final_g=df_gpt_t[['clean_text_gpt','labels']].reset_index(drop=True)\n",
        "final_g"
      ],
      "metadata": {
        "colab": {
          "base_uri": "https://localhost:8080/",
          "height": 423
        },
        "id": "7CT1aMru5GPN",
        "outputId": "4481c115-4c26-40a2-98a4-1c3bf88b55ba"
      },
      "execution_count": null,
      "outputs": [
        {
          "output_type": "execute_result",
          "data": {
            "text/plain": [
              "                                        clean_text_gpt  labels\n",
              "0    chatgpt optimize language model dialogue https...       1\n",
              "1    try talk chatgpt new ai system optimize dialog...       2\n",
              "2    chatgpt optimize language model dialogue https...       1\n",
              "3    thrill share chatgpt new model optimize dialog...       2\n",
              "4    minute ago openai release new chatgpt n nand u...       0\n",
              "..                                                 ...     ...\n",
              "495  ok sorry crazy chatgpt massive education alrea...       2\n",
              "496  glad hear chatgpt n n rsna radiology ai http c...       1\n",
              "497  openai chatgpt basically jarvis level n nit im...       2\n",
              "498  see enough chatgpt beanie baby profit dm inves...       1\n",
              "499  need someone tell whether provide feedback cha...       0\n",
              "\n",
              "[500 rows x 2 columns]"
            ],
            "text/html": [
              "\n",
              "  <div id=\"df-07b05c68-2761-49dd-b24a-abd8205dba3b\">\n",
              "    <div class=\"colab-df-container\">\n",
              "      <div>\n",
              "<style scoped>\n",
              "    .dataframe tbody tr th:only-of-type {\n",
              "        vertical-align: middle;\n",
              "    }\n",
              "\n",
              "    .dataframe tbody tr th {\n",
              "        vertical-align: top;\n",
              "    }\n",
              "\n",
              "    .dataframe thead th {\n",
              "        text-align: right;\n",
              "    }\n",
              "</style>\n",
              "<table border=\"1\" class=\"dataframe\">\n",
              "  <thead>\n",
              "    <tr style=\"text-align: right;\">\n",
              "      <th></th>\n",
              "      <th>clean_text_gpt</th>\n",
              "      <th>labels</th>\n",
              "    </tr>\n",
              "  </thead>\n",
              "  <tbody>\n",
              "    <tr>\n",
              "      <th>0</th>\n",
              "      <td>chatgpt optimize language model dialogue https...</td>\n",
              "      <td>1</td>\n",
              "    </tr>\n",
              "    <tr>\n",
              "      <th>1</th>\n",
              "      <td>try talk chatgpt new ai system optimize dialog...</td>\n",
              "      <td>2</td>\n",
              "    </tr>\n",
              "    <tr>\n",
              "      <th>2</th>\n",
              "      <td>chatgpt optimize language model dialogue https...</td>\n",
              "      <td>1</td>\n",
              "    </tr>\n",
              "    <tr>\n",
              "      <th>3</th>\n",
              "      <td>thrill share chatgpt new model optimize dialog...</td>\n",
              "      <td>2</td>\n",
              "    </tr>\n",
              "    <tr>\n",
              "      <th>4</th>\n",
              "      <td>minute ago openai release new chatgpt n nand u...</td>\n",
              "      <td>0</td>\n",
              "    </tr>\n",
              "    <tr>\n",
              "      <th>...</th>\n",
              "      <td>...</td>\n",
              "      <td>...</td>\n",
              "    </tr>\n",
              "    <tr>\n",
              "      <th>495</th>\n",
              "      <td>ok sorry crazy chatgpt massive education alrea...</td>\n",
              "      <td>2</td>\n",
              "    </tr>\n",
              "    <tr>\n",
              "      <th>496</th>\n",
              "      <td>glad hear chatgpt n n rsna radiology ai http c...</td>\n",
              "      <td>1</td>\n",
              "    </tr>\n",
              "    <tr>\n",
              "      <th>497</th>\n",
              "      <td>openai chatgpt basically jarvis level n nit im...</td>\n",
              "      <td>2</td>\n",
              "    </tr>\n",
              "    <tr>\n",
              "      <th>498</th>\n",
              "      <td>see enough chatgpt beanie baby profit dm inves...</td>\n",
              "      <td>1</td>\n",
              "    </tr>\n",
              "    <tr>\n",
              "      <th>499</th>\n",
              "      <td>need someone tell whether provide feedback cha...</td>\n",
              "      <td>0</td>\n",
              "    </tr>\n",
              "  </tbody>\n",
              "</table>\n",
              "<p>500 rows × 2 columns</p>\n",
              "</div>\n",
              "      <button class=\"colab-df-convert\" onclick=\"convertToInteractive('df-07b05c68-2761-49dd-b24a-abd8205dba3b')\"\n",
              "              title=\"Convert this dataframe to an interactive table.\"\n",
              "              style=\"display:none;\">\n",
              "        \n",
              "  <svg xmlns=\"http://www.w3.org/2000/svg\" height=\"24px\"viewBox=\"0 0 24 24\"\n",
              "       width=\"24px\">\n",
              "    <path d=\"M0 0h24v24H0V0z\" fill=\"none\"/>\n",
              "    <path d=\"M18.56 5.44l.94 2.06.94-2.06 2.06-.94-2.06-.94-.94-2.06-.94 2.06-2.06.94zm-11 1L8.5 8.5l.94-2.06 2.06-.94-2.06-.94L8.5 2.5l-.94 2.06-2.06.94zm10 10l.94 2.06.94-2.06 2.06-.94-2.06-.94-.94-2.06-.94 2.06-2.06.94z\"/><path d=\"M17.41 7.96l-1.37-1.37c-.4-.4-.92-.59-1.43-.59-.52 0-1.04.2-1.43.59L10.3 9.45l-7.72 7.72c-.78.78-.78 2.05 0 2.83L4 21.41c.39.39.9.59 1.41.59.51 0 1.02-.2 1.41-.59l7.78-7.78 2.81-2.81c.8-.78.8-2.07 0-2.86zM5.41 20L4 18.59l7.72-7.72 1.47 1.35L5.41 20z\"/>\n",
              "  </svg>\n",
              "      </button>\n",
              "      \n",
              "  <style>\n",
              "    .colab-df-container {\n",
              "      display:flex;\n",
              "      flex-wrap:wrap;\n",
              "      gap: 12px;\n",
              "    }\n",
              "\n",
              "    .colab-df-convert {\n",
              "      background-color: #E8F0FE;\n",
              "      border: none;\n",
              "      border-radius: 50%;\n",
              "      cursor: pointer;\n",
              "      display: none;\n",
              "      fill: #1967D2;\n",
              "      height: 32px;\n",
              "      padding: 0 0 0 0;\n",
              "      width: 32px;\n",
              "    }\n",
              "\n",
              "    .colab-df-convert:hover {\n",
              "      background-color: #E2EBFA;\n",
              "      box-shadow: 0px 1px 2px rgba(60, 64, 67, 0.3), 0px 1px 3px 1px rgba(60, 64, 67, 0.15);\n",
              "      fill: #174EA6;\n",
              "    }\n",
              "\n",
              "    [theme=dark] .colab-df-convert {\n",
              "      background-color: #3B4455;\n",
              "      fill: #D2E3FC;\n",
              "    }\n",
              "\n",
              "    [theme=dark] .colab-df-convert:hover {\n",
              "      background-color: #434B5C;\n",
              "      box-shadow: 0px 1px 3px 1px rgba(0, 0, 0, 0.15);\n",
              "      filter: drop-shadow(0px 1px 2px rgba(0, 0, 0, 0.3));\n",
              "      fill: #FFFFFF;\n",
              "    }\n",
              "  </style>\n",
              "\n",
              "      <script>\n",
              "        const buttonEl =\n",
              "          document.querySelector('#df-07b05c68-2761-49dd-b24a-abd8205dba3b button.colab-df-convert');\n",
              "        buttonEl.style.display =\n",
              "          google.colab.kernel.accessAllowed ? 'block' : 'none';\n",
              "\n",
              "        async function convertToInteractive(key) {\n",
              "          const element = document.querySelector('#df-07b05c68-2761-49dd-b24a-abd8205dba3b');\n",
              "          const dataTable =\n",
              "            await google.colab.kernel.invokeFunction('convertToInteractive',\n",
              "                                                     [key], {});\n",
              "          if (!dataTable) return;\n",
              "\n",
              "          const docLinkHtml = 'Like what you see? Visit the ' +\n",
              "            '<a target=\"_blank\" href=https://colab.research.google.com/notebooks/data_table.ipynb>data table notebook</a>'\n",
              "            + ' to learn more about interactive tables.';\n",
              "          element.innerHTML = '';\n",
              "          dataTable['output_type'] = 'display_data';\n",
              "          await google.colab.output.renderOutput(dataTable, element);\n",
              "          const docLink = document.createElement('div');\n",
              "          docLink.innerHTML = docLinkHtml;\n",
              "          element.appendChild(docLink);\n",
              "        }\n",
              "      </script>\n",
              "    </div>\n",
              "  </div>\n",
              "  "
            ]
          },
          "metadata": {},
          "execution_count": 135
        }
      ]
    },
    {
      "cell_type": "code",
      "source": [
        "final_g.to_csv('/content/drive/MyDrive/Phase 2 changes/clean_data_g.csv')"
      ],
      "metadata": {
        "id": "vgMN3EtA5her"
      },
      "execution_count": null,
      "outputs": []
    }
  ]
}